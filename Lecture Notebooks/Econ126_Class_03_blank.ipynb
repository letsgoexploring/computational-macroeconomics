{
    "cells": [
        {
            "cell_type": "code",
            "execution_count": null,
            "metadata": {},
            "outputs": [],
            "source": [
                "import matplotlib.pyplot as plt\n",
                "plt.style.use('classic')\n",
                "%matplotlib inline"
            ]
        },
        {
            "cell_type": "markdown",
            "metadata": {},
            "source": [
                "# Class 3: NumPy\n",
                "\n",
                "NumPy is a powerful Python module for scientific computing. Among other things, NumPy defines an N-dimensional array object that is especially convenient to use for plotting functions and for simulating and storing time series data. NumPy also defines many useful mathematical functions like, for example, the sine, cosine, and exponential functions and has excellent functions for probability and statistics including random number generators, and many cumulative density functions and probability density functions.\n",
                "\n",
                "## Importing NumPy\n",
                "\n",
                "The standard way to import NumPy so that the namespace is `np`. This is for the sake of brevity."
            ]
        },
        {
            "cell_type": "code",
            "execution_count": null,
            "metadata": {},
            "outputs": [],
            "source": []
        },
        {
            "cell_type": "markdown",
            "metadata": {},
            "source": [
                "## NumPy arrays\n",
                "\n",
                "A NumPy `ndarray` is a homogeneous multidimensional array. Here, *homogeneous* means that all of the elements of the array have the same type. An `nadrray` is a table of numbers (like a matrix but with possibly more dimensions) indexed by a tuple of positive integers. The dimensions of NumPy arrays are called axes and the number of axes is called the rank. For this course, we will work almost exclusively with 1-dimensional arrays that are effectively vectors. Occasionally, we might run into a 2-dimensional array.\n",
                "\n",
                "\n",
                "### Basics\n",
                "\n",
                "The most straightforward way to create a NumPy array is to call the `array()` function which takes as an argument a `list`. For example:"
            ]
        },
        {
            "cell_type": "code",
            "execution_count": null,
            "metadata": {},
            "outputs": [],
            "source": [
                "# Create a variable called a1 equal to a numpy array containing the numbers 1 through 5\n",
                "\n",
                "\n",
                "",
                "# Find the type of a1\n",
                "\n",
                "\n",
                "# Find the shape of a1\n",
                "\n",
                "\n",
                "# Use ndim to find the rank or number of dimensions of a1\n"
            ]
        },
        {
            "cell_type": "code",
            "execution_count": null,
            "metadata": {},
            "outputs": [],
            "source": [
                "# Create a variable called a2 equal to a 2-dimensionl numpy array containing the numbers 1 through 4\n",
                "\n",
                "\n",
                "",
                "# Use ndim to find the rank or number of dimensions of a2\n",
                "\n",
                "\n",
                "# Find the shape of a2\n"
            ]
        },
        {
            "cell_type": "code",
            "execution_count": null,
            "metadata": {},
            "outputs": [],
            "source": [
                "# Create a variable called a3 an empty numpy array\n",
                "\n",
                "\n",
                "",
                "# Use ndim to find the rank or number of dimensions of a3\n",
                "\n",
                "\n",
                "# Find the shape of a3\n"
            ]
        },
        {
            "cell_type": "markdown",
            "metadata": {},
            "source": [
                "### Special functions for creating arrays\n",
                "\n",
                "Numpy has several built-in functions that can assist you in creating certain types of arrays: `arange()`, `zeros()`, and `ones()`. Of these, `arange()` is probably the most useful because it allows you a create an array of numbers by specifying the initial value in the array, the maximum value in the array, and a step size between elements. `arange()` has three arguments: `start`, `stop`, and `step`:\n",
                "\n",
                "    arange([start,] stop[, step,])\n",
                "  \n",
                "The `stop` argument is required. The default for `start` is 0 and the default for `step` is 1. Note that the values in the created array will stop one increment *below* stop. That is, if `arange()` is called with `stop` equal to 9 and `step` equal to 0.5, then the last value in the returned array will be 8.5."
            ]
        },
        {
            "cell_type": "code",
            "execution_count": null,
            "metadata": {},
            "outputs": [],
            "source": [
                "# Create a variable called b that is equal to a numpy array containing the numbers 1 through 5\n",
                "\n"
            ]
        },
        {
            "cell_type": "code",
            "execution_count": null,
            "metadata": {},
            "outputs": [],
            "source": [
                "# Create a variable called c that is equal to a numpy array containing the numbers 0 through 10\n",
                "\n"
            ]
        },
        {
            "cell_type": "markdown",
            "metadata": {},
            "source": [
                "The `zeros()` and `ones()` take as arguments the desired shape of the array to be returned and fill that array with either zeros or ones."
            ]
        },
        {
            "cell_type": "code",
            "execution_count": null,
            "metadata": {},
            "outputs": [],
            "source": [
                "# Construct a 1x5 array of zeros\n"
            ]
        },
        {
            "cell_type": "code",
            "execution_count": null,
            "metadata": {},
            "outputs": [],
            "source": [
                "# Construct a 2x2 array of ones\n"
            ]
        },
        {
            "cell_type": "markdown",
            "metadata": {},
            "source": [
                "### Math with NumPy arrays\n",
                "\n",
                "A nice aspect of NumPy arrays is that they are optimized for mathematical operations. The following standard Python arithemtic operators `+`, `-`, `*`, `/`, and `**` operate element-wise on NumPy arrays as the following examples indicate."
            ]
        },
        {
            "cell_type": "code",
            "execution_count": null,
            "metadata": {},
            "outputs": [],
            "source": [
                "# Define three 1-dimensional arrays. CELL PROVIDED\n",
                "A = np.array([2,4,6])\n",
                "B = np.array([3,2,1])\n",
                "C = np.array([-1,3,2,-4])"
            ]
        },
        {
            "cell_type": "code",
            "execution_count": null,
            "metadata": {},
            "outputs": [],
            "source": [
                "# Multiply A by a constant\n"
            ]
        },
        {
            "cell_type": "code",
            "execution_count": null,
            "metadata": {},
            "outputs": [],
            "source": [
                "# Exponentiate A\n"
            ]
        },
        {
            "cell_type": "code",
            "execution_count": null,
            "metadata": {},
            "outputs": [],
            "source": [
                "# Add A and B together\n"
            ]
        },
        {
            "cell_type": "code",
            "execution_count": null,
            "metadata": {},
            "outputs": [],
            "source": [
                "# Exponentiate A with B\n"
            ]
        },
        {
            "cell_type": "code",
            "execution_count": null,
            "metadata": {},
            "outputs": [],
            "source": [
                "# Add A and C together\n"
            ]
        },
        {
            "cell_type": "markdown",
            "metadata": {},
            "source": [
                "The error in the preceding example arises because addition is element-wise and `A` and `C` don't have the same shape."
            ]
        },
        {
            "cell_type": "code",
            "execution_count": null,
            "metadata": {},
            "outputs": [],
            "source": [
                "# Compute the sine of the values in A\n"
            ]
        },
        {
            "cell_type": "markdown",
            "metadata": {},
            "source": [
                "### Iterating through Numpy arrays\n",
                "\n",
                "NumPy arrays are iterable objects just like lists, strings, tuples, and dictionaries which means that you can use `for` loops to iterate through the elements of them."
            ]
        },
        {
            "cell_type": "code",
            "execution_count": null,
            "metadata": {},
            "outputs": [],
            "source": [
                "# Use a for loop with a NumPy array to print the numbers 0 through 4\n",
                "\n"
            ]
        },
        {
            "cell_type": "markdown",
            "metadata": {},
            "source": [
                "### Example: Basel problem\n",
                "\n",
                "One of my favorite math equations is:\n",
                "\n",
                "\\begin{align}\n",
                "\\sum_{n=1}^{\\infty} \\frac{1}{n^2} & = \\frac{\\pi^2}{6}\n",
                "\\end{align}\n",
                "\n",
                "We can use an iteration through a NumPy array to approximate the lefthand-side and verify the validity of the expression."
            ]
        },
        {
            "cell_type": "code",
            "execution_count": null,
            "metadata": {},
            "outputs": [],
            "source": [
                "# Set N equal to the number of terms to sum\n",
                "\n",
                "\n",
                "# Initialize a variable called summation equal to 0\n",
                "\n",
                "\n",
                "# loop over the numbers 1 through N\n",
                "\n",
                "\n",
                "",
                "# Print the approximation and the exact solution\n",
                "\n"
            ]
        },
        {
            "cell_type": "markdown",
            "metadata": {},
            "source": [
                "## Random numbers and statistics\n",
                "\n",
                "NumPy has many useful routines for generating draws from probability distributions. Random number generation is useful for computing dynamic simulations of stochastic economies. NumPy also has some routines for computing basic summary statistics (min, max, mean, median, variance) for data in an array.\n",
                "\n",
                "For more advanced applications involving probability distributions, use SciPy's `scipy.stats` module (https://docs.scipy.org/doc/scipy-0.16.1/reference/stats.html). And for estimating statisticsl models (e.g., OLS models) use StatsModels (https://www.statsmodels.org/stable/index.html)."
            ]
        },
        {
            "cell_type": "code",
            "execution_count": null,
            "metadata": {},
            "outputs": [],
            "source": [
                "# Use the help function to view documentation on the np.random.uniform function\n"
            ]
        },
        {
            "cell_type": "code",
            "execution_count": null,
            "metadata": {},
            "outputs": [],
            "source": [
                "# Print a random draw from the uniform(0,1) probability distribution.\n"
            ]
        },
        {
            "cell_type": "markdown",
            "metadata": {},
            "source": [
                "In the previous example, everyone will obtain different output for `np.random.uniform()`. However, we can set the *seed* for NumPy's PRNG (pseudorandom number generator) with the function `np.random.seed()`. Setting the seed before generating a random sequence can ensure replicability of results."
            ]
        },
        {
            "cell_type": "code",
            "execution_count": null,
            "metadata": {},
            "outputs": [],
            "source": [
                "# Set the seed for the NumPy random number generator to 271828\n",
                "\n",
                "\n",
                "# Print a random draw from the uniform(0,1) probability distribution.\n"
            ]
        },
        {
            "cell_type": "markdown",
            "metadata": {},
            "source": [
                "### Example: Random Draws from $\\text{uniform}(-1,1)$ Distribution\n",
                "\n",
                "Create a sample of 200 draws from the $\\text{uniform}(-1,1)$ distribution. Compute some summary statistics. Plot the sample."
            ]
        },
        {
            "cell_type": "code",
            "execution_count": null,
            "metadata": {},
            "outputs": [],
            "source": [
                "# Set the seed for the NumPy random number generator to 314159\n",
                "\n",
                "\n",
                "# Create a variable called 'uniform_data' containing 200 random draw from the uniform(-1,1) probability distribution.\n",
                "\n",
                "\n",
                "# Print the variable uniform_data\n"
            ]
        },
        {
            "cell_type": "code",
            "execution_count": null,
            "metadata": {},
            "outputs": [],
            "source": [
                "# Print the mean of the values in variable uniform_data\n",
                "\n",
                "\n",
                "# Print the median of the values in variable uniform_data\n",
                "\n",
                "\n",
                "# Print the standard deviation of the values in variable uniform_data\n",
                "\n",
                "\n",
                "# Print the maximum of the values in variable uniform_data\n",
                "\n",
                "\n",
                "# Print the index value of the arg max of the values in variable uniform_data\n"
            ]
        },
        {
            "cell_type": "code",
            "execution_count": null,
            "metadata": {},
            "outputs": [],
            "source": [
                "# Create a variable called index_max equal to the argmax of data. Print the corresponding element of uniform_data\n",
                "\n"
            ]
        },
        {
            "cell_type": "code",
            "execution_count": null,
            "metadata": {},
            "outputs": [],
            "source": [
                "# Plot random sample\n",
                "\n",
                "\n",
                ""
            ]
        },
        {
            "cell_type": "markdown",
            "metadata": {},
            "source": [
                "### Example: Random Draws from $\\text{normal}\\left(0,\\frac{1}{3}\\right)$ Distribution\n",
                "\n",
                "Create a sample of 200 draws from a normal distribution with mean 0 and variance $\\frac{1}{3}$. Note that the variance of the $\\text{uniform}(-1,1)$ distribution from the previous example has the same variance See: https://en.wikipedia.org/wiki/Uniform_distribution_(continuous).\n",
                "\n",
                "Compute some summary statistics. Plot the sample."
            ]
        },
        {
            "cell_type": "code",
            "execution_count": null,
            "metadata": {},
            "outputs": [],
            "source": [
                "# Use the help function to view documentation on the np.random.normal function\n"
            ]
        },
        {
            "cell_type": "code",
            "execution_count": null,
            "metadata": {},
            "outputs": [],
            "source": [
                "# Set the seed for the NumPy random number generator to 314159\n",
                "\n",
                "\n",
                "# Create a variable called 'normal_data' containing 200 random draw from the normal(0,1/3) probability distribution.\n",
                "\n",
                "\n",
                "# Print the variable normal_data\n"
            ]
        },
        {
            "cell_type": "code",
            "execution_count": null,
            "metadata": {},
            "outputs": [],
            "source": [
                "# Print the mean of the values in variable normal_data\n",
                "\n",
                "\n",
                "# Print the median of variable the values in normal_data\n",
                "\n",
                "\n",
                "# Print the standard deviation of the values in variable normal_data\n",
                "\n",
                "\n",
                "# Print the maximum of the values in variable normal_data\n",
                "\n",
                "\n",
                "# Print the index value of the arg max of the values in variable normal_data\n"
            ]
        },
        {
            "cell_type": "code",
            "execution_count": null,
            "metadata": {},
            "outputs": [],
            "source": [
                "# Create a variable called 'index_max' equal to the argmax of data. Print corresponding element of normal_data\n",
                "\n"
            ]
        },
        {
            "cell_type": "code",
            "execution_count": null,
            "metadata": {},
            "outputs": [],
            "source": [
                "# Plot the random sample\n",
                "\n",
                "\n",
                ""
            ]
        },
        {
            "cell_type": "code",
            "execution_count": null,
            "metadata": {},
            "outputs": [],
            "source": [
                "# Plot the uniform and normal samples together on the same axes\n",
                "\n",
                "\n",
                "",
                "",
                ""
            ]
        }
    ],
    "metadata": {
        "anaconda-cloud": {},
        "kernelspec": {
            "display_name": "Python 3 (ipykernel)",
            "language": "python",
            "name": "python3"
        },
        "language_info": {
            "codemirror_mode": {
                "name": "ipython",
                "version": 3
            },
            "file_extension": ".py",
            "mimetype": "text/x-python",
            "name": "python",
            "nbconvert_exporter": "python",
            "pygments_lexer": "ipython3",
            "version": "3.9.12"
        }
    },
    "nbformat": 4,
    "nbformat_minor": 1
}