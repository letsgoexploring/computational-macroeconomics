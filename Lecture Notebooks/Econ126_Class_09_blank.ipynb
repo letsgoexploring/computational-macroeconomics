{
    "cells": [
        {
            "cell_type": "code",
            "execution_count": null,
            "metadata": {},
            "outputs": [],
            "source": [
                "import numpy as np\n",
                "import pandas as pd\n",
                "import matplotlib.pyplot as plt\n",
                "plt.style.use('classic')\n",
                "%matplotlib inline"
            ]
        },
        {
            "cell_type": "markdown",
            "metadata": {},
            "source": [
                "# Class 9: Introduction to Business Cycle Data\n",
                "\n",
                "The *business cycle* is the fluctuation of many macroeconomic quantities that last for about 1.5 to 8 years. Colloquially, the term refers to the alternating periods of expansion and contraction in the macroeconomy. Business cycle fluctuations are costly because they are associated with misallocations of capital and labor. Recessions are particularly painful for workers that become unemployed and for the families of workers who become unemployed. The costs of the business cycle have driven research into understanding the cause of the cycle. \n",
                "\n",
                "The collective set of theories to explain the cycle is called *business cycle theory* and eventually we'll study and critique two competing theoretical perspectives. However, before we approach the theory, we should first uncover some empirical facts about the business cycle that models should be able to explain.\n",
                "\n",
                "In this lecture, we will:\n",
                "\n",
                "1. Visualize the difference between the trend and cyclical components of GDP, consumption, investent, and hours.\n",
                "2. Compute the percent deviations from trend of GDP, consumption, investent, and hours.\n",
                "3. Compute summary statistics about the business cycle that models of the cycle should be able to explain."
            ]
        },
        {
            "cell_type": "markdown",
            "metadata": {},
            "source": [
                "## Data\n",
                "\n",
                "The file `rbc_data_actual_trend.csv`, available at https://raw.githubusercontent.com/letsgoexploring/computational-macroeconomics/master/Data/Csv/rbc_data_actual_trend.csv, contains actual and trend data for real GDP per capita, real consumption per capita, real investment per capita, real physical capital per capita, TFP, and hours per capita at quarterly frequency. The GDP, consumption, investment, and capital data are in terms of 2012 dollars. Hours is measured as an index with the value in October 2012 set to 100. All of the data are *real* quantities. That is, there are no *nominal* quantities like money or inflation or a nominal interest rate. The reason is that the first theory that we will encounter is called *real business cycle* or RBC theory and, in that theory, there is no place for nominal quantities. RBC theory seeks to explain fluctuations in real quantities as being primarily due to TFP shocks; i.e., shocks to the production function."
            ]
        },
        {
            "cell_type": "code",
            "execution_count": null,
            "metadata": {},
            "outputs": [],
            "source": [
                "# Read business_cycle_data_actual_trend.csv into a Pandas DataFrame with the first column set as the index and parse_dates=True\n",
                "\n",
                "\n",
                "# Print the last five rows of the data\n"
            ]
        },
        {
            "cell_type": "code",
            "execution_count": null,
            "metadata": {},
            "outputs": [],
            "source": [
                "# Construct a 2x2 grid of plots of GDP, consumption, investment, and hours. CELL PROVIDED\n",
                "\n",
                "# Load metadata for dataset and set base_year\n",
                "pwt_metadata = pd.read_csv('https://raw.githubusercontent.com/letsgoexploring/computational-macroeconomics/master/Data/Csv/pwt_metadata.csv',index_col=0)['Values']\n",
                "base_year = pwt_metadata['base_year']\n",
                "\n",
                "fig = plt.figure(figsize=(12,8))\n",
                "\n",
                "ax1 = fig.add_subplot(2,2,1)\n",
                "ax1.plot(df.gdp,'-',lw=3,alpha = 0.7)\n",
                "ax1.grid()\n",
                "ax1.set_title('GDP per capita')\n",
                "ax1.set_ylabel('Thousands of '+base_year+' dollars')\n",
                "\n",
                "ax2 = fig.add_subplot(2,2,2)\n",
                "ax2.plot(df.consumption,'-',lw=3,alpha = 0.7)\n",
                "ax2.grid()\n",
                "ax2.set_title('Consumption per capita')\n",
                "ax2.set_ylabel('Thousands of '+base_year+' dollars')\n",
                "\n",
                "ax3 = fig.add_subplot(2,2,3)\n",
                "ax3.plot(df.investment,'-',lw=3,alpha = 0.7)\n",
                "ax3.grid()\n",
                "ax3.set_title('Investment per capita')\n",
                "ax3.set_ylabel('Thousands of '+base_year+' dollars')\n",
                "\n",
                "ax4 = fig.add_subplot(2,2,4)\n",
                "ax4.plot(df.hours,'-',lw=3,alpha = 0.7)\n",
                "ax4.grid()\n",
                "ax4.set_title('Hours per capita')\n",
                "ax4.set_ylabel('Index ('+base_year+'=100)')\n",
                "\n",
                "fig.tight_layout()"
            ]
        },
        {
            "cell_type": "markdown",
            "metadata": {},
            "source": [
                "## Cycles and Trends\n",
                "\n",
                "Business cycle theory is tested against data. However, data on the business cycle data is not readily available and must be constructed. A time series $X_t$ can be decomposed into a trend component $X_t^{trend}$ and a cyclical component $X_t^{cycle}$ such that:\n",
                "\n",
                "\\begin{align}\n",
                "X_t & = X_t^{trend} + X_t^{cycle}. \\tag{1}\n",
                "\\end{align}\n",
                "\n",
                "In equation (1), $X_t^{trend}$ is the long-run value about which $X_t$ fluctuates. $X^{cycle}_t$ is the amount by which $X_t$ excedes its trend. The process for decomposing a series into trend and cyclical components is called *filtering* and is more technical than we want to get into. We'll take for granted that such procedures exist.\n",
                "\n",
                "Often times, it's useful to express the cyclical component of a time series as the percent deviation of the series from trend (divided by 100):\n",
                "\n",
                "\\begin{align}\n",
                "\\hat{x}_t & = \\frac{X_t-X_t^{trend}}{X_t^{trend}} = \\frac{X_t^{cycle}}{X_t^{trend}}\n",
                "\\end{align} \n",
                "\n",
                "Note that the percent deviation of the series from trend (divided by 100) is approximately equal to the difference between the (natural) log of the series and the log of the trend:\n",
                "\n",
                "\\begin{align}\n",
                "\\frac{X_t-X_t^{trend}}{X_t^{trend}} \\approx \\log\\left(X_t\\right) - \\log\\left(X_t^{trend}\\right) \n",
                "\\end{align}\n",
                "\n",
                "This last fact can make computation a little easier and, in some cases, helps to reconcile theory with data."
            ]
        },
        {
            "cell_type": "markdown",
            "metadata": {},
            "source": [
                "### GDP"
            ]
        },
        {
            "cell_type": "code",
            "execution_count": null,
            "metadata": {},
            "outputs": [],
            "source": [
                "# Construct a plot of real GDP with its trend with:\n",
                "#    1. Actual line: blue with lw=1, alpha=0.7, label = 'actual'\n",
                "#    2. Trend line:  red with lw=3, alpha=0.7, label = 'trend'\n",
                "\n",
                "\n",
                "",
                "",
                "",
                ""
            ]
        },
        {
            "cell_type": "code",
            "execution_count": null,
            "metadata": {},
            "outputs": [],
            "source": [
                "# Create a new column called gdp_cycle_dev equal to the percent deviation of actual \n",
                "# GDP relative to trend GDP (divided by 100):\n",
                "\n",
                "\n",
                "# Plot the percent deviation of GDP from its trend\n",
                "\n",
                "\n",
                "",
                ""
            ]
        },
        {
            "cell_type": "markdown",
            "metadata": {},
            "source": [
                "### Consumption, Investment, and Hours"
            ]
        },
        {
            "cell_type": "code",
            "execution_count": null,
            "metadata": {},
            "outputs": [],
            "source": [
                "# Create a new column called cons_cycle_dev, invest_cycle_dev, and hours_cycle_dev equal to the log difference between \n",
                "# the actual and trend values of the respective series:\n",
                "\n",
                "\n",
                ""
            ]
        },
        {
            "cell_type": "code",
            "execution_count": null,
            "metadata": {},
            "outputs": [],
            "source": [
                "# Construct a plot of consumption with its trend\n",
                "#    1. Actual line: blue with lw=1, alpha=0.7, label = 'actual'\n",
                "#    2. Trend line:  red with lw=3, alpha=0.7, label = 'trend'\n",
                "\n",
                "\n",
                "",
                "",
                "",
                ""
            ]
        },
        {
            "cell_type": "code",
            "execution_count": null,
            "metadata": {},
            "outputs": [],
            "source": [
                "# Plot the percent deviation of consumption from its trend\n",
                "\n",
                "\n",
                "",
                ""
            ]
        },
        {
            "cell_type": "code",
            "execution_count": null,
            "metadata": {},
            "outputs": [],
            "source": [
                "# Construct a plot of investment with its trend\n",
                "#    1. Actual line: blue with lw=1, alpha=0.7, label = 'actual'\n",
                "#    2. Trend line:  red with lw=3, alpha=0.7, label = 'trend'\n",
                "\n",
                "\n",
                "",
                "",
                "",
                ""
            ]
        },
        {
            "cell_type": "code",
            "execution_count": null,
            "metadata": {},
            "outputs": [],
            "source": [
                "# Plot the percent deviation of investment from its trend\n",
                "\n",
                "\n",
                "",
                ""
            ]
        },
        {
            "cell_type": "code",
            "execution_count": null,
            "metadata": {},
            "outputs": [],
            "source": [
                "# Construct a plot of hours with its trend\n",
                "#    1. Actual line: blue with lw=1, alpha=0.7, label = 'actual'\n",
                "#    2. Trend line:  red with lw=3, alpha=0.7, label = 'trend'\n",
                "\n",
                "\n",
                "",
                "",
                "",
                ""
            ]
        },
        {
            "cell_type": "code",
            "execution_count": null,
            "metadata": {},
            "outputs": [],
            "source": [
                "# Plot the percent deviation of hours from its trend\n",
                "\n",
                "\n",
                "",
                ""
            ]
        },
        {
            "cell_type": "markdown",
            "metadata": {},
            "source": [
                "## US Business Cycle Statistics"
            ]
        },
        {
            "cell_type": "code",
            "execution_count": null,
            "metadata": {},
            "outputs": [],
            "source": [
                "# Create a new variable called df_cycle that is a DataFrame with columns columns gdp_cycle_dev, cons_cycle_dev, \n",
                "# invest_cycle_dev, and hours_cycle_dev from df.\n",
                "\n",
                "\n",
                "# Print the first five rows of df_cycle\n"
            ]
        },
        {
            "cell_type": "code",
            "execution_count": null,
            "metadata": {},
            "outputs": [],
            "source": [
                "# Use the DataFrame method .mean() to find the average values of the gdp_cycle_dev, cons_cycle_dev, invest_cycle_dev, \n",
                "# and hours_cycle_dev columns\n"
            ]
        },
        {
            "cell_type": "code",
            "execution_count": null,
            "metadata": {},
            "outputs": [],
            "source": [
                "# Use the DataFrame method .std() to find the standard deviations of the gdp_cycle_dev, cons_cycle_dev, invest_cycle_dev, \n",
                "# and hours_cycle_dev columns\n"
            ]
        },
        {
            "cell_type": "code",
            "execution_count": null,
            "metadata": {},
            "outputs": [],
            "source": [
                "# Use the DataFrame method .corr() to find the coefficients of correlation among the gdp_cycle_dev, cons_cycle_dev, \n",
                "# invest_cycle_dev, and hours_cycle_dev columns\n"
            ]
        },
        {
            "cell_type": "markdown",
            "metadata": {},
            "source": [
                "**Questions**\n",
                "\n",
                "1. Which quantity varies the most over the business cycle?\n",
                "2. Which quantity varies the least over the business cycle?\n",
                "3. Which quantity is most correlated with GDP over the business cycle?"
            ]
        },
        {
            "cell_type": "markdown",
            "metadata": {},
            "source": [
                "**Answers**\n",
                "\n",
                "1.  \n\n",
                "2.  \n\n",
                "3.  "
            ]
        },
        {
            "cell_type": "code",
            "execution_count": null,
            "metadata": {},
            "outputs": [],
            "source": [
                "# Plot the cyclical components of GDP, consumption, investment, and hours (all times 100) on the same set of axes\n",
                "\n",
                "\n",
                "",
                "",
                "",
                "",
                ""
            ]
        }
    ],
    "metadata": {
        "anaconda-cloud": {},
        "kernelspec": {
            "display_name": "Python 3 (ipykernel)",
            "language": "python",
            "name": "python3"
        },
        "language_info": {
            "codemirror_mode": {
                "name": "ipython",
                "version": 3
            },
            "file_extension": ".py",
            "mimetype": "text/x-python",
            "name": "python",
            "nbconvert_exporter": "python",
            "pygments_lexer": "ipython3",
            "version": "3.9.12"
        }
    },
    "nbformat": 4,
    "nbformat_minor": 1
}