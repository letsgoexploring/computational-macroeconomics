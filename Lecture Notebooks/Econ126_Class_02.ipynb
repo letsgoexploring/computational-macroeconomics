{
 "cells": [
  {
   "cell_type": "markdown",
   "metadata": {},
   "source": [
    "# Class 2: Python basics\n",
    "\n",
    "This is a quick introduction to progamming with Python (Python 3 in particular). The objective is to develop a small foundation that can be strengthened with examples as the course progresses. An excellent print resource is *Python Programming for Beginners* by Jason Cannon. A more comprehensive reference is *Python 3 for Absolute Beginners* by Tim Hall and J-P Stacey (Available as a free PDF download from the UCI library). Chapter 2 from *Economic Dynamics* by John Stachurski is an exceletn introduction to both programming in general and programming in Python specifically. *Part 1: Programming in Python* of Thomas J. Sargent and John Stachurski’s Python lectures at http://lectures.quantecon.org/py/index.html also contains a nice introduction."
   ]
  },
  {
   "cell_type": "markdown",
   "metadata": {},
   "source": [
    "## Functions and the `help()` function\n",
    "\n",
    "A *function* is a block of reusable code that does something. Each function has a name and the name is used to call the function. Sometimes functions require one or more inputs called *arguments*. Individual arguments may be either *required* or *optional* depending on the function. Python includes many built-in functions. You may also create a *user-defined* function by defining your own function and we'll cover how to do that later.\n",
    "\n",
    "Two of the most important built-in functions are the `print()` and `help()` functions. The `print()` function does what you think it might: it prints to the screen the value of whatever is inside the parentheses. For example:"
   ]
  },
  {
   "cell_type": "code",
   "execution_count": 1,
   "metadata": {},
   "outputs": [
    {
     "name": "stdout",
     "output_type": "stream",
     "text": [
      "3.14159\n"
     ]
    }
   ],
   "source": [
    "# Print the first several digits of pi (3.14159...):\n",
    "print(3.14159)"
   ]
  },
  {
   "cell_type": "markdown",
   "metadata": {},
   "source": [
    "Notice that the line `# Print the first several digits of pi (3.14159...):` doesn't do anything. In Python, any line that begins with the `#` symbol is a comment line. Comments are ignored by the Python interpretter and are used to provide notes to the program author and to others about what the code does. Good comments make code much more readable to others and to your future self and it's good practice to thoroughly comment your code.\n",
    "\n",
    "Now, suppose that I didn't know how to use the `print()` function. How could I learn how to use it? One option would be to search the internet for documentation or examples and this is a prefectly reasonable thing to do. Another option is to use another built-in function: `help()`. For example:"
   ]
  },
  {
   "cell_type": "code",
   "execution_count": 2,
   "metadata": {},
   "outputs": [
    {
     "name": "stdout",
     "output_type": "stream",
     "text": [
      "Help on built-in function print in module builtins:\n",
      "\n",
      "print(...)\n",
      "    print(value, ..., sep=' ', end='\\n', file=sys.stdout, flush=False)\n",
      "    \n",
      "    Prints the values to a stream, or to sys.stdout by default.\n",
      "    Optional keyword arguments:\n",
      "    file:  a file-like object (stream); defaults to the current sys.stdout.\n",
      "    sep:   string inserted between values, default a space.\n",
      "    end:   string appended after the last value, default a newline.\n",
      "    flush: whether to forcibly flush the stream.\n",
      "\n"
     ]
    }
   ],
   "source": [
    "# Use the help function to learn about the print function\n",
    "help(print)"
   ]
  },
  {
   "cell_type": "markdown",
   "metadata": {},
   "source": [
    "The output indicates that `print()` has the following arguments `value, ..., sep=' ', end='\\n', file=sys.stdout, flush=False`. Of the arguments, `value, ...` refers to an arbitrary *set* of values separated by commas and these are required. The other arguments are *keyword arguments* and they have default values (you can tell because of the equals signs) so they're optional. So suppose that I want to print out the numbers 1, 2, 3, 4, 5:"
   ]
  },
  {
   "cell_type": "code",
   "execution_count": 3,
   "metadata": {
    "scrolled": true
   },
   "outputs": [
    {
     "name": "stdout",
     "output_type": "stream",
     "text": [
      "1 2 3 4 5\n",
      "1,2,3,4,5\n",
      "1, 2, 3, 4, 5\n"
     ]
    }
   ],
   "source": [
    "# Print the numbers 1 through 5:\n",
    "print(1,2,3,4,5)\n",
    "\n",
    "# Print the numbers 1 through 5 separated by a comma:\n",
    "print(1,2,3,4,5,sep=',')\n",
    "\n",
    "# Print the numbers 1 through 5 separated by a comma and a space:\n",
    "print(1,2,3,4,5,sep=', ')"
   ]
  },
  {
   "cell_type": "markdown",
   "metadata": {},
   "source": [
    "You can find a list of the built-in functions for Python here: https://docs.python.org/3/library/functions.html. We'll encounter several of them later. In the meantime, try using the `help()` function to find out what some of the other built-in functions do."
   ]
  },
  {
   "cell_type": "markdown",
   "metadata": {},
   "source": [
    "## Error Messages\n",
    "\n",
    "If you spend more than about 30 seconds with Python, then you're going to encounter an error message. Fortunately, Python's error messages often give you the location in your code of the error in your code is and a description of the error. For example, the following block of code returns an error:"
   ]
  },
  {
   "cell_type": "code",
   "execution_count": 4,
   "metadata": {},
   "outputs": [
    {
     "ename": "NameError",
     "evalue": "name 'x' is not defined",
     "output_type": "error",
     "traceback": [
      "\u001b[0;31m---------------------------------------------------------------------------\u001b[0m",
      "\u001b[0;31mNameError\u001b[0m                                 Traceback (most recent call last)",
      "\u001b[0;32m/var/folders/2y/bf4r93z50dv9pb_621_rr26w0000gn/T/ipykernel_39418/2662107381.py\u001b[0m in \u001b[0;36m<module>\u001b[0;34m\u001b[0m\n\u001b[1;32m      1\u001b[0m \u001b[0;31m# print the value of an as-yet undefined variable called x\u001b[0m\u001b[0;34m\u001b[0m\u001b[0;34m\u001b[0m\u001b[0m\n\u001b[0;32m----> 2\u001b[0;31m \u001b[0mprint\u001b[0m\u001b[0;34m(\u001b[0m\u001b[0mx\u001b[0m\u001b[0;34m)\u001b[0m\u001b[0;34m\u001b[0m\u001b[0;34m\u001b[0m\u001b[0m\n\u001b[0m",
      "\u001b[0;31mNameError\u001b[0m: name 'x' is not defined"
     ]
    }
   ],
   "source": [
    "# print the value of an as-yet undefined variable called x\n",
    "print(x)"
   ]
  },
  {
   "cell_type": "markdown",
   "metadata": {},
   "source": [
    "In trying to print the value of the variable `x`, we're told that there is a `NameError` beacuase `'x' is not defined`. This means that a value for `x` should be assiged before calling the `print()` function. The following block works because it assigns a value to `x` before calling `print()`:"
   ]
  },
  {
   "cell_type": "code",
   "execution_count": 5,
   "metadata": {},
   "outputs": [
    {
     "name": "stdout",
     "output_type": "stream",
     "text": [
      "2.71828\n"
     ]
    }
   ],
   "source": [
    "# Set the value of x equal to the constant x = 2.71828... and print x\n",
    "x = 2.71828\n",
    "print(x)"
   ]
  },
  {
   "cell_type": "markdown",
   "metadata": {},
   "source": [
    "You should carefully read error messages because at a minimum they tell you exactly *where* the problem is and often *what* the problem is."
   ]
  },
  {
   "cell_type": "markdown",
   "metadata": {},
   "source": [
    "## Variables\n",
    "\n",
    "A variable is a named location in the computer's memory that stores a value. When you create a variable, you specify the name of the variable and you assign a value to that variable using something like:\n",
    "\n",
    "    variable_name = value\n",
    "    \n",
    "Here:\n",
    "\n",
    "* variable names are case-sensitive.\n",
    "* variable names can contain letters, numbers, and underscores \"_\"\n",
    "* variable names must start with a letter or an underscore\n",
    "* variable names cannot be one of built-in Python keywords: `False`, `None`, `True`, `and`, `as`, `assert`, `async`, `await`, `break`, `class`, `continue`, `def`, `del`, `elif`, `else`, `except`, `finally`, `for`, `from`, `global`, `if`, `import`, `in`, `is`, `lambda`, `nonlocal`, `not`, `or`, `pass`, `raise`, `return`, `try`, `while`, `with`, `yield`\n",
    "\n",
    "Some examples of valid variable names:\n",
    "\n",
    "* `x`, `y`, and `z`\n",
    "* `variable1` and `variable2`\n",
    "* `capital` and `labor`\n",
    "* `arg_max` and `arg_min`\n",
    "* `homeAddress` and `workAddress`\n",
    "\n",
    "You should try to give variables meaningful names to make your code easier to read. For example, if you have a variable that stores the value of GDP for a country, then naming the variable `gdp` or `output` instead of `y` will improve the readability of your code."
   ]
  },
  {
   "cell_type": "code",
   "execution_count": 6,
   "metadata": {},
   "outputs": [
    {
     "name": "stdout",
     "output_type": "stream",
     "text": [
      "x: 10\n",
      "y: 3\n"
     ]
    }
   ],
   "source": [
    "# Create a variable called x that is equal to 10\n",
    "x = 10\n",
    "\n",
    "# Create a variable called y that is equal to 3\n",
    "y = 3\n",
    "\n",
    "# Print the values of x and y\n",
    "print('x:',x)\n",
    "print('y:',y)\n",
    "\n",
    "# Create a variable called z that is equal to x / y and print the value of z\n",
    "z = x/y"
   ]
  },
  {
   "cell_type": "markdown",
   "metadata": {},
   "source": [
    "Everything in Python is an *object* and all objects have *types*. Among other things, an objects type determines what operations may be performed on the object and so it's worth getting making sure that you know the type of every variable you create. You can check the object type of a variable using the built-in function `type()`."
   ]
  },
  {
   "cell_type": "code",
   "execution_count": 7,
   "metadata": {},
   "outputs": [
    {
     "name": "stdout",
     "output_type": "stream",
     "text": [
      "type of x: <class 'int'>\n",
      "type of z: <class 'float'>\n"
     ]
    }
   ],
   "source": [
    "# Print the types of x and z\n",
    "print('type of x:',type(x))\n",
    "print('type of z:',type(z))"
   ]
  },
  {
   "cell_type": "markdown",
   "metadata": {},
   "source": [
    "## Strings\n",
    "\n",
    "Strings are representations of text. They are useful for printing the output of a routine, for supplying text properties of graphs like titles and legend entries, and for storing some types of data; e.g., html code for a webpage or names of a group of people.\n",
    "\n",
    "Create a variable with a string value by using either single quotations `'` or double quotations `\"`. So, for example:\n",
    "\n",
    "    first_name = 'Brian'\n",
    "    last_name = \"Jenkins\"\n",
    "\n",
    "will create two variables to store my first and last names. Use of the double or single quotations is a matter of prefernce but you should be consistent. Pick which you prefer and stick with that. Note that if you want to create a string containing a single quote, then you should either use double quotes around the string characters or use `\\'` for the single quote:\n",
    "\n",
    "    option1 = \"Brian's\"\n",
    "    option2 = 'Brian\\'s'"
   ]
  },
  {
   "cell_type": "code",
   "execution_count": 8,
   "metadata": {},
   "outputs": [
    {
     "name": "stdout",
     "output_type": "stream",
     "text": [
      "<class 'str'>\n"
     ]
    }
   ],
   "source": [
    "# Create a variable called first_name and set it equal to your first name.\n",
    "first_name='Brian'\n",
    "\n",
    "# Create a variable called last_name and set it equal to your last name.\n",
    "last_name='Jenkins'\n",
    "\n",
    "\n",
    "# Print the type of the variable first_name\n",
    "print(type(first_name))"
   ]
  },
  {
   "cell_type": "markdown",
   "metadata": {},
   "source": [
    "### Concatenating strings\n",
    "\n",
    "Strings can be added together or *concatenated* using the \"`+`\" sign. For example:\n",
    "\n",
    "    'ant'+'eater'\n",
    "\n",
    "returns:\n",
    "\n",
    "    'anteater'"
   ]
  },
  {
   "cell_type": "code",
   "execution_count": 9,
   "metadata": {},
   "outputs": [
    {
     "name": "stdout",
     "output_type": "stream",
     "text": [
      "Brian Jenkins\n",
      "Jenkins, Brian\n"
     ]
    }
   ],
   "source": [
    "# Use string addition to define a new variable called first_last that \n",
    "# is equal to your first and last names separated by a space and print\n",
    "first_last = first_name+' '+last_name\n",
    "print(first_last)\n",
    "\n",
    "# Use string addition to define a new variable called last_first that \n",
    "# is equal to your last and first names separated by a comma and space \n",
    "# and print\n",
    "last_first = last_name+', '+first_name\n",
    "print(last_first)"
   ]
  },
  {
   "cell_type": "markdown",
   "metadata": {},
   "source": [
    "### Indexing strings\n",
    "\n",
    "Each character in a string is assigned a value called an index. String indices (and most indices in Python) begin with 0. So the first character of a string has an index of 0, the second has an index of 1, and so on.\n",
    "\n",
    "You can use indices to *slice* into a string. For example, I can find the first letter of my name:\n",
    "    \n",
    "    first_name[0]\n",
    "    \n",
    "returns:\n",
    "\n",
    "    'B'\n",
    "\n",
    "Note that we use square brackets when slicing into a string. You can also use indices to slice out a range of values. For example, to print the first two letters of my name, I'd use:\n",
    "\n",
    "    first_name[0:2]\n",
    "    \n",
    "In the last command, Python interprets `[0:2]` to mean characters starting with an index of 0 up to *but not including* the character with an index of 2. And to print all but the first letter:\n",
    "\n",
    "    first_name[1:]\n",
    "    \n",
    "Here, Python interprets `[1:]` to mean every character with an index of 1 or greater. Finally, note that you can access the *last* character of a string by couting backward:\n",
    "\n",
    "    first_name[-1]\n",
    "    \n",
    "this is nice if you don't know how many characters are in a string."
   ]
  },
  {
   "cell_type": "code",
   "execution_count": 10,
   "metadata": {},
   "outputs": [
    {
     "name": "stdout",
     "output_type": "stream",
     "text": [
      "i\n",
      "Br\n",
      "ian\n"
     ]
    }
   ],
   "source": [
    "# Use string indexing to print the third letter of your first name\n",
    "print(first_name[2])\n",
    "\n",
    "# Use string indexing to print the first 2 letters of your first name\n",
    "print(first_name[:2])\n",
    "\n",
    "# Use string indexing to print the last 3 letters of your last name\n",
    "print(first_name[-3:])"
   ]
  },
  {
   "cell_type": "markdown",
   "metadata": {},
   "source": [
    "### Other string operations and methods\n",
    "\n",
    "Without skipping ahead too much, it's worth knowing that some objects in Python have *methods*: special functions definied to run against an object. It's easiest to see what this means my example.\n",
    "\n",
    "The `lower()` method is a string method that returns the value of a string with all letters replaced by lowercase letters.\n",
    "\n",
    "    drink = 'CoFfEe'\n",
    "    drink.lower()\n",
    "    \n",
    "will return:\n",
    "\n",
    "    'coffee'\n",
    "    \n",
    "Notice that we accessed the method by entering the variable name followed by a dot followed by the name of the method and then a set of parentheses. `lower` is a function that is defined only on string objects. We'll use methods extensively later on.\n",
    "\n",
    "Notice that `lower()` does not affect the value of the variable. If we wanted to change the value of the variable `drink` to all lowercase letters, then we'd have to run:\n",
    "\n",
    "    drink = drink.lower()\n",
    "    \n",
    "See https://docs.python.org/2/library/stdtypes.html#string-methods for a list of available string methods."
   ]
  },
  {
   "cell_type": "code",
   "execution_count": 11,
   "metadata": {},
   "outputs": [
    {
     "name": "stdout",
     "output_type": "stream",
     "text": [
      "brian\n",
      "BRIAN\n"
     ]
    }
   ],
   "source": [
    "# Use the lower() method on first_name to print your first name in all lowercase letters\n",
    "print(first_name.lower())\n",
    "\n",
    "\n",
    "# Use the upper() method to print your first name in all capital letters\n",
    "print(first_name.upper())"
   ]
  },
  {
   "cell_type": "markdown",
   "metadata": {},
   "source": [
    "## Math and numbers\n",
    "\n",
    "Python understands some basic number types: integers, floating point numbers (decimals), and complex numbers. It makes sense to distinguish between these types of numbers because computers store round numbers like integers differently from floating point decimals.\n",
    "\n",
    "The Python interpretor understands the following operations on numbers\n",
    "\n",
    "* `+` : add\n",
    "* `-` : subtract\n",
    "* `*` : multiply\n",
    "* `/` : divide\n",
    "* `**` : exponentiate\n",
    "\n",
    "Note the carat \"^\" is *not* used for exponentiation and instead has an entirely differnt use in Python."
   ]
  },
  {
   "cell_type": "code",
   "execution_count": 12,
   "metadata": {},
   "outputs": [
    {
     "name": "stdout",
     "output_type": "stream",
     "text": [
      "1.7320508075688772\n"
     ]
    }
   ],
   "source": [
    "# Print the squareroot of 3.\n",
    "print(3**0.5)"
   ]
  },
  {
   "cell_type": "markdown",
   "metadata": {},
   "source": [
    "### Modules for mathematics\n",
    "\n",
    "The Python interpreter does not have built-in functions for common mathematical functions like the sine, cosine, log, or exponential functions. To access with these functions you need to import one of several *modules* that have these functions.\n",
    "\n",
    "The `math` module is part of the standard Python library. See the documentation here: https://docs.python.org/2/library/math.html#module-math). Another widely-used resource is NumPy. NumPy is much more elaborate and powerful than `math` and is available with Anaconda installations. Here's the website for NumPy: http://www.numpy.org/. We'll look at NumPy later.\n",
    "\n",
    "Suppose that you want to compute the natural log of 10 using the `math` module. There are two ways to go about this. First, you can import the `math` module and then use the use the `math.log` function:\n",
    "\n",
    "    import math\n",
    "    \n",
    "    x = math.log(10)\n",
    "    \n",
    "With this approach, you import the entire module and then access the `log()` in the `math` namespace. An alternative would be to import only the function that you needed:\n",
    "\n",
    "    from math import log\n",
    "    \n",
    "    x = log(10)\n",
    "    \n",
    "The first approach has the disadvantage that *all* of the functionality of the module is loaded into memory while only one function is actually needed. The advantage of the first approach though is that the `log` name is kept neatly in the `math` namespace."
   ]
  },
  {
   "cell_type": "code",
   "execution_count": 13,
   "metadata": {},
   "outputs": [
    {
     "name": "stdout",
     "output_type": "stream",
     "text": [
      "1.4142135623730951\n",
      "120\n",
      "3.141592653589793\n",
      "2.718281828459045\n"
     ]
    }
   ],
   "source": [
    "# Import the math module\n",
    "import math\n",
    "\n",
    "# Print the square root of 2\n",
    "print(math.sqrt(2))\n",
    "\n",
    "# Print the factorial of 5\n",
    "print(math.factorial(5))\n",
    "\n",
    "# Print the mathematical constants pi and e\n",
    "print(math.pi)\n",
    "print(math.e)"
   ]
  },
  {
   "cell_type": "code",
   "execution_count": 14,
   "metadata": {},
   "outputs": [
    {
     "name": "stdout",
     "output_type": "stream",
     "text": [
      "1.4142135623730951\n",
      "120\n",
      "3.141592653589793\n",
      "2.718281828459045\n"
     ]
    }
   ],
   "source": [
    "# Import the numpy module as np\n",
    "import numpy as np\n",
    "\n",
    "# Print the square root of 2\n",
    "print(np.sqrt(2))\n",
    "\n",
    "# Print the factorial of 5\n",
    "print(np.math.factorial(5))\n",
    "\n",
    "# Print the mathematical constants pi and e\n",
    "print(np.math.pi)\n",
    "print(np.math.e)"
   ]
  },
  {
   "cell_type": "markdown",
   "metadata": {},
   "source": [
    "Note that in the previous examples, `math.sqrt` and `np.sqrt` refer to functions with the same names but in different namespaces. \n",
    "\n",
    "### More about numbers\n",
    "\n",
    "Python distinguishes between integers (whole numbers) and floating point numbers (decimals). Floating point numbers have decimals in them. For example, while a person might regard `2` and `2.` as the same number, Python views these as two different types of numbers:"
   ]
  },
  {
   "cell_type": "code",
   "execution_count": 15,
   "metadata": {},
   "outputs": [
    {
     "name": "stdout",
     "output_type": "stream",
     "text": [
      "<class 'int'>\n",
      "<class 'float'>\n"
     ]
    }
   ],
   "source": [
    "# Print the types of 2 and 2.\n",
    "print(type(2))\n",
    "print(type(2.))"
   ]
  },
  {
   "cell_type": "markdown",
   "metadata": {},
   "source": [
    "Most of the time floating point numbers will work for us. Integers arise when working with things that can be enumerated (like arrays) or with data for which decimals would make no sense (e.g., ZIP codes). If a math expression involving only integers returns a non-integer, then Python returns a number with the appropriate type to represent the answer:"
   ]
  },
  {
   "cell_type": "code",
   "execution_count": 16,
   "metadata": {},
   "outputs": [
    {
     "name": "stdout",
     "output_type": "stream",
     "text": [
      "<class 'float'>\n"
     ]
    }
   ],
   "source": [
    "# Compute 1/3 and find the type of the result\n",
    "print(type(1/3))"
   ]
  },
  {
   "cell_type": "code",
   "execution_count": 17,
   "metadata": {},
   "outputs": [
    {
     "name": "stdout",
     "output_type": "stream",
     "text": [
      "<class 'complex'>\n"
     ]
    }
   ],
   "source": [
    "# Compute the square root of -1 using exponentiation and find the type\n",
    "print(type((-1)**0.5))"
   ]
  },
  {
   "cell_type": "markdown",
   "metadata": {},
   "source": [
    "### The `int()`, `float()`, `str()`, and `round()` functions\n",
    "\n",
    "In the same way that Python interprets the numbers `2` and `2.` differently, Python also distinguishes between numbers and strings in which the characters happen to be numbers. For example, `2` and `'2'` may appear identical, but the first is a mathematical object and the other is simply a character string. Trying to add them together demonstrates the point:"
   ]
  },
  {
   "cell_type": "code",
   "execution_count": 18,
   "metadata": {},
   "outputs": [
    {
     "ename": "TypeError",
     "evalue": "unsupported operand type(s) for +: 'int' and 'str'",
     "output_type": "error",
     "traceback": [
      "\u001b[0;31m---------------------------------------------------------------------------\u001b[0m",
      "\u001b[0;31mTypeError\u001b[0m                                 Traceback (most recent call last)",
      "\u001b[0;32m/var/folders/2y/bf4r93z50dv9pb_621_rr26w0000gn/T/ipykernel_39418/3565654795.py\u001b[0m in \u001b[0;36m<module>\u001b[0;34m\u001b[0m\n\u001b[1;32m      1\u001b[0m \u001b[0;31m# Try to add the integer 2 and the string '2'\u001b[0m\u001b[0;34m\u001b[0m\u001b[0;34m\u001b[0m\u001b[0m\n\u001b[0;32m----> 2\u001b[0;31m \u001b[0;36m2\u001b[0m\u001b[0;34m+\u001b[0m\u001b[0;34m'2'\u001b[0m\u001b[0;34m\u001b[0m\u001b[0;34m\u001b[0m\u001b[0m\n\u001b[0m",
      "\u001b[0;31mTypeError\u001b[0m: unsupported operand type(s) for +: 'int' and 'str'"
     ]
    }
   ],
   "source": [
    "# Try to add the integer 2 and the string '2'\n",
    "2+'2'"
   ]
  },
  {
   "cell_type": "markdown",
   "metadata": {},
   "source": [
    "The error indicates that it's possible to add an integer to a string and this is partly because the `+` sign means something very different for numbers and strings. Recall that `+` concatenates or joins strings so the preceding code block doesn't make any sense.\n",
    "\n",
    "Sometimes you may wish to convert a number to a string. For example, you may want to export some numerical results to a text file. The `str()` function converts integers and floats to a string."
   ]
  },
  {
   "cell_type": "code",
   "execution_count": 19,
   "metadata": {},
   "outputs": [
    {
     "name": "stdout",
     "output_type": "stream",
     "text": [
      "2.71828\n",
      "<class 'str'>\n"
     ]
    }
   ],
   "source": [
    "# Convert the floating point number 2.71828 to a string and verify the type of the result\n",
    "e = str(2.71828)\n",
    "print(e)\n",
    "print(type(e))"
   ]
  },
  {
   "cell_type": "markdown",
   "metadata": {},
   "source": [
    "The `int()` function has two uses. First, it will convert a floating point number into an integer by dropping the digits after the decimal. In this way, it works like the mathematical floor function. For example:"
   ]
  },
  {
   "cell_type": "code",
   "execution_count": 20,
   "metadata": {},
   "outputs": [
    {
     "name": "stdout",
     "output_type": "stream",
     "text": [
      "2\n",
      "<class 'int'>\n"
     ]
    }
   ],
   "source": [
    "# Convert the floating point number 2.71828 to an integer and verify the type of the result\n",
    "e = int(2.71828)\n",
    "print(e)\n",
    "print(type(e))"
   ]
  },
  {
   "cell_type": "markdown",
   "metadata": {},
   "source": [
    "Note the `int()` function effectively rounds floating point numbers down to the nearest integer and so the `round()` function is actually a little bit better at moving from floats to integers:"
   ]
  },
  {
   "cell_type": "code",
   "execution_count": 21,
   "metadata": {},
   "outputs": [
    {
     "name": "stdout",
     "output_type": "stream",
     "text": [
      "3\n",
      "<class 'int'>\n"
     ]
    }
   ],
   "source": [
    "# Round the floating point number 2.71828 to the nearest integer and verify the type of the result\n",
    "e = round(2.71828)\n",
    "print(e)\n",
    "print(type(e))"
   ]
  },
  {
   "cell_type": "markdown",
   "metadata": {},
   "source": [
    "`round()` is also versatile and allows you to optionally set the precision of the rounding."
   ]
  },
  {
   "cell_type": "code",
   "execution_count": 22,
   "metadata": {},
   "outputs": [
    {
     "name": "stdout",
     "output_type": "stream",
     "text": [
      "2.72\n",
      "<class 'float'>\n"
     ]
    }
   ],
   "source": [
    "# Round the floating point number 2.71828 to the nearest hundreth decimal\n",
    "e = round(2.71828,2)\n",
    "print(e)\n",
    "print(type(e))"
   ]
  }
 ],
 "metadata": {
  "anaconda-cloud": {},
  "kernelspec": {
   "display_name": "Python 3 (ipykernel)",
   "language": "python",
   "name": "python3"
  },
  "language_info": {
   "codemirror_mode": {
    "name": "ipython",
    "version": 3
   },
   "file_extension": ".py",
   "mimetype": "text/x-python",
   "name": "python",
   "nbconvert_exporter": "python",
   "pygments_lexer": "ipython3",
   "version": "3.9.12"
  }
 },
 "nbformat": 4,
 "nbformat_minor": 1
}
