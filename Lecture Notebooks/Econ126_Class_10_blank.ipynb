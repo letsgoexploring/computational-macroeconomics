{
    "cells": [
        {
            "cell_type": "code",
            "execution_count": null,
            "metadata": {},
            "outputs": [],
            "source": [
                "import numpy as np\n",
                "import pandas as pd\n",
                "import statsmodels.api as sm\n",
                "import matplotlib.pyplot as plt\n",
                "plt.style.use('classic')\n",
                "%matplotlib inline"
            ]
        },
        {
            "cell_type": "markdown",
            "metadata": {},
            "source": [
                "# Class 10: Stochastic Time Series Processes\n",
                "\n",
                "Most models of the business cycle are *stochastic* time series models. That is, the models incorporate randomness as a determinant of equilibrium. Randomness is necessary for two reasons. First, from a practical point of view, any model will be incomplete and will not fit the data perfectly and so randomness in a macroeconomic model is analagous to an error term in an OLS model. Second, from a philosophical perspective, randomness in a macroeconomic model reflects economists' consensus that fundamentally unpredictable forces cause the business cycle.\n",
                "\n",
                "\n",
                "## Simulating Normal Random Variables with Numpy\n",
                "\n",
                "Recall that the `numpy.random` module has functions for generating (pseudo) random variables. Learn more about the module by reading the documentation: https://docs.scipy.org/doc/numpy/reference/routines.random.html\n",
                "\n",
                "We use the `numpy.random.normal()` function to crate arrays of random draws from the normal distribution. The function takes three arguments:\n",
                "* `loc`: the mean of the distribution (default=0)\n",
                "* `scale`: the standard deviation of the distribution (default=1)\n",
                "* `size`: how many to numbers to draw (default = `None`)\n",
                "\n",
                "The default is to draw numbers from the *standard normal* distribution."
            ]
        },
        {
            "cell_type": "markdown",
            "metadata": {},
            "source": [
                "### Example\n",
                "\n",
                "Draw 500 values each from the $\\mathcal{N}(0,1)$ and $\\mathcal{N}(0,2^2)$ distributions. Plot."
            ]
        },
        {
            "cell_type": "code",
            "execution_count": null,
            "metadata": {},
            "outputs": [],
            "source": [
                "# Set the seed for the random number generator to 126\n",
                "\n",
                "\n",
                "# Create two arrays:\n",
                "#     x: 500 draws from the normal(0,1) distribution\n",
                "#     y: 500 draws from the normal(0,4) distribution\n",
                "\n",
                "\n",
                "",
                "# Plot x and y\n",
                "\n",
                "\n",
                "",
                ""
            ]
        },
        {
            "cell_type": "markdown",
            "metadata": {},
            "source": [
                "## The White Noise Process\n",
                "\n",
                "In the previous example, we created two variables that stored draws from normal distrbutions with means of zero but with different standard deviations. Both of the variables were simulations of *white noise processes*. A white noise process is a random variable $\\epsilon_t$ with constant mean and constant variance. We are concerned only with the zero-mean white noise process and we'll denote that a variable is a zero-mean white noise process with the following shorthand notation:\n",
                "\n",
                "\\begin{align}\n",
                "\\epsilon_t & \\sim \\text{WN}(0,\\sigma^2),\n",
                "\\end{align}\n",
                "\n",
                "where $\\sigma^2$ is the variance of the processes. Strictly speaking, a white noise process can follow any distribution as long as the mean and variance are constant, but we'll concentrate exclusively white noise process drawn from the normal distribution.\n",
                "\n",
                "## The AR(1) Process\n",
                "\n",
                "A random variable $y_t$ is an *autoregressive process of order 1*  or AR(1) process if it can be written in the following form:\n",
                "\n",
                "\\begin{align}\n",
                "y_t & = \\rho y_{t-1} + \\epsilon_t,\n",
                "\\end{align}\n",
                "\n",
                "where $\\rho$ is a constant and $\\epsilon \\sim \\text{WN}(0,\\sigma^2)$. The AR(1) process is the stochastic analog of the first-order difference equation where the random variable $\\epsilon_t$ replaces the exogenous variable $w_t$.\n",
                "\n",
                "### Example\n",
                "\n",
                "Simulate an AR(1) process for 101 periods ($t = 0,\\ldots, 100$) using the following parameter values:\n",
                "\n",
                "\\begin{align}\n",
                "\\rho & = 0.5\\\\\n",
                "\\sigma &  = 1\\\\\n",
                "y_0 & = 0\n",
                "\\end{align}\n",
                "\n",
                "Plot the simulated values for $y$."
            ]
        },
        {
            "cell_type": "code",
            "execution_count": null,
            "metadata": {},
            "outputs": [],
            "source": [
                "# Set the seed for the random number generator to 126\n",
                "\n",
                "\n",
                "# Initialize values for T, y0, rho, and sigma\n",
                "\n",
                "\n",
                "",
                "",
                "",
                "# Initialize an array of zeros for y\n",
                "\n",
                "\n",
                "# Set the first value of y equal to y0\n",
                "\n",
                "\n",
                "# Create a variable called 'epsilon' equal to an array containing T draws from the normal(0,sigma^2) process\n",
                "\n",
                "\n",
                "# Iterate over t in range(T-1) to compute y\n",
                "\n",
                "\n",
                "",
                "# Plot y\n",
                "\n"
            ]
        },
        {
            "cell_type": "markdown",
            "metadata": {},
            "source": [
                "The AR(1) process wtih $\\rho = 0.5$ seems to fluctuate around the value $y=0$ and so the process appears to be stable."
            ]
        },
        {
            "cell_type": "markdown",
            "metadata": {},
            "source": [
                "### Example\n",
                "\n",
                "Simulate an AR(1) process for 101 periods ($t = 0,\\ldots, 100$) using the following parameter values:\n",
                "\n",
                "\\begin{align}\n",
                "\\rho & = 1.5\\\\\n",
                "\\sigma &  = 1\\\\\n",
                "y_0 & = 0\n",
                "\\end{align}\n",
                "\n",
                "Plot the simulated values for $y$."
            ]
        },
        {
            "cell_type": "code",
            "execution_count": null,
            "metadata": {},
            "outputs": [],
            "source": [
                "# Set the seed for the random number generator to 126\n",
                "\n",
                "\n",
                "# Initialize values for T, y0, rho, and sigma\n",
                "\n",
                "\n",
                "",
                "",
                "",
                "# Initialize an array of zeros for y\n",
                "\n",
                "\n",
                "# Set the first value of y equal to y0\n",
                "\n",
                "\n",
                "# Create a variable called 'epsilon' equal to an array containing T draws from the normal(0,sigma^2) process\n",
                "\n",
                "\n",
                "# Iterate over t in range(T-1) to compute y\n",
                "\n",
                "\n",
                "",
                "# Plot y\n",
                "\n"
            ]
        },
        {
            "cell_type": "markdown",
            "metadata": {},
            "source": [
                "The AR(1) process wtih $\\rho = 1.5$ seems to be approaching infinity in magnitude and so the process appears to be explosive.\n",
                "\n",
                "In general, like the first-order difference equation, if $|\\rho| < 1$, the the AR(1) process is stable. If $|\\rho|>1$ then the process is explosive. A special case is the *random walk process* which is an AR(1) process with $\\rho = 1$. The random walk process has many important applications including asset pricing theory.\n",
                "\n",
                "The function in the next cell computes a simulation of an AR(1) process."
            ]
        },
        {
            "cell_type": "code",
            "execution_count": null,
            "metadata": {},
            "outputs": [],
            "source": [
                "# Define a function for simulating an AR(1) process. CELL PROVIDED\n",
                "def ar1_sim(rho=0,sigma=1,y0=0,T=25):\n",
                "    '''Function for simulating an AR(1) process for T periods\n",
                "    \n",
                "            Args:\n",
                "            rho (float):   autoregressive parameter\n",
                "            sigma (float): standard deviation of the white noise process\n",
                "            y0 (float):    initial value of the process\n",
                "            T (int):       number of periods to simulate\n",
                "            \n",
                "        Returns:\n",
                "            numpy array\n",
                "    '''\n",
                "    \n",
                "    # Initialize y array\n",
                "    y = np.zeros(T)\n",
                "    y[0] = y0\n",
                "    \n",
                "    # Draw random numbers for white noise process\n",
                "    eps= np.random.normal(loc=0,scale=sigma,size=T-1)\n",
                "    for t in range(T-1):\n",
                "        y[t+1] = rho*y[t] + eps[t]\n",
                "    \n",
                "    return y"
            ]
        },
        {
            "cell_type": "markdown",
            "metadata": {},
            "source": [
                "### Example:\n",
                "\n",
                "Use the `ar1_sim()` function to simulate an AR(1) process for 201 periods ($t = 0,\\ldots, 200$) using the following parameter values:\n",
                "\n",
                "\\begin{align}\n",
                "\\rho & = -0.99\\\\\n",
                "\\sigma &  = 0.5\\\\\n",
                "y_0 & = 0\n",
                "\\end{align}\n",
                "\n",
                "Set the seed for the NumPy random number generator to 126. Plot the simulated values for $y$."
            ]
        },
        {
            "cell_type": "code",
            "execution_count": null,
            "metadata": {},
            "outputs": [],
            "source": [
                "# Set the seed for the random number generator to 126\n",
                "\n",
                "\n",
                "# Simulate y and plot\n",
                "\n",
                "\n",
                ""
            ]
        },
        {
            "cell_type": "markdown",
            "metadata": {},
            "source": [
                "## Application: Estimate TFP as an AR(1) process\n",
                "\n",
                "It is routine to model quarterly fulctuations in TFP as an AR(1) process and we will encounter this in our business cycle models. Here we will fit the following AR(1) model to US data:\n",
                "\n",
                "\\begin{align}\n",
                "\\log\\left(A_t/A^{trend}_t\\right) & = \\rho \\log\\left(A_{t-1}/A^{trend}_{t-1}\\right) + \\epsilon_t\n",
                "\\end{align}\n",
                "\n",
                "where $\\log\\left(A_t/A^{trend}_t\\right) = \\log A_t - \\log A^{trend}$ is the log-deviation of TFP from its trend and $\\epsilon_t$ is a white noise process with mean 0 and variance $\\sigma^2$.\n",
                "\n",
                "\n",
                "### The Data\n",
                "The file `rbc_data_actual_trend.csv`, available at https://raw.githubusercontent.com/letsgoexploring/computational-macroeconomics/master/Data/Csv/rbc_data_actual_trend.csv, contains actual and trend data for real GDP per capita, real consumption per capita, real investment per capita, real physical capital per capita, TFP, and hours per capita at quarterly frequency. The GDP, consumption, investment, and capital data are in terms of 2012 dollars. Hours is measured as an index with the value in October 2012 set to 100. All of the data are *real* quantities. That is, there are no *nominal* quantities like money or inflation or a nominal interest rate. The reason is that the first theory that we will encounter is called *real business cycle* or RBC theory and, in that theory, there is no place for nominal quantities. RBC theory seeks to explain fluctuations in real quantities as being primarily due to TFP shocks; i.e., shocks to the production function.\n",
                "\n",
                "### Objectives\n",
                "\n",
                "1. Import TFP data (trend and actual) and compute cyclical component as log-deviation from trend.\n",
                "2. Construct a scatter plot of log-deviation of TFP from trend against *lagged* log-deviation of TFP from trend.\n",
                "3. Estimate the AR(1) model of log-deviation of TFP from trend to obtain estimates of $\\rho$ and $\\sigma$."
            ]
        },
        {
            "cell_type": "code",
            "execution_count": null,
            "metadata": {},
            "outputs": [],
            "source": [
                "# Read business_cycle_data_actual_trend.csv into a Pandas DataFrame called 'df' with the first column set as the index and parse_dates=True\n"
            ]
        },
        {
            "cell_type": "code",
            "execution_count": null,
            "metadata": {},
            "outputs": [],
            "source": [
                "# Construct a plot of TFP with its trend with:\n",
                "#    1. Actual line: blue with lw=1, alpha=0.7, label = 'actual'\n",
                "#    2. Trend line:  red with lw=2, alpha=0.7, label = 'trend'\n",
                "\n",
                "\n",
                "",
                "",
                ""
            ]
        },
        {
            "cell_type": "markdown",
            "metadata": {},
            "source": [
                "Now we need to compute the log-deviation of TFP from its trend. Note that since $\\log(a/b) = \\log(a) - \\log(b)$, we can write:\n",
                "\n",
                "\\begin{align}\n",
                "\\log A_t - \\log A^{trend} & = \\log\\left(A_t/A^{trend}_t\\right)\n",
                "\\end{align}\n",
                "\n",
                "The term on the right will make the AR(1) model easier to read.\n",
                "\n",
                "\n",
                "\\begin{align}\n",
                "\\log\\left(A_t/A^{trend}_t\\right) & = \\rho \\log\\left(A_{t-1}/A^{trend}_{t-1}\\right) + \\epsilon_t\n",
                "\\end{align}\n",
                "\n",
                "\n"
            ]
        },
        {
            "cell_type": "code",
            "execution_count": null,
            "metadata": {},
            "outputs": [],
            "source": [
                "# Create a new column to df called tfp_cycle equal to the log difference between actual TFP and it's trend:\n"
            ]
        },
        {
            "cell_type": "code",
            "execution_count": null,
            "metadata": {},
            "outputs": [],
            "source": [
                "# Plot the log deviation of TFP from its trend (times 100)\n",
                "\n",
                "\n",
                ""
            ]
        },
        {
            "cell_type": "code",
            "execution_count": null,
            "metadata": {},
            "outputs": [],
            "source": [
                "# Create a new column to df called tfp_cycle_lag that, for each date, contains values \n",
                "# in 'tfp_cycle' at the previous date\n",
                "\n",
                "\n",
                "# Print the first five rows of only the 'tfp_cycle' and 'tfp_cycle_lag' columns. PROVIDED\n",
                "print(df[['tfp_cycle','tfp_cycle_lag']].head())"
            ]
        },
        {
            "cell_type": "markdown",
            "metadata": {},
            "source": [
                "Notice that there is a missing value inthe `tfp_cycle_lag` column for the first date in the index because there is no prior observation in the `tfp_cycle` column. To proceed with the estimation, we need to get rid of the row with missing values."
            ]
        },
        {
            "cell_type": "code",
            "execution_count": null,
            "metadata": {},
            "outputs": [],
            "source": [
                "# Use dropna() method on df to remove the row with the missing value\n",
                "\n",
                "\n",
                "# Print the first five rows of only the 'tfp_cycle' and 'tfp_cycle_lag' columns. PROVIDED\n",
                "print(df[['tfp_cycle','tfp_cycle_lag']].head())"
            ]
        },
        {
            "cell_type": "markdown",
            "metadata": {},
            "source": [
                "Next, we should make a scatter plot of log-deviation of TFP from trend against the one-period lag of log-deviation of TFP from trend to see if out AR(1) model is a good idea."
            ]
        },
        {
            "cell_type": "code",
            "execution_count": null,
            "metadata": {},
            "outputs": [],
            "source": [
                "# Construct a scatter plot of log-deviation of TFP from trend against the one-period lag of log-deviation \n",
                "# of TFP from trend with:\n",
                "#    1. scatter points sized at least 50, opacity (alpha) no greater than 0.25\n",
                "#    2. x- and y-axis limits: [-0.04,0.04]\n",
                "\n",
                "\n",
                "",
                "",
                "",
                "",
                ""
            ]
        },
        {
            "cell_type": "markdown",
            "metadata": {},
            "source": [
                "Now we use StatsModels to fit the model. First we estimate the AR(1) model to obtain an estimate of $\\rho$. Then we find the standard deviation of the residuals of the regression to estimate $\\sigma$."
            ]
        },
        {
            "cell_type": "code",
            "execution_count": null,
            "metadata": {},
            "outputs": [],
            "source": [
                "# Create a variable 'X' to be the independent variable of the OLS model. Do not add a constant to X\n",
                "\n",
                "\n",
                "# Create a variable 'Y' to be the dependent variable of the OLS model.\n",
                "\n",
                "\n",
                "# Create a variable called 'model' that initializes the OLS model\n",
                "\n",
                "\n",
                "# Create a variable called 'results' that stores the results of the estimated OLS model\n",
                "\n",
                "\n",
                "# Print output of summary() method of results\n"
            ]
        },
        {
            "cell_type": "markdown",
            "metadata": {},
            "source": [
                "Estimated coefficients are stored as a Pandas `Series` in the `params` attribute of `results`. Index values correspond to names of columns in the dependent variable `X`"
            ]
        },
        {
            "cell_type": "code",
            "execution_count": null,
            "metadata": {},
            "outputs": [],
            "source": [
                "# Print the contents of the params method of results\n"
            ]
        },
        {
            "cell_type": "code",
            "execution_count": null,
            "metadata": {},
            "outputs": [],
            "source": [
                "# Create a variable called 'rho' that equals the value of the estimated coefficient on df['tfp_cycle_lag']\n"
            ]
        },
        {
            "cell_type": "markdown",
            "metadata": {},
            "source": [
                "The residuals from the regression are stored in an attribute of `results` called `resid`"
            ]
        },
        {
            "cell_type": "code",
            "execution_count": null,
            "metadata": {},
            "outputs": [],
            "source": [
                "# Create a variable called 'sigma' that equals the standard deviation of the residuals of the regression\n",
                "\n",
                "\n",
                "# Print the value of sigma\n"
            ]
        },
        {
            "cell_type": "markdown",
            "metadata": {},
            "source": [
                "And that's how you estimate the parameters of an AR(1) model of the cyclical component of TFP for the US."
            ]
        },
        {
            "cell_type": "markdown",
            "metadata": {},
            "source": [
                "## Application: A Stochastic Solow Growth Model (Optional)\n",
                "\n",
                "Consider the Solow growth model with written in \"per worker\" terms:\n",
                "\n",
                "\\begin{align}\n",
                "y_t & = A_tk_t^{\\alpha}\\\\\n",
                "k_{t+1} & = i_t + (1-\\delta)k_{t}\\\\\n",
                "y_t & = c_t + i_t\\\\\n",
                "c_t & = (1-s)y_t,\n",
                "\\end{align}\n",
                "\n",
                "where $y_t$ is output per worker, $k_t$ is capital per worker, $c_t$ is consumption per worker, $i_t$ is investment per worker, and $A_t$ is time-varying TFP. Assume:\n",
                "\n",
                "\\begin{align}\n",
                "\\log A_{t+1} & = \\rho \\log A_{t} + \\epsilon_{t+1}\n",
                "\\end{align}\n",
                "\n",
                "where $\\epsilon_t$ is a white noise process with mean 0 and variance $\\sigma^2$. Since capital and TFP are the only two variables, that depend on past value of themselves, they are the two state variables of the model. Therefore, we can simulate simulate the model in two steps. First, simulate $k_t$ and $A_t$ using the following two laws of motion:\n",
                "\n",
                "\\begin{align}\n",
                "k_{t+1} & = sAk_t^{\\alpha} + (1-\\delta)k_{t} \\label{eqn:capital_solution}\\\\\n",
                "\\log A_{t+1} & = \\rho \\log A_{t} + \\epsilon_{t+1}. \\label{eqn:tfp_solution}\n",
                "\\end{align}\n",
                "\n",
                "Second, compute simulated values for $y_t$, $c_t$, and $i_t$ using the following static relationships:\n",
                "\n",
                "\\begin{align}\n",
                "y_t & = A_tk_t^{\\alpha}\\\\\n",
                "i_t & = sA_tk_t^{\\alpha}\\\\\n",
                "c_t & = (1-s)A_tk_t^{\\alpha},\n",
                "\\end{align}\n",
                "\n",
                "In the previous example, we estimated $\\rho$ and $\\sigma$ for the US so let's use those values for this simulation. For the other parameter, use the following values for the simulation:\n",
                "\n",
                "| $$A_0$$ | $$k_0$$ | $$s$$ | $$\\alpha$$ | $$\\delta $$ | $$T$$  |\n",
                "|---------|---------|-------|------------|-------------|--------|\n",
                "| 1       | 8.43    | 0.1   | 0.35       |  0.025      | 201    |\n",
                "\n",
                "Where $T$ is the total number of simulation periods (i.e., $t$ will range from $0$ to $200$).\n",
                "\n",
                "### Function\n",
                "\n",
                "The function in the next cell simulates a stochastic Solow growth model. It returns a `DataFrame` with columns equal to the log-deviations of the simulated variables relative to the trend (i.e., nonstochastic steady state) implied by the model."
            ]
        },
        {
            "cell_type": "code",
            "execution_count": null,
            "metadata": {},
            "outputs": [],
            "source": [
                "# Define a function that returns a DataFrame of simulated value from the Solow model with exogenous labor and TFP growth. CELL PROVIDED\n",
                "def solow_stochastic(s,alpha,delta,k0,A0,rho,sigma,T):\n",
                "    \n",
                "    '''Function for computing a simulation of the Solow growth model with exogenous labor and TFP growth.\n",
                "    \n",
                "            y[t]   = A[t]*K[t]^alpha\n",
                "            k[t+1] = i[t] + (1-delta)*k[t]\n",
                "            y[t]   = c[t] + i[t]\n",
                "            c[t]   = (1-s)*y[t]\n",
                "            A[t+1] = exp(rho*logA[t] + epsilon[t+1])\n",
                "    \n",
                "    Args:\n",
                "        s (float):      Saving rate\n",
                "        alpha (float):  Capital share in Cobb-Douglas production function\n",
                "        delta (float):  Capital depreciation rate\n",
                "        T (int):        Number of periods to simulate\n",
                "        k0 (float):     Initial value of capital per worker\n",
                "        A0 (float):     Initial TFP\n",
                "        rho (float):    AR coeficient for log A[t]\n",
                "        sigma (float):  Standard deviation of shock to log A[t]\n",
                "     \n",
                "     Returns:\n",
                "         Pandas DataFrame\n",
                "     '''\n",
                "    # Create epsilon values\n",
                "    epsilon = np.random.normal(scale=sigma,size=T)\n",
                "    \n",
                "    # Initialize capital values\n",
                "    capital = np.zeros(T)\n",
                "\n",
                "    # Set first value of capital equal to k0\n",
                "    capital[0] = k0\n",
                "    \n",
                "    # Initialize TFP values\n",
                "    tfp = np.zeros(T)\n",
                "\n",
                "    # Set first value of TFP equal to A0\n",
                "    tfp[0] = A0\n",
                "\n",
                "    # Iterate over t in range(T-1) to update subsequent values in the capital and tfp arrays\n",
                "    for t in range(T-1):\n",
                "        capital[t+1] = s*tfp[t]*capital[t]**alpha + (1-delta)*capital[t]\n",
                "        tfp[t+1] = np.exp(rho*np.log(tfp[t]) + epsilon[t])\n",
                "    \n",
                "    # Compute the values of the other aggregate variables\n",
                "    output = tfp*capital**alpha\n",
                "    consumption = (1-s)*output\n",
                "    investment = s*output\n",
                "    \n",
                "    # Compute steady state (or trend) of endogenous vars\n",
                "    capital_ss = (s/delta)**(1/(1-alpha))\n",
                "    tfp_ss = 1 \n",
                "    output_ss = tfp_ss*capital_ss**alpha\n",
                "    consumption_ss = (1-s)*output_ss\n",
                "    investment_ss = s*output_ss\n",
                "    \n",
                "    \n",
                "    # Put simulated data into a DataFrame\n",
                "    df = pd.DataFrame({'output_log_dev':np.log(output/output_ss),\n",
                "                       'consumption_log_dev':np.log(consumption/consumption_ss),\n",
                "                       'investment_log_dev':np.log(investment/investment_ss),\n",
                "                       'capital_log_dev':np.log(capital/capital_ss),\n",
                "                       'tfp_log_dev':np.log(tfp/tfp_ss)})\n",
                "    \n",
                "    # Return the simulated data\n",
                "    return df"
            ]
        },
        {
            "cell_type": "markdown",
            "metadata": {},
            "source": [
                "### Simulate the Stochastic Solow Model"
            ]
        },
        {
            "cell_type": "code",
            "execution_count": null,
            "metadata": {},
            "outputs": [],
            "source": [
                "# CELL PROVIDED\n",
                "# Set parameters for simulation\n",
                "alpha=0.35\n",
                "s = 0.1\n",
                "delta = 0.025\n",
                "k0 = 8.43\n",
                "A0=1\n",
                "T = 201\n",
                "\n",
                "np.random.seed(126)\n",
                "# Simulate the model and store output in a variable called 'solow_df'\n",
                "solow_df = solow_stochastic(s,alpha,delta,k0,A0,rho,sigma,T)\n",
                "\n",
                "# Plot\n",
                "fig = plt.figure()\n",
                "ax = fig.add_subplot(1,1,1)\n",
                "solow_df.plot(ax=ax,grid=True)\n",
                "ax.legend(loc='center left', bbox_to_anchor=(1, 0.5));"
            ]
        },
        {
            "cell_type": "markdown",
            "metadata": {},
            "source": [
                "### Simulation Results\n",
                "\n",
                "Compute the standard deviation of the simulated data and the correlation coefficients of the simulated data."
            ]
        },
        {
            "cell_type": "code",
            "execution_count": null,
            "metadata": {},
            "outputs": [],
            "source": [
                "# Standard deviations. CELL PROVIDED\n",
                "solow_df.std()*100"
            ]
        },
        {
            "cell_type": "code",
            "execution_count": null,
            "metadata": {},
            "outputs": [],
            "source": [
                "# Correlation coefficients. CELL PROVIDED\n",
                "solow_df.corr()"
            ]
        },
        {
            "cell_type": "markdown",
            "metadata": {},
            "source": [
                "It looks like the stochastic Solow model does a good job replicating the volatility (standard deviation) of ouput and consumption relative to the data. However the simulated investment volatility is too small by about a factor of 6. The stochastic Solow model does capture the correlation between output, consumption, and investment, but it implies perfect correlation which is too much."
            ]
        },
        {
            "cell_type": "markdown",
            "metadata": {},
            "source": [
                "## The Random Walk Process (Optional)\n",
                "\n",
                "The *random walk process* is an AR(1) process with $\\rho=1$:\n",
                "\n",
                "\\begin{align}\n",
                "y_t = y_{t-1} + \\epsilon_t\n",
                "\\end{align}\n",
                "\n",
                "The random walk process has an important place in finance since the evidence suggests that stock prices follow a random walk process.\n",
                "\n",
                "### Example\n",
                "\n",
                "Simulate 7 random walk processes for 501 periods. Set $\\sigma = 1$. Plot all 7 simulated processes on the same axes."
            ]
        },
        {
            "cell_type": "code",
            "execution_count": null,
            "metadata": {},
            "outputs": [],
            "source": [
                "# CELL PROVIDED \n",
                "np.random.seed(126)\n",
                "for i in range(7):\n",
                "    plt.plot(ar1_sim(rho=1,T=501))\n",
                "    \n",
                "plt.title('Seven random walk processes')\n",
                "plt.grid()"
            ]
        }
    ],
    "metadata": {
        "anaconda-cloud": {},
        "kernelspec": {
            "display_name": "Python 3 (ipykernel)",
            "language": "python",
            "name": "python3"
        },
        "language_info": {
            "codemirror_mode": {
                "name": "ipython",
                "version": 3
            },
            "file_extension": ".py",
            "mimetype": "text/x-python",
            "name": "python",
            "nbconvert_exporter": "python",
            "pygments_lexer": "ipython3",
            "version": "3.9.12"
        }
    },
    "nbformat": 4,
    "nbformat_minor": 1
}