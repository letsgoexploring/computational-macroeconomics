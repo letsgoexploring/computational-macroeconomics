{
    "cells": [
        {
            "cell_type": "code",
            "execution_count": null,
            "metadata": {},
            "outputs": [],
            "source": [
                "import numpy as np\n",
                "import pandas as pd\n",
                "import matplotlib.pyplot as plt\n",
                "plt.style.use('classic')\n",
                "%matplotlib inline"
            ]
        },
        {
            "cell_type": "markdown",
            "metadata": {},
            "source": [
                "# Class 6: Pandas and Statsmodels\n",
                "\n",
                "\n",
                "## Background\n",
                "\n",
                "In their article \"The New Kaldor Facts: Ideas, Institutions, Population, and Human Capital\" in the January 2010 issue of the *American Economic Journal: Macroeconomics*, Charles Jones and Paul Romer document six empirical features about macroeconomics that are yet to be adequately explained by a general theory of economic growth (link to article: [https://www.jstor.org/stable/25760291](https://www.jstor.org/stable/25760291)). Among these facts is the observation that total factor productivity is positively correlated with a country's GDP per worker.\n",
                "\n",
                "Recall the Cobb-Douglas production function with human capital:\n",
                "\n",
                "\\begin{align}\n",
                "Y & = A K^{\\alpha}\\left(hL\\right)^{1-\\alpha}, \\label{eqn:production}\n",
                "\\end{align}\n",
                "\n",
                "where $Y$ denotes the production of final goods and services, $K$ is the stock of physical capital, $L$ is the labor force (either number of workers or number of worker hours), $h$ is human capital per worker, and $A$ is *total factor productivity* or TFP which represents all other factors that might affect production that are not captured by $K$, $L$, or $h$. \n",
                "\n",
                "For most countries, we can measure $Y$, $K$, $L$ and $h$. Measurements may not be perfect; for example, we often associate $h$ with years of schooling in a country even though, strictly speaking, on-the-job experience and training also contribute to human capital accumulation. Regardless, the point is that the production function *implies* a value for TFP:\n",
                "\n",
                "\\begin{align}\n",
                "A & = \\frac{Y}{K^{\\alpha}(hL)^{1-\\alpha}}\n",
                "\\end{align}\n",
                "\n",
                "TFP is like a residual in a linear regression: it is the part of production that is not explained by observable inputs for production. Remarkably, Jones and Romer show that TFP explains a lot of the variation in GDP per worker across countries. This fact is captured in Figure 1.\n",
                "\n",
                "<br>\n",
                "\n",
                "<div align=\"center\">\n",
                " <figure style=\"display: table\">\n",
                "   <img src=\"https://raw.githubusercontent.com/letsgoexploring/econ126/master/Img/external_fig_08_New_Kaldor_Facts_Jones_Romer_Fig4.png\" width=\"75%\" height=\"75%\"> \n",
                "  <figcaption style=\"display: table-caption; caption-side: top; text-align: center;\" >Figure 1. <strong>TFP and GDP per capita across countries </strong> relative to the US. Source: Jones and Romer (2010)</figcaption>\n",
                "</figure> \n",
                "</div>\n",
                "\n",
                "<br>\n",
                "\n",
                "In this Notebook, we will replicate Figure 1 and use a linear regression procedure to estimate the relationship between TFP and GDP per worker. The data required for the exercise is named `cross_country_production.csv` and is available here: https://raw.githubusercontent.com/letsgoexploring/economic-data/master/cross-country-production/csv/cross_country_production.csv\n",
                "The file contains production data for many countries for the most recent year available in the Penn World Tables. In addition to the name and country code, the file contains the following data:\n",
                "\n",
                "\n",
                "| Name               | Description               | Units                           |\n",
                "|--------------------|---------------------------|---------------------------------|\n",
                "| `gdp`              | real GDP                  | Millions of constant US dollars |\n",
                "| `labor`            | Average number of workers | Millions                        |\n",
                "| `physical_capital` | Physical capital stock    | Millions of constant US dollars |\n",
                "| `human_capital`    | Human capital per worker  | Index (unitless)                |\n",
                "\n",
                "We can use the data to compute TFP for each country in the sample and then to replicate Figure 1."
            ]
        },
        {
            "cell_type": "markdown",
            "metadata": {},
            "source": [
                "## Replicate Figure from Jones and Romer (2010)\n",
                "\n",
                "Import the production data. Add new columns containing GDP per worker, physical capital per worker, and TFP. Construct three scatter plots:\n",
                "1. GDP per worker against physical capital per worker\n",
                "2. GDP per worker against human capital per worker\n",
                "3. TFP against GDP per worker"
            ]
        },
        {
            "cell_type": "code",
            "execution_count": null,
            "metadata": {},
            "outputs": [],
            "source": [
                "# Import data into a DataFrame called 'df'. Use the leftmost column as the index\n",
                "\n",
                "\n",
                "# Print the first five rows of the imported data\n"
            ]
        },
        {
            "cell_type": "code",
            "execution_count": null,
            "metadata": {},
            "outputs": [],
            "source": [
                "# Load metadata file. CELL PROVIDED\n",
                "metadata = pd.read_csv('https://raw.githubusercontent.com/letsgoexploring/economic-data/master/cross-country-production/csv/pwt_metadata.csv',index_col=0)['Values']\n",
                "base_year = int(metadata['base_year'])\n",
                "\n",
                "print('Base year for real GDP is:',base_year)"
            ]
        },
        {
            "cell_type": "code",
            "execution_count": null,
            "metadata": {},
            "outputs": [],
            "source": [
                "# Add a column to df called 'gdp_pw' equal to GDP divided by labor divided by 1000 so units are in thousands of $\n",
                "\n",
                "\n",
                "# Add a column to df called 'physical_capital_pw' equal to physical capital divided by labor divided by 1000 so units are in thousands of $\n",
                "\n",
                "\n",
                "# Set alpha to 1/3\n",
                "\n",
                "\n",
                "# Add a column to df called 'tfp' equal to TFP computed using the production function\n",
                "\n",
                "\n",
                "# Sort the rows of df so that the GDP per worker column is in ascending order\n"
            ]
        },
        {
            "cell_type": "code",
            "execution_count": null,
            "metadata": {},
            "outputs": [],
            "source": [
                "# Construct a scatter plot of real GDP per worker against human capital per worker with:\n",
                "#    1. All countries as blue circles, size 75, opacity (alpha) 0.25, label: 'All countries'\n",
                "#    2. USA as red square, size 75, opacity (alpha) 0.5, label='USA'\n",
                "#    3. Add a legend in the upper left corner with scatterpoints=1\n",
                "#    4. y-axis limits: [-10,250]\n",
                "#    5. x-axis label: 'Human capital per worker\\n(Index)'\n",
                "#    6. y-axis label: 'Real GDP per worker\\n(Thousands of '+str(base_year)+' $)'\n",
                "#    7. Add a grid if you'd like\n",
                "\n",
                "\n",
                "",
                "",
                "",
                "",
                "",
                "",
                "",
                "",
                ""
            ]
        },
        {
            "cell_type": "code",
            "execution_count": null,
            "metadata": {},
            "outputs": [],
            "source": [
                "# Construct a scatter plot of real GDP per worker against physical capital per worker with:\n",
                "#    1. All countries as blue circles, size 75, opacity (alpha) 0.25, label: 'All countries'\n",
                "#    2. USA as red square, size 75, opacity (alpha) 0.5, label='USA'\n",
                "#    3. Add a legend in the upper left corner with scatterpoints=1\n",
                "#    4. y-axis limits: [-10,250]\n",
                "#    5. x-axis label: 'Physical capital per worker\\n(Thousands of '+str(base_year)+' $)'\n",
                "#    6. y-axis label: 'Real GDP per worker\\n(Thousands of '+str(base_year)+' $)'\n",
                "#    7. Add a grid if you'd like\n",
                "\n",
                "\n",
                "",
                "",
                "",
                "",
                "",
                "",
                "",
                "",
                ""
            ]
        },
        {
            "cell_type": "code",
            "execution_count": null,
            "metadata": {},
            "outputs": [],
            "source": [
                "# Construct a scatter plot of TFP against real GDP per worker with:\n",
                "#    1. All countries as blue circles, size 75, opacity (alpha) 0.25, label: 'All countries'\n",
                "#    2. USA as red square, size 75, opacity (alpha) 0.5, label='USA'\n",
                "#    3. Add a legend in the upper left corner with scatterpoints=1\n",
                "#    4. x-axis limits: [-10,250]\n",
                "#    4. y-axis limits: [-10,1600]\n",
                "#    6. x-axis label: 'Real GDP capital per worker\\n(Thousands of '+str(base_year)+' $)'\n",
                "#    7. y-axis label: 'TFP (Unitless)'\n",
                "#    8. Add a grid if you'd like\n",
                "\n",
                "\n",
                "",
                "",
                "",
                "",
                "",
                "",
                "",
                "",
                "",
                ""
            ]
        },
        {
            "cell_type": "markdown",
            "metadata": {},
            "source": [
                "  "
            ]
        },
        {
            "cell_type": "markdown",
            "metadata": {},
            "source": [
                "## Estimate Relationship Between TFP and GDP per Worker\n",
                "\n",
                "The Statsmodels module is an excellent tool for a broad range of statistical applications. Learn more about Statsmodels here: https://www.statsmodels.org/stable/index.html. We can use the module to estimate the relationship between TFP and GDP per worker in our data.\n",
                "\n",
                "Since the scatter plot reveals some curvature in the relationship between TFP and GDP per worker, let's specifiy the linear regression model with the variables in logs:\n",
                "\n",
                "\\begin{align}\n",
                "\\log \\text{TFP}_i & = \\beta_0 + \\beta_1 \\log \\text{GDP}_i + \\epsilon_i\n",
                "\\end{align}\n",
                "\n",
                "Once we've obtained the estimated coefficients $\\hat{\\beta}_0$ and $\\hat{\\beta}_1$, we can compute predicted values for TFP $\\widehat{TFP}_i$ using by setting $\\epsilon_i=0$ and solving the regression equation for TFP:\n",
                "\n",
                "\\begin{align}\n",
                "\\widehat{TFP}_i & = \\exp\\left(\\hat{\\beta}_0 + \\hat{\\beta}_1 \\log \\text{GDP}_i\\right)\n",
                "\\end{align}"
            ]
        },
        {
            "cell_type": "code",
            "execution_count": null,
            "metadata": {},
            "outputs": [],
            "source": [
                "# Import the Statsmodels module\n"
            ]
        },
        {
            "cell_type": "code",
            "execution_count": null,
            "metadata": {},
            "outputs": [],
            "source": [
                "# Create a variable called 'y' that will be to the dependent variable in the regression\n",
                "\n",
                "\n",
                "# Create a variable called 'x' that will be to the independent variable in the regression\n",
                "\n",
                "\n",
                "# Use the function sm.add_constant() to add a constant to x\n",
                "\n",
                "\n",
                "# Print the first five rows of x\n"
            ]
        },
        {
            "cell_type": "code",
            "execution_count": null,
            "metadata": {},
            "outputs": [],
            "source": [
                "# Create an OLS model using Statsmodels\n",
                "\n",
                "\n",
                "# Fit the OLS model to data\n",
                "\n",
                "\n",
                "# Print the summary() method of results to print summary of regression results:\n"
            ]
        },
        {
            "cell_type": "markdown",
            "metadata": {},
            "source": [
                "Estimated coefficients are stored in the `params` attribute of `results`. Residuals of the regression are stored in the attribute `resid`. And predicted values of the dependent variable are stored in `fittedvalues`."
            ]
        },
        {
            "cell_type": "code",
            "execution_count": null,
            "metadata": {},
            "outputs": [],
            "source": [
                "# Print estimated coefficients of linear regression\n"
            ]
        },
        {
            "cell_type": "code",
            "execution_count": null,
            "metadata": {},
            "outputs": [],
            "source": [
                "# Print R-squared of the regression\n"
            ]
        },
        {
            "cell_type": "markdown",
            "metadata": {},
            "source": [
                "**Question**\n",
                "\n",
                "1. What is the interpretation of the coefficient on log GDP per worker?\n",
                "2. What is the R-squared of the regression? What does it mean?"
            ]
        },
        {
            "cell_type": "markdown",
            "metadata": {},
            "source": [
                "**Answer**\n",
                "\n",
                "1.  \n\n",
                "2.  "
            ]
        },
        {
            "cell_type": "code",
            "execution_count": null,
            "metadata": {},
            "outputs": [],
            "source": [
                "# Print the first five rows of residuals.\n"
            ]
        },
        {
            "cell_type": "code",
            "execution_count": null,
            "metadata": {},
            "outputs": [],
            "source": [
                "# Print the mean of the residuals of the regression.\n"
            ]
        },
        {
            "cell_type": "code",
            "execution_count": null,
            "metadata": {},
            "outputs": [],
            "source": [
                "# Create a variable called 'yhat' equal to the fitted values of y:\n",
                "\n",
                "\n",
                "# Print the first five rows of yhat\n"
            ]
        },
        {
            "cell_type": "markdown",
            "metadata": {},
            "source": [
                "Recall that we can use estimated parameters can be used to compute out-of-sample predictions:\n",
                "\n",
                "\\begin{align}\n",
                "\\widehat{TFP}_i & = \\exp\\left(\\hat{\\beta}_0 + \\hat{\\beta}_1 \\log \\text{GDP}_i\\right)\n",
                "\\end{align}"
            ]
        },
        {
            "cell_type": "code",
            "execution_count": null,
            "metadata": {},
            "outputs": [],
            "source": [
                "# Create variable called 'gdp_values' that is an array from 0.1 to 1000\n",
                "\n",
                "\n",
                "# Create variable called 'beta0' equal to the constant of the regression\n",
                "\n",
                "\n",
                "# Create variable called 'beta1' equal to the coefficient on log GDP per worker from the regression\n",
                "\n",
                "\n",
                "# Create a variable called 'ahat' that is equal to the predicted values of TFP corresponding to gdp_values\n"
            ]
        },
        {
            "cell_type": "code",
            "execution_count": null,
            "metadata": {},
            "outputs": [],
            "source": [
                "# Recreate the scatter plot of TFP against real GDP per worker with:\n",
                "#    1. All features and settings from the previous plot\n",
                "#    2. A plot of ahat against gdp_values; linewidth: 3, opacity: 0.5, label: 'OLS', color: magenta (c='m')\n",
                "\n",
                "\n",
                "",
                "",
                "",
                "",
                "",
                "",
                "",
                "",
                "",
                "",
                ""
            ]
        }
    ],
    "metadata": {
        "kernelspec": {
            "display_name": "Python 3 (ipykernel)",
            "language": "python",
            "name": "python3"
        },
        "language_info": {
            "codemirror_mode": {
                "name": "ipython",
                "version": 3
            },
            "file_extension": ".py",
            "mimetype": "text/x-python",
            "name": "python",
            "nbconvert_exporter": "python",
            "pygments_lexer": "ipython3",
            "version": "3.9.12"
        }
    },
    "nbformat": 4,
    "nbformat_minor": 2
}