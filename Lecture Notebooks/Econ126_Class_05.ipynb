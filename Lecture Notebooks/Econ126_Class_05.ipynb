{
 "cells": [
  {
   "cell_type": "code",
   "execution_count": 1,
   "metadata": {},
   "outputs": [],
   "source": [
    "import numpy as np\n",
    "import matplotlib.pyplot as plt\n",
    "plt.style.use('classic')\n",
    "%matplotlib inline"
   ]
  },
  {
   "cell_type": "markdown",
   "metadata": {},
   "source": [
    "# Class 5: Managing Data with Pandas \n",
    "\n",
    "Pandas is a Python library for managing datasets. Documentation and examples are available on the website for Pandas: http://pandas.pydata.org/. \n",
    "\n",
    "In this Notebook, we'll make use of a dataset containing long-run averages of inflation, money growth, and real GDP. The dataset is available here: https://raw.githubusercontent.com/letsgoexploring/economic-data/master/quantity-theory/csv/quantity_theory_data.csv (Python code to generate the dataset: https://github.com/letsgoexploring/economic-data). Recall that the quantity theory of money implies the following linear relationship between the long-run rate of money growth, the long-run rate of inflation, and the long-run rate of real GDP growth in a country:\n",
    "\n",
    "\\begin{align}\n",
    "\\text{inflation} & = \\text{money growth} - \\text{real GDP growth},\n",
    "\\end{align}\n",
    "\n",
    "Generally, we treat real GDP growth and money supply growth as exogenous so this is a theory about the determination of inflation."
   ]
  },
  {
   "cell_type": "markdown",
   "metadata": {},
   "source": [
    "### Import Pandas"
   ]
  },
  {
   "cell_type": "code",
   "execution_count": 2,
   "metadata": {},
   "outputs": [],
   "source": [
    "# Import the Pandas module as pd\n",
    "import pandas as pd"
   ]
  },
  {
   "cell_type": "markdown",
   "metadata": {},
   "source": [
    "### Import data from a csv file\n",
    "\n",
    "Pandas has a function called `read_csv()` for reading data from a csv file into a Pandas `DataFrame` object."
   ]
  },
  {
   "cell_type": "code",
   "execution_count": 3,
   "metadata": {},
   "outputs": [],
   "source": [
    "# Import quantity theory data into a Pandas DataFrame called 'df' with country names as the index.\n",
    "\n",
    "# Directly from internet\n",
    "df = pd.read_csv('https://raw.githubusercontent.com/letsgoexploring/economic-data/master/quantity-theory/csv/quantity_theory_data.csv')\n",
    "\n",
    "# From current working directory\n",
    "# df = pd.read_csv('quantity_theort_data.csv')"
   ]
  },
  {
   "cell_type": "code",
   "execution_count": 4,
   "metadata": {},
   "outputs": [
    {
     "name": "stdout",
     "output_type": "stream",
     "text": [
      "               country iso code  observations  money growth  inflation  \\\n",
      "0          Afghanistan      AFG          15.0      0.150122   0.051341   \n",
      "1              Albania      ALB          27.0      0.123369   0.044337   \n",
      "2              Algeria      DZA          57.0      0.158140   0.097188   \n",
      "3               Angola      AGO          26.0      0.797250   0.707227   \n",
      "4  Antigua and Barbuda      ATG          44.0      0.085747   0.036676   \n",
      "\n",
      "   gdp growth income group oecd  \n",
      "0    0.058126          low   no  \n",
      "1    0.043028       middle   no  \n",
      "2    0.035629       middle   no  \n",
      "3    0.051527       middle   no  \n",
      "4    0.031262         high   no  \n"
     ]
    }
   ],
   "source": [
    "# Print the first 5 rows\n",
    "print(df.head())"
   ]
  },
  {
   "cell_type": "code",
   "execution_count": 5,
   "metadata": {},
   "outputs": [
    {
     "name": "stdout",
     "output_type": "stream",
     "text": [
      "                  country iso code  observations  money growth  inflation  \\\n",
      "152  United Arab Emirates      ARE          46.0      0.120548   0.027046   \n",
      "153        United Kingdom      GBR          61.0      0.101522   0.053019   \n",
      "154         United States      USA          61.0      0.073736   0.032735   \n",
      "155               Uruguay      URY          61.0      0.387103   0.342051   \n",
      "156               Vanuatu      VUT          42.0      0.069385   0.040736   \n",
      "157               Vietnam      VNM          26.0      0.247653   0.082207   \n",
      "158    West Bank and Gaza      PSE          21.0      0.084589   0.031016   \n",
      "159           Yemen, Rep.      YEM          24.0      0.178001   0.147703   \n",
      "160                Zambia      ZMB          28.0      0.258613   0.169590   \n",
      "161              Zimbabwe      ZWE          27.0      0.053944  -0.009568   \n",
      "\n",
      "     gdp growth income group oecd  \n",
      "152    0.043523         high   no  \n",
      "153    0.022068         high  yes  \n",
      "154    0.029028         high  yes  \n",
      "155    0.020341         high   no  \n",
      "156    0.022147       middle   no  \n",
      "157    0.065011       middle   no  \n",
      "158    0.039549       middle   no  \n",
      "159    0.040082          low   no  \n",
      "160    0.044777          low   no  \n",
      "161    0.013777       middle   no  \n"
     ]
    }
   ],
   "source": [
    "# Print the last 10 rows\n",
    "print(df.tail(10))"
   ]
  },
  {
   "cell_type": "code",
   "execution_count": 6,
   "metadata": {},
   "outputs": [
    {
     "name": "stdout",
     "output_type": "stream",
     "text": [
      "<class 'pandas.core.frame.DataFrame'>\n"
     ]
    }
   ],
   "source": [
    "# Print the type of variable 'df'\n",
    "print(type(df))"
   ]
  },
  {
   "cell_type": "markdown",
   "metadata": {},
   "source": [
    "### Properties of `DataFrame` objects\n",
    "\n",
    "Like entries in a spreadsheet file, elements in a `DataFrame` object have row (or *index*) and column coordinates. Column names are always strings. Index elements can be integers, strings, or dates."
   ]
  },
  {
   "cell_type": "code",
   "execution_count": 7,
   "metadata": {},
   "outputs": [
    {
     "name": "stdout",
     "output_type": "stream",
     "text": [
      "Index(['country', 'iso code', 'observations', 'money growth', 'inflation',\n",
      "       'gdp growth', 'income group', 'oecd'],\n",
      "      dtype='object')\n"
     ]
    }
   ],
   "source": [
    "# Print the columns of df\n",
    "print(df.columns)"
   ]
  },
  {
   "cell_type": "code",
   "execution_count": 8,
   "metadata": {},
   "outputs": [
    {
     "name": "stdout",
     "output_type": "stream",
     "text": [
      "0      0.150122\n",
      "1      0.123369\n",
      "2      0.158140\n",
      "3      0.797250\n",
      "4      0.085747\n",
      "         ...   \n",
      "157    0.247653\n",
      "158    0.084589\n",
      "159    0.178001\n",
      "160    0.258613\n",
      "161    0.053944\n",
      "Name: money growth, Length: 162, dtype: float64\n"
     ]
    }
   ],
   "source": [
    "# Create a new variable called 'money' equal to the 'money growth' column and print\n",
    "money = df['money growth']\n",
    "print(money)"
   ]
  },
  {
   "cell_type": "code",
   "execution_count": 9,
   "metadata": {},
   "outputs": [
    {
     "name": "stdout",
     "output_type": "stream",
     "text": [
      "<class 'pandas.core.series.Series'>\n"
     ]
    }
   ],
   "source": [
    "# Print the type of the variable money\n",
    "print(type(money))"
   ]
  },
  {
   "cell_type": "markdown",
   "metadata": {},
   "source": [
    "A Pandas `Series` stores one column of data. Like a `DataFrame`, a `Series` object has an index. Note that `money` has the same index as `df`. Instead of having a column, the `Series` has a `name` attribute."
   ]
  },
  {
   "cell_type": "code",
   "execution_count": 10,
   "metadata": {},
   "outputs": [
    {
     "name": "stdout",
     "output_type": "stream",
     "text": [
      "money growth\n"
     ]
    }
   ],
   "source": [
    "# Print the name of the 'money' variable\n",
    "print(money.name)"
   ]
  },
  {
   "cell_type": "markdown",
   "metadata": {},
   "source": [
    "Select multiple columns of a `DataFrame` by puting the desired column names in a set a of square brackets (i.e., in a `list`)."
   ]
  },
  {
   "cell_type": "code",
   "execution_count": 11,
   "metadata": {},
   "outputs": [
    {
     "name": "stdout",
     "output_type": "stream",
     "text": [
      "   inflation  money growth  gdp growth\n",
      "0   0.051341      0.150122    0.058126\n",
      "1   0.044337      0.123369    0.043028\n",
      "2   0.097188      0.158140    0.035629\n",
      "3   0.707227      0.797250    0.051527\n",
      "4   0.036676      0.085747    0.031262\n"
     ]
    }
   ],
   "source": [
    "# Print the first 5 rows of just the inflation, money growth, and gdp growth columns\n",
    "print(df[['inflation','money growth','gdp growth']].head())"
   ]
  },
  {
   "cell_type": "markdown",
   "metadata": {},
   "source": [
    "As mentioned, the set of row coordinates is the index. Unless specified otherwise, Pandas automatically assigns an integer index starting at 0 to rows of the `DataFrame`."
   ]
  },
  {
   "cell_type": "code",
   "execution_count": 12,
   "metadata": {},
   "outputs": [
    {
     "name": "stdout",
     "output_type": "stream",
     "text": [
      "RangeIndex(start=0, stop=162, step=1)\n"
     ]
    }
   ],
   "source": [
    "# Print the index of 'df'\n",
    "print(df.index)"
   ]
  },
  {
   "cell_type": "markdown",
   "metadata": {},
   "source": [
    "Note that in the index of the `df` is the numbers 0 through 177. We could have specified a different index when we imported the data using `read_csv()`. For example, suppose we want to the country names to be the index of `df`. Since country names are in the first column of the data file, we can pass the argument `index_col=0` to `read_csv()`"
   ]
  },
  {
   "cell_type": "code",
   "execution_count": 13,
   "metadata": {},
   "outputs": [
    {
     "name": "stdout",
     "output_type": "stream",
     "text": [
      "                    iso code  observations  money growth  inflation  \\\n",
      "country                                                               \n",
      "Afghanistan              AFG          15.0      0.150122   0.051341   \n",
      "Albania                  ALB          27.0      0.123369   0.044337   \n",
      "Algeria                  DZA          57.0      0.158140   0.097188   \n",
      "Angola                   AGO          26.0      0.797250   0.707227   \n",
      "Antigua and Barbuda      ATG          44.0      0.085747   0.036676   \n",
      "\n",
      "                     gdp growth income group oecd  \n",
      "country                                            \n",
      "Afghanistan            0.058126          low   no  \n",
      "Albania                0.043028       middle   no  \n",
      "Algeria                0.035629       middle   no  \n",
      "Angola                 0.051527       middle   no  \n",
      "Antigua and Barbuda    0.031262         high   no  \n"
     ]
    }
   ],
   "source": [
    "# Import quantity theory data into a Pandas DataFrame called 'df' with country names as the index.\n",
    "df = pd.read_csv('https://raw.githubusercontent.com/letsgoexploring/economic-data/master/quantity-theory/csv/quantity_theory_data.csv',index_col=0)\n",
    "\n",
    "# Print first 5 rows of df\n",
    "print(df.head())"
   ]
  },
  {
   "cell_type": "markdown",
   "metadata": {},
   "source": [
    "Use the `loc` attribute to select rows of the `DataFrame` by index *values*."
   ]
  },
  {
   "cell_type": "code",
   "execution_count": 14,
   "metadata": {},
   "outputs": [
    {
     "name": "stdout",
     "output_type": "stream",
     "text": [
      "iso code             USA\n",
      "observations        61.0\n",
      "money growth    0.073736\n",
      "inflation       0.032735\n",
      "gdp growth      0.029028\n",
      "income group        high\n",
      "oecd                 yes\n",
      "Name: United States, dtype: object\n"
     ]
    }
   ],
   "source": [
    "# Create a new variable called 'usa_row' equal to the 'United States' row and print\n",
    "usa_row = df.loc['United States']\n",
    "print(usa_row)"
   ]
  },
  {
   "cell_type": "markdown",
   "metadata": {},
   "source": [
    "Use `iloc` attribute to select row based on integer location (starting from 0)."
   ]
  },
  {
   "cell_type": "code",
   "execution_count": 15,
   "metadata": {},
   "outputs": [
    {
     "name": "stdout",
     "output_type": "stream",
     "text": [
      "iso code             DZA\n",
      "observations        57.0\n",
      "money growth     0.15814\n",
      "inflation       0.097188\n",
      "gdp growth      0.035629\n",
      "income group      middle\n",
      "oecd                  no\n",
      "Name: Algeria, dtype: object\n"
     ]
    }
   ],
   "source": [
    "# Create a new variable called 'third_row' equal to the third row in the DataFrame and print\n",
    "third_row = df.iloc[2]\n",
    "print(third_row)"
   ]
  },
  {
   "cell_type": "markdown",
   "metadata": {},
   "source": [
    "There are several ways to return a single element of a Pandas `DataFrame`. For example, here are three that we want to return the value of inflation for the United States from the DataFrame `df`:\n",
    "\n",
    "1. `df.loc['United States','inflation']`\n",
    "2. `df.loc['United States']['inflation']`\n",
    "3. `df['inflation']['United States']`\n",
    "\n",
    "The first method points directly to the element in the `df` while the second and third methods return *copies* of the element. That means that you can modify the value of inflation for the United States by running:\n",
    "\n",
    "    df.loc['United States','inflation'] = new_value\n",
    "    \n",
    "But running either:\n",
    "\n",
    "    df.loc['United States']['inflation'] = new_value\n",
    "    \n",
    "or:\n",
    "\n",
    "    df['inflation']['United States'] = new_value\n",
    "\n",
    "will return a warning from Pandas."
   ]
  },
  {
   "cell_type": "code",
   "execution_count": 16,
   "metadata": {},
   "outputs": [
    {
     "name": "stdout",
     "output_type": "stream",
     "text": [
      "Long-run average inflation in US:  0.032735059005319\n"
     ]
    }
   ],
   "source": [
    "# Print the inflation rate of the United States  (By index and column together)\n",
    "print('Long-run average inflation in US: ',df.loc['United States','inflation'])"
   ]
  },
  {
   "cell_type": "code",
   "execution_count": 17,
   "metadata": {},
   "outputs": [
    {
     "name": "stdout",
     "output_type": "stream",
     "text": [
      "Long-run average inflation in US:  0.032735059005319\n"
     ]
    }
   ],
   "source": [
    "# Print the inflation rate of the United States (first by index, then by column)\n",
    "print('Long-run average inflation in US: ',df.loc['United States']['inflation'])"
   ]
  },
  {
   "cell_type": "code",
   "execution_count": 18,
   "metadata": {},
   "outputs": [
    {
     "name": "stdout",
     "output_type": "stream",
     "text": [
      "Long-run average inflation in US:  0.032735059005319\n"
     ]
    }
   ],
   "source": [
    "# Print the inflation rate of the United States  (first by column, then by index)\n",
    "print('Long-run average inflation in US: ',df['inflation']['United States'])"
   ]
  },
  {
   "cell_type": "markdown",
   "metadata": {},
   "source": [
    "New columns are easily created as functions of existing columns."
   ]
  },
  {
   "cell_type": "code",
   "execution_count": 19,
   "metadata": {},
   "outputs": [
    {
     "name": "stdout",
     "output_type": "stream",
     "text": [
      "country\n",
      "Afghanistan            0.098781\n",
      "Albania                0.079032\n",
      "Algeria                0.060952\n",
      "Angola                 0.090023\n",
      "Antigua and Barbuda    0.049071\n",
      "                         ...   \n",
      "Vietnam                0.165446\n",
      "West Bank and Gaza     0.053573\n",
      "Yemen, Rep.            0.030298\n",
      "Zambia                 0.089023\n",
      "Zimbabwe               0.063513\n",
      "Name: difference, Length: 162, dtype: float64\n"
     ]
    }
   ],
   "source": [
    "# Create a new column called 'difference' equal to the money growth column minus \n",
    "# the inflation column and print the modified DataFrame\n",
    "df['difference'] = df['money growth'] - df['inflation']\n",
    "print(df['difference'])"
   ]
  },
  {
   "cell_type": "code",
   "execution_count": 20,
   "metadata": {},
   "outputs": [
    {
     "name": "stdout",
     "output_type": "stream",
     "text": [
      "0.0686424022543229\n"
     ]
    }
   ],
   "source": [
    "# Print the average difference between money growth and inflation\n",
    "print(df.difference.mean())"
   ]
  },
  {
   "cell_type": "code",
   "execution_count": 21,
   "metadata": {},
   "outputs": [
    {
     "name": "stdout",
     "output_type": "stream",
     "text": [
      "                     money growth  inflation  gdp growth income group oecd\n",
      "country                                                                   \n",
      "Afghanistan              0.150122   0.051341    0.058126          low   no\n",
      "Albania                  0.123369   0.044337    0.043028       middle   no\n",
      "Algeria                  0.158140   0.097188    0.035629       middle   no\n",
      "Angola                   0.797250   0.707227    0.051527       middle   no\n",
      "Antigua and Barbuda      0.085747   0.036676    0.031262         high   no\n",
      "...                           ...        ...         ...          ...  ...\n",
      "Vietnam                  0.247653   0.082207    0.065011       middle   no\n",
      "West Bank and Gaza       0.084589   0.031016    0.039549       middle   no\n",
      "Yemen, Rep.              0.178001   0.147703    0.040082          low   no\n",
      "Zambia                   0.258613   0.169590    0.044777          low   no\n",
      "Zimbabwe                 0.053944  -0.009568    0.013777       middle   no\n",
      "\n",
      "[162 rows x 5 columns]\n"
     ]
    }
   ],
   "source": [
    "# Remove the following columns from the DataFrame: 'iso code','observations','difference'\n",
    "df = df.drop(['iso code','observations','difference'],axis=1)\n",
    "\n",
    "# Print the modified DataFrame\n",
    "print(df)"
   ]
  },
  {
   "cell_type": "markdown",
   "metadata": {},
   "source": [
    "### Methods\n",
    "\n",
    "A Pandas `DataFrame` has a bunch of useful methods defined for it. `describe()` returns some summary statistics."
   ]
  },
  {
   "cell_type": "code",
   "execution_count": 22,
   "metadata": {},
   "outputs": [
    {
     "name": "stdout",
     "output_type": "stream",
     "text": [
      "       money growth   inflation  gdp growth\n",
      "count    162.000000  162.000000  162.000000\n",
      "mean       0.188639    0.119996    0.036840\n",
      "std        0.156658    0.158197    0.017224\n",
      "min        0.040071   -0.009568   -0.010763\n",
      "25%        0.104196    0.044072    0.024998\n",
      "50%        0.142738    0.070639    0.036479\n",
      "75%        0.202586    0.118832    0.045106\n",
      "max        1.247697    1.277045    0.127293\n"
     ]
    }
   ],
   "source": [
    "# Print the summary statistics for 'df'\n",
    "print(df.describe())"
   ]
  },
  {
   "cell_type": "markdown",
   "metadata": {},
   "source": [
    "The `corr()` method returns a `DataFrame` containing the correlation coefficients of the specified `DataFrame`."
   ]
  },
  {
   "cell_type": "code",
   "execution_count": 23,
   "metadata": {},
   "outputs": [
    {
     "name": "stdout",
     "output_type": "stream",
     "text": [
      "              money growth  inflation  gdp growth\n",
      "money growth      1.000000   0.978395   -0.016426\n",
      "inflation         0.978395   1.000000   -0.158635\n",
      "gdp growth       -0.016426  -0.158635    1.000000\n"
     ]
    }
   ],
   "source": [
    "# Create a variable called 'correlations' containg the correlation coefficients for columns in 'df'\n",
    "correlations = df.corr()\n",
    "\n",
    "# Print the correlation coefficients\n",
    "print(correlations)"
   ]
  },
  {
   "cell_type": "code",
   "execution_count": 24,
   "metadata": {},
   "outputs": [
    {
     "name": "stdout",
     "output_type": "stream",
     "text": [
      "corr of inflation and money growth:  0.9784\n",
      "corr of inflation and gdp growth:    -0.1586\n",
      "corr of money growth and gdp growth: -0.0164\n"
     ]
    }
   ],
   "source": [
    "# Print the correlation coefficient for inflation and money growth\n",
    "print('corr of inflation and money growth: ',round(correlations.loc['inflation','money growth'],4))\n",
    "\n",
    "# Print the correlation coefficient for inflation and real GDP growth\n",
    "print('corr of inflation and gdp growth:   ',round(correlations.loc['inflation','gdp growth'],4))\n",
    "\n",
    "# Print the correlation coefficient for money growth and real GDP growth\n",
    "print('corr of money growth and gdp growth:',round(correlations.loc['money growth','gdp growth'],4))"
   ]
  },
  {
   "cell_type": "markdown",
   "metadata": {},
   "source": [
    "`sort_values()` returns a copy of the original `DataFrame` sorted along the given column. The optional argument `ascending` is set to `True` by default, but can be changed to `False` if you want to print the lowest first."
   ]
  },
  {
   "cell_type": "code",
   "execution_count": 25,
   "metadata": {
    "scrolled": false
   },
   "outputs": [
    {
     "name": "stdout",
     "output_type": "stream",
     "text": [
      "                       money growth  inflation  gdp growth income group oecd\n",
      "country                                                                     \n",
      "Zimbabwe                   0.053944  -0.009568    0.013777       middle   no\n",
      "Switzerland                0.055312   0.015849    0.017889         high  yes\n",
      "Hong Kong SAR, China       0.082692   0.016478    0.030783         high   no\n",
      "Kosovo                     0.090937   0.017213    0.037735       middle   no\n",
      "Canada                     0.104122   0.018238    0.037405         high  yes\n",
      "Belize                     0.092666   0.020800    0.041291       middle   no\n",
      "Micronesia, Fed. Sts.      0.040071   0.022898    0.001735       middle   no\n",
      "Singapore                  0.114496   0.023928    0.068670         high   no\n",
      "Kuwait                     0.068904   0.024194    0.038129         high   no\n",
      "Israel                     0.082680   0.025345    0.036902         high  yes\n"
     ]
    }
   ],
   "source": [
    "# Print rows for the countries with the 10 lowest inflation rates\n",
    "print(df.sort_values('inflation').head(10))"
   ]
  },
  {
   "cell_type": "code",
   "execution_count": 26,
   "metadata": {},
   "outputs": [
    {
     "name": "stdout",
     "output_type": "stream",
     "text": [
      "                  money growth  inflation  gdp growth income group oecd\n",
      "country                                                                \n",
      "Congo, Dem. Rep.      1.247697   1.277045   -0.002394          low   no\n",
      "Brazil                0.884725   0.767539    0.037831       middle   no\n",
      "Argentina             0.763078   0.712015    0.024488       middle   no\n",
      "Angola                0.797250   0.707227    0.051527       middle   no\n",
      "Nicaragua             0.613518   0.544811    0.024513       middle   no\n",
      "Ukraine               0.491991   0.515464   -0.010763       middle   no\n",
      "Belarus               0.538495   0.488265    0.039307       middle   no\n",
      "Peru                  0.507193   0.428761    0.035462       middle   no\n",
      "Armenia               0.404728   0.355708    0.050477       middle   no\n",
      "Azerbaijan            0.412026   0.351123    0.043543       middle   no\n"
     ]
    }
   ],
   "source": [
    "# Print rows for the countries with the 10 highest inflation rates\n",
    "print(df.sort_values('inflation',ascending=False).head(10))"
   ]
  },
  {
   "cell_type": "markdown",
   "metadata": {},
   "source": [
    "Note that `sort_values` and `sort_index` return *copies* of the original `DataFrame`. If, in the previous example, we had wanted to actually modify `df`, we would have need to explicitly overwrite it:\n",
    "\n",
    "    df = df.sort_index(ascending=False)"
   ]
  },
  {
   "cell_type": "code",
   "execution_count": 27,
   "metadata": {},
   "outputs": [
    {
     "name": "stdout",
     "output_type": "stream",
     "text": [
      "                      money growth  inflation  gdp growth income group oecd\n",
      "country                                                                    \n",
      "Zimbabwe                  0.053944  -0.009568    0.013777       middle   no\n",
      "Zambia                    0.258613   0.169590    0.044777          low   no\n",
      "Yemen, Rep.               0.178001   0.147703    0.040082          low   no\n",
      "West Bank and Gaza        0.084589   0.031016    0.039549       middle   no\n",
      "Vietnam                   0.247653   0.082207    0.065011       middle   no\n",
      "Vanuatu                   0.069385   0.040736    0.022147       middle   no\n",
      "Uruguay                   0.387103   0.342051    0.020341         high   no\n",
      "United States             0.073736   0.032735    0.029028         high  yes\n",
      "United Kingdom            0.101522   0.053019    0.022068         high  yes\n",
      "United Arab Emirates      0.120548   0.027046    0.043523         high   no\n"
     ]
    }
   ],
   "source": [
    "# Print first 10 rows with the index sorted in descending alphabetical order\n",
    "print(df.sort_index(ascending=False).head(10))"
   ]
  },
  {
   "cell_type": "markdown",
   "metadata": {},
   "source": [
    "### Quick plotting example\n",
    "\n",
    "Construct a graph that visually confirms the quantity theory of money by making a scatter plot with average money growth on the horizontal axis and average inflation on the vertical axis. Set the marker size `s` to 50 and opacity (`alpha`) 0.25. Add a 45 degree line, axis labels, and a title. Lower and upper limits for the horizontal and vertical axes should be -0.2 and 1.2."
   ]
  },
  {
   "cell_type": "code",
   "execution_count": 28,
   "metadata": {},
   "outputs": [
    {
     "data": {
      "image/png": "[encoded data removed]",
      "text/plain": [
       "<Figure size 432x288 with 1 Axes>"
      ]
     },
     "metadata": {
      "needs_background": "light"
     },
     "output_type": "display_data"
    }
   ],
   "source": [
    "# Create data for 45 degree line\n",
    "x45 = [-0.2,1.2]\n",
    "y45 = [-0.2,1.2]\n",
    "\n",
    "# Create figure and axis\n",
    "fig = plt.figure()\n",
    "ax = fig.add_subplot(1,1,1)\n",
    "\n",
    "# Plot 45 degree line and create legend in lower right corner\n",
    "ax.plot(x45,y45,'-r',label = '$45^{\\circ}$')\n",
    "ax.legend(loc='lower right')\n",
    "\n",
    "# Scatter plot of data inflation against money growth\n",
    "ax.scatter(df['money growth'],df['inflation'],s=50,alpha = 0.25)\n",
    "ax.set_xlim([-0.2,1.2])\n",
    "ax.set_ylim([-0.2,1.2])\n",
    "ax.set_xlabel('money growth')\n",
    "ax.set_ylabel('inflation')\n",
    "ax.set_title('Average inflation against average money growth \\nfor '+str(len(df.index))+' countries.')\n",
    "ax.grid()"
   ]
  },
  {
   "cell_type": "markdown",
   "metadata": {},
   "source": [
    "### Exporting a `DataFrame` to csv\n",
    "\n",
    "Use the DataFrame method `to_csv()` to export DataFrame to a csv file."
   ]
  },
  {
   "cell_type": "code",
   "execution_count": 29,
   "metadata": {},
   "outputs": [],
   "source": [
    "# Export the DataFrame 'df' to a csv file called 'modified_data.csv'.\n",
    "df.to_csv('modified_data.csv')"
   ]
  }
 ],
 "metadata": {
  "anaconda-cloud": {},
  "kernelspec": {
   "display_name": "Python 3 (ipykernel)",
   "language": "python",
   "name": "python3"
  },
  "language_info": {
   "codemirror_mode": {
    "name": "ipython",
    "version": 3
   },
   "file_extension": ".py",
   "mimetype": "text/x-python",
   "name": "python",
   "nbconvert_exporter": "python",
   "pygments_lexer": "ipython3",
   "version": "3.9.12"
  }
 },
 "nbformat": 4,
 "nbformat_minor": 1
}
