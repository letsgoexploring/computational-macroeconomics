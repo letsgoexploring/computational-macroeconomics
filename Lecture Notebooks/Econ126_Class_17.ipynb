{
 "cells": [
  {
   "cell_type": "code",
   "execution_count": 1,
   "metadata": {},
   "outputs": [],
   "source": [
    "import numpy as np\n",
    "import pandas as pd\n",
    "import linearsolve as ls\n",
    "import matplotlib.pyplot as plt\n",
    "plt.style.use('classic')\n",
    "%matplotlib inline"
   ]
  },
  {
   "cell_type": "markdown",
   "metadata": {},
   "source": [
    "# Class 17: Introduction to New-Keynesian Business Cycle Modeling\n",
    "\n",
    "In this notebook, we will use `linearsolve` to compute impulse responses of output, inflation, and the nominal interest rate to an aggregate demand shock in the New-Keynesian model.\n",
    "\n",
    "## The New-Keynesian Model\n",
    "\n",
    "The most basic version of the New-Keynesian Model can be expressed as:\n",
    "\n",
    "\\begin{align}\n",
    "y_t & = E_t y_{t+1}  - \\left( r_{t} - \\bar{r}\\right) + g_t\\\\\n",
    "i_{t} & = r_{t} + E_t \\pi_{t+1}\\\\\n",
    "i_{t} & = \\bar{r} + \\pi^T + \\phi_{\\pi}\\big(\\pi_t - \\pi^T\\big) + \\phi_{y}\\big(y_t - \\bar{y}\\big) + v_t\\\\\n",
    "\\pi_t -\\pi^T & = \\beta \\left( E_t\\pi_{t+1} - \\pi^T\\right)  + \\kappa (y_t -\\bar{y})+ u_t,\n",
    "\\end{align}\n",
    "\n",
    "where: $y_t$ is (log) output, $r_t$ is the real interest rate, $i_t$ is the nominal interest rate, $\\pi_t$ is the rate of inflation between periods $t-1$ and $t$, $\\bar{r}$ is the long-run average real interest rate or the *natural rate of interest*, $\\beta$ is the household's subjective discount factor, and $\\pi^T$ is the central bank's inflation target. The coeffieints $\\phi_{\\pi}$ and $\\phi_{y}$ reflect the degree of intensity to which the central bank *endogenously* adjusts the nominal interest rate in response to movements in inflation and output.\n",
    "\n",
    "The variables $g_t$, $u_t$, and $v_t$ represent exogenous shocks to aggregate demand, inflation, and monetary policy. They follow AR(1) processes:\n",
    "\n",
    "\\begin{align}\n",
    "g_{t+1} & = \\rho_g g_{t} + \\epsilon^g_{t+1}\\\\\n",
    "u_{t+1} & = \\rho_u u_{t} + \\epsilon^u_{t+1}\\\\\n",
    "v_{t+1} & = \\rho_v v_{t} + \\epsilon^v_{t+1}.\n",
    "\\end{align}\n",
    "\n",
    "The goal is to compute impulse responses in the model to a one percent exogenous increase in the nominal interest rate. We will use the following parameterization:\n",
    "\n",
    "| $$\\bar{y}$$ | $$\\beta$$ | $$\\bar{r}$$    | $$\\kappa$$ | $$\\pi^T$$ | $$\\phi_{\\pi}$$ | $$\\phi_y$$ | $$\\rho_g$$ | $$\\rho_u$$ | $$\\rho_v$$ | \n",
    "|-------------|-----------|----------------|------------|-----------|----------------|------------|------------|------------|------------|\n",
    "| 0           | 0.995     | $$-\\log\\beta$$ | 0.25        | 0.02/4    | 1.5            | 0.5/4      | 0.5        | 0.5        | 0.5        |"
   ]
  },
  {
   "cell_type": "code",
   "execution_count": 2,
   "metadata": {},
   "outputs": [
    {
     "name": "stdout",
     "output_type": "stream",
     "text": [
      "y_bar     0.000000\n",
      "beta      0.995000\n",
      "r_bar     0.005013\n",
      "kappa     0.250000\n",
      "pi_T      0.005000\n",
      "phi_pi    1.500000\n",
      "phi_y     0.125000\n",
      "rho_g     0.500000\n",
      "rho_u     0.500000\n",
      "rho_v     0.500000\n",
      "dtype: float64\n"
     ]
    }
   ],
   "source": [
    "# Create a variable called 'parameters' that stores the model parameter values in a Pandas Series\n",
    "parameters = pd.Series(dtype=float)\n",
    "parameters['y_bar'] = 0\n",
    "parameters['beta'] = 0.995\n",
    "parameters['r_bar'] = -np.log(parameters.beta)\n",
    "parameters['kappa'] = 0.25\n",
    "parameters['pi_T'] = 0.02/4\n",
    "parameters['phi_pi'] = 1.5\n",
    "parameters['phi_y'] = 0.5/4\n",
    "parameters['rho_g'] = 0.5\n",
    "parameters['rho_u'] = 0.5\n",
    "parameters['rho_v'] = 0.5\n",
    "\n",
    "# Print the model's parameters\n",
    "print(parameters)"
   ]
  },
  {
   "cell_type": "code",
   "execution_count": 3,
   "metadata": {},
   "outputs": [],
   "source": [
    "# Create variable called 'var_names' that stores the variable names in a list with exogenous state variables\n",
    "# ordered first, endogenous state variables ordered second, and control variables ordered last.\n",
    "var_names = ['g','u','v','y','pi','i','r']\n",
    "\n",
    "# Create variable called 'shock_names' that stores an exogenous shock name for each exogenous state variable.\n",
    "shock_names = ['e_g','e_u','e_v']\n",
    "\n",
    "# Define a function that evaluates the equilibrium conditions of the model solved for zero. PROVIDED\n",
    "def equilibrium_equations(variables_forward,variables_current,parameters):\n",
    "    \n",
    "    # Parameters. PROVIDED\n",
    "    p = parameters\n",
    "    \n",
    "    # Current variables. PROVIDED\n",
    "    cur = variables_current\n",
    "    \n",
    "    # Forward variables. PROVIDED\n",
    "    fwd = variables_forward\n",
    "\n",
    "    # IS equation\n",
    "    is_equation = fwd.y - (cur.r -p.r_bar) + cur.g - cur.y\n",
    "    \n",
    "    # Fisher_equation\n",
    "    fisher_equation = cur.r + fwd.pi - cur.i\n",
    "    \n",
    "    # Monetary policy\n",
    "    monetary_policy = p.r_bar + p.pi_T + p.phi_pi*(cur.pi - p.pi_T) + p.phi_y*cur.y + cur.v - cur.i\n",
    "    \n",
    "    # Phillips curve\n",
    "    phillips_curve = p.beta*(fwd.pi- p.pi_T) + p.kappa*cur.y + cur.u - (cur.pi-p.pi_T)\n",
    "    \n",
    "    # Demand process\n",
    "    demand_process = p.rho_g*cur.g - fwd.g\n",
    "    \n",
    "    # Monetary policy process\n",
    "    monetary_policy_process = p.rho_v*cur.v - fwd.v\n",
    "    \n",
    "    # Inflation process\n",
    "    inflation_process = p.rho_u*cur.u - fwd.u\n",
    "    \n",
    "    # Stack equilibrium conditions into a numpy array\n",
    "    return np.array([\n",
    "            is_equation,\n",
    "            fisher_equation,\n",
    "            monetary_policy,\n",
    "            phillips_curve,\n",
    "            demand_process,\n",
    "            monetary_policy_process,\n",
    "            inflation_process\n",
    "        ])\n",
    "\n",
    "# Initialize the model into a variable named 'nk_model'\n",
    "nk_model = ls.model(equations = equilibrium_equations,\n",
    "                    n_states=3,\n",
    "                    n_exo_states = 3,\n",
    "                    var_names=var_names,\n",
    "                    shock_names=shock_names,\n",
    "                    parameters = parameters)"
   ]
  },
  {
   "cell_type": "code",
   "execution_count": 4,
   "metadata": {},
   "outputs": [
    {
     "name": "stdout",
     "output_type": "stream",
     "text": [
      "g     1.379068e-34\n",
      "u     2.578505e-34\n",
      "v    -2.700350e-34\n",
      "y     3.705259e-20\n",
      "pi    5.000000e-03\n",
      "i     1.001254e-02\n",
      "r     5.012542e-03\n",
      "dtype: float64\n"
     ]
    }
   ],
   "source": [
    "# Compute the steady state numerically using .compute_ss() method of nk_model\n",
    "guess = [0,0,0,0,0.01,0.01,0.01]\n",
    "nk_model.compute_ss(guess)\n",
    "\n",
    "# Print the computed steady state\n",
    "print(nk_model.ss)"
   ]
  },
  {
   "cell_type": "code",
   "execution_count": 5,
   "metadata": {},
   "outputs": [
    {
     "name": "stdout",
     "output_type": "stream",
     "text": [
      "Linear equilibrium conditions:\n",
      "\n",
      "       y[t+1|t] = -g[t]+y[t]+r[t]\n",
      "\n",
      "      pi[t+1|t] = i[t]-r[t]\n",
      "\n",
      "              0 = -v[t]-0.125·y[t]-1.5·pi[t]+i[t]\n",
      "\n",
      "0.995·pi[t+1|t] = -u[t]-0.25·y[t]+pi[t]\n",
      "\n",
      "        -g[t+1] = -0.5·g[t]\n",
      "\n",
      "        -v[t+1] = -0.5·v[t]\n",
      "\n",
      "        -u[t+1] = -0.5·u[t]\n"
     ]
    }
   ],
   "source": [
    "# Find the log-linear approximation around the non-stochastic steady state and solve using .approximate_and_solve() method of nk_model\n",
    "# set argumement 'log_linear' to False because the model is already log-linear.\n",
    "nk_model.approximate_and_solve(log_linear=False)\n",
    "\n",
    "print(nk_model.approximated())"
   ]
  },
  {
   "cell_type": "markdown",
   "metadata": {},
   "source": [
    "### Impulse Responses\n",
    "\n",
    "Compute a 21 period impulse response of the model's variables to a 0.01 unit shock to the aggregate demand for goods ($g_t$) in period 5."
   ]
  },
  {
   "cell_type": "code",
   "execution_count": 6,
   "metadata": {},
   "outputs": [
    {
     "name": "stdout",
     "output_type": "stream",
     "text": [
      "    e_g         g    u    v         y        pi         i         r\n",
      "0  0.00  0.000000  0.0  0.0  0.000000  0.000000  0.000000  0.000000\n",
      "1  0.00  0.000000  0.0  0.0  0.000000  0.000000  0.000000  0.000000\n",
      "2  0.00  0.000000  0.0  0.0  0.000000  0.000000  0.000000  0.000000\n",
      "3  0.00  0.000000  0.0  0.0  0.000000  0.000000  0.000000  0.000000\n",
      "4  0.00  0.000000  0.0  0.0  0.000000  0.000000  0.000000  0.000000\n",
      "5  0.01  0.010000  0.0  0.0  0.008909  0.004432  0.007762  0.005546\n",
      "6  0.00  0.005000  0.0  0.0  0.004454  0.002216  0.003881  0.002773\n",
      "7  0.00  0.002500  0.0  0.0  0.002227  0.001108  0.001940  0.001386\n",
      "8  0.00  0.001250  0.0  0.0  0.001114  0.000554  0.000970  0.000693\n",
      "9  0.00  0.000625  0.0  0.0  0.000557  0.000277  0.000485  0.000347\n"
     ]
    }
   ],
   "source": [
    "# Compute impulse responses\n",
    "nk_model.impulse(T=21,t0=5,shocks=[0.01,0,0])\n",
    "\n",
    "# Print the first 10 rows of the computed impulse responses to the demand shock\n",
    "print(nk_model.irs['e_g'].head(10))"
   ]
  },
  {
   "cell_type": "markdown",
   "metadata": {},
   "source": [
    "Plot the computed impulses responses of the nominal interest rate, the real interest rate, output, and inflation. Express inflation and interest rates in *annualized* (e.g., multiplied by 4) terms."
   ]
  },
  {
   "cell_type": "code",
   "execution_count": 7,
   "metadata": {
    "scrolled": false
   },
   "outputs": [
    {
     "data": {
      "image/png": "[encoded data removed]",
      "text/plain": [
       "<Figure size 864x576 with 4 Axes>"
      ]
     },
     "metadata": {
      "needs_background": "light"
     },
     "output_type": "display_data"
    }
   ],
   "source": [
    "# Create figure. PROVIDED\n",
    "fig = plt.figure(figsize=(12,8))\n",
    "\n",
    "# Create upper-left axis. PROVIDED\n",
    "ax1 = fig.add_subplot(2,2,1)\n",
    "# Create upper-right axis. PROVIDED\n",
    "ax2 = fig.add_subplot(2,2,2)\n",
    "# Create lower-left axis. PROVIDED\n",
    "ax3 = fig.add_subplot(2,2,3)\n",
    "# Create lower-right axis. PROVIDED\n",
    "ax4 = fig.add_subplot(2,2,4)\n",
    "\n",
    "# Set axis 1 ylabel. PROVIDED\n",
    "ax1.set_ylabel('% dev from steady state')\n",
    "# Set axis 2 ylabel. PROVIDED\n",
    "ax2.set_ylabel('% dev from steady state')\n",
    "# Set axis 3 ylabel. PROVIDED\n",
    "ax3.set_ylabel('% dev from steady state')\n",
    "# Set axis 4 ylabel. PROVIDED\n",
    "ax4.set_ylabel('% dev from steady state')\n",
    "\n",
    "# Set axis 1 limits. PROVIDED\n",
    "ax1.set_ylim([-0.5,3.5])\n",
    "# Set axis 2 limits. PROVIDED\n",
    "ax2.set_ylim([-0.5,3.5])\n",
    "# Set axis 3 limits. PROVIDED\n",
    "ax3.set_ylim([-0.5,2])\n",
    "# Set axis 4 limits. PROVIDED\n",
    "ax4.set_ylim([-0.5,2])\n",
    "\n",
    "# Plot the nominal interest rate, real interest rate, output, and inflation\n",
    "(nk_model.irs['e_g']['i']*400).plot(ax=ax1,lw=4,alpha=0.75,title='Nominal Interest (annualized)',grid=True)\n",
    "(nk_model.irs['e_g']['r']*400).plot(ax=ax2,lw=4,alpha=0.75,title='Real Interest (annualized)',grid=True)\n",
    "(nk_model.irs['e_g']['y']*100).plot(ax=ax3,lw=4,alpha=0.75,title='Output',grid=True)\n",
    "(nk_model.irs['e_g']['pi']*400).plot(ax=ax4,lw=4,alpha=0.75,title='Inflation (annualized)',grid=True);"
   ]
  }
 ],
 "metadata": {
  "anaconda-cloud": {},
  "kernelspec": {
   "display_name": "Python 3 (ipykernel)",
   "language": "python",
   "name": "python3"
  },
  "language_info": {
   "codemirror_mode": {
    "name": "ipython",
    "version": 3
   },
   "file_extension": ".py",
   "mimetype": "text/x-python",
   "name": "python",
   "nbconvert_exporter": "python",
   "pygments_lexer": "ipython3",
   "version": "3.9.12"
  }
 },
 "nbformat": 4,
 "nbformat_minor": 1
}
