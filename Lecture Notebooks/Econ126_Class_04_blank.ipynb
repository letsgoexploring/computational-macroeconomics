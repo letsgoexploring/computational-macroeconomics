{
    "cells": [
        {
            "cell_type": "markdown",
            "metadata": {},
            "source": [
                "# Class 4: Plotting with Matplotlib\n",
                "\n",
                "Matplotlib is a powerful plotting module that is part of Python's standard library. The website for matplotlib is at http://matplotlib.org/. And you can find a bunch of examples at the following two locations: http://matplotlib.org/examples/index.html and http://matplotlib.org/gallery.html.\n",
                "\n",
                "Matplotlib contains a module called pyplot that was written to provide a Matlab-style plotting interface."
            ]
        },
        {
            "cell_type": "code",
            "execution_count": null,
            "metadata": {},
            "outputs": [],
            "source": [
                "# Import matplotlib.pyplot\n"
            ]
        },
        {
            "cell_type": "markdown",
            "metadata": {},
            "source": [
                "## An Introductory Example\n",
                "\n",
                "Create a plot of the sine function for x values between -6 and 6. Add axis labels and a title."
            ]
        },
        {
            "cell_type": "code",
            "execution_count": null,
            "metadata": {},
            "outputs": [],
            "source": [
                "# Import numpy as np\n",
                "\n",
                "\n",
                "# Create an array of x values from -6 to 6\n",
                "\n",
                "\n",
                "# Create a variable y equal to the sine of x\n",
                "\n",
                "\n",
                "# Use the plot function to plot x on the horizontal axis and y on the vertical axis\n",
                "\n",
                "\n",
                "# Add a title and axis labels\n",
                "\n",
                "\n",
                ""
            ]
        },
        {
            "cell_type": "markdown",
            "metadata": {},
            "source": [
                "## Style Sheets and Magic Commands\n",
                "\n",
                "Plots made using Matplotlib are highly customizable. Users can issue commands to control the limits of the axes, location of axis ticks, labels associated with axis ticks, and the color, thickness, opacity, and style of plotted data points. \n",
                "\n",
                "But as a starting-point, Matplotlib uses a *style sheet* to establish initial plot settings until the user specifies different alternatives. The release of Matplotlib 2.0 included a major change in the default syle and the new default doesn't appeal to me.\n",
                "\n",
                "\n",
                "Next, when we change from the default ploting style, it disrupts how Jupyter formats and displays plots. To fix this, we have to issue a command to be interpretted by Jupyter -- called a *magic* command. A magic command is preceded by a `%` character. Magics are *not* Python and will create errors if used in a Python program outside of the Jupyter notebook (i.e., if you are running Python in IDLE or executing a Python script form the command line, make sure to comment out lines with magics)."
            ]
        },
        {
            "cell_type": "code",
            "execution_count": null,
            "metadata": {},
            "outputs": [],
            "source": [
                "# Set the Matplotlib style sheet to 'classic'\n",
                "\n",
                "\n",
                "# Magic command for the Jupyter Notebook to display plots in the notebook\n",
                "\n",
                "\n",
                "# Use the plot function to plot the sine function\n",
                "\n",
                "\n",
                "# Add a title and axis labels\n",
                "\n",
                "\n",
                ""
            ]
        },
        {
            "cell_type": "markdown",
            "metadata": {},
            "source": [
                "The matplotlib attribute `plt.style.available` stores as a `list` the default sstyle sheets that you can choose from. Here's a gallery of the different sytles compared with each other. Aside from `classic`, other styles that I think look nice include: `bmh`, `ggplot`, and `seaborn`. But try them all out and see what you like!"
            ]
        },
        {
            "cell_type": "code",
            "execution_count": null,
            "metadata": {},
            "outputs": [],
            "source": [
                "#Print the available matplotlib style sheets. PROVIDED\n",
                "print(plt.style.available)"
            ]
        },
        {
            "cell_type": "markdown",
            "metadata": {},
            "source": [
                "## The `plot` Function\n",
                "\n",
                "The `plot` function creates a two-dimensional plot of one variable against another. "
            ]
        },
        {
            "cell_type": "code",
            "execution_count": null,
            "metadata": {},
            "outputs": [],
            "source": [
                "# Use the help function to see the documentation for plt.plot()\n"
            ]
        },
        {
            "cell_type": "markdown",
            "metadata": {},
            "source": [
                "### Example\n",
                "\n",
                "Create a plot of $f(x) = x^2$ with $x$ between -2 and 2.\n",
                "* Set the linewidth to 3 points\n",
                "* Set the line opacity (alpha) to 0.6\n",
                "* Set axis labels and title\n",
                "* Add a grid to the plot"
            ]
        },
        {
            "cell_type": "code",
            "execution_count": null,
            "metadata": {},
            "outputs": [],
            "source": [
                "# Create an array of x values from -2 to 2\n",
                "\n",
                "\n",
                "# Create a variable y equal to x squared\n",
                "\n",
                "\n",
                "# Use the plot function to plot the line\n",
                "\n",
                "\n",
                "# Add a title and axis labels\n",
                "\n",
                "\n",
                "",
                "",
                "# Add grid\n"
            ]
        },
        {
            "cell_type": "markdown",
            "metadata": {},
            "source": [
                "### Example\n",
                "\n",
                "Create plots of the functions $f(x) = \\log x$ (natural log) and $g(x) = 1/x$ between 0.01 and 5\n",
                "* Make the line for $log(x)$ solid blue\n",
                "* Make the line for $1/x$ dashed magenta\n",
                "* Set the linewidth of each line to 3 points\n",
                "* Set the line transparency (alpha) for each line to 0.6\n",
                "* Set the limits for the $x$-axis to (0,5)\n",
                "* Set the limits for the $y$-axis to (-2,5)\n",
                "* Set axis labels and title\n",
                "* Add a legend\n",
                "* Add a grid to the plot"
            ]
        },
        {
            "cell_type": "code",
            "execution_count": null,
            "metadata": {},
            "outputs": [],
            "source": [
                "# Create an array of x values from 0.01 to 5\n",
                "\n",
                "\n",
                "# Create y variables\n",
                "\n",
                "\n",
                "",
                "# Use the plot function to plot the lines\n",
                "\n",
                "\n",
                "",
                "# Add a title and axis labels\n",
                "\n",
                "\n",
                "",
                "",
                "# Set axis limits\n",
                "\n",
                "\n",
                "",
                "# Make legend\n",
                "\n",
                "\n",
                "# Add grid\n"
            ]
        },
        {
            "cell_type": "markdown",
            "metadata": {},
            "source": [
                "### Example\n",
                "\n",
                "\n",
                "Consider the linear regression model:\n",
                "\n",
                "\\begin{align}\n",
                "y_i = \\beta_0 + \\beta_1 x_i + \\epsilon_i\n",
                "\\end{align}\n",
                "\n",
                "where $x_i$ is the independent variable, $\\epsilon_i$ is a random regression error term, $y_i$ is the dependent variable and $\\beta_0$ and $\\beta_1$ are constants.\n",
                "\n",
                "Let's simulate the model\n",
                "* Set $\\beta_0=1$ and $\\beta_1=-0.5$\n",
                "* Create an array of $x_i$ values from -5 to 5\n",
                "* Create an array of $\\epsilon_i$ values from the standard normal distribution equal in length to the array of $x_i$ values\n",
                "* Create an array of $y_i$ values\n",
                "* Plot y against x with either a circle ('o'), triangle ('^'), or square ('s') marker and transparency (alpha) to 0.5\n",
                "* Add axis lables, a title, and a grid to the plot"
            ]
        },
        {
            "cell_type": "code",
            "execution_count": null,
            "metadata": {},
            "outputs": [],
            "source": [
                "# Set betas\n",
                "\n",
                "\n",
                "",
                "# Create x values\n",
                "\n",
                "\n",
                "# Create epsilon values from the standard normal distribution\n",
                "\n",
                "\n",
                "# Create y\n",
                "\n",
                "\n",
                "# Plot\n",
                "\n",
                "\n",
                "# Add a title and axis labels\n",
                "\n",
                "\n",
                "",
                "",
                "# Set axis limits\n",
                "\n",
                "\n",
                "# Add grid\n"
            ]
        },
        {
            "cell_type": "markdown",
            "metadata": {},
            "source": [
                "### Example\n",
                "\n",
                "Create plots of the functions $f(x) = x$, $g(x) = x^2$, and $h(x) = x^3$ for $x$ between -2 and 2\n",
                "* Use the optional string format argument to format the lines:\n",
                "  - $x$: solid blue line\n",
                "  - $x^2$: dashed green line\n",
                "  - $x^3$: dash-dot magenta line\n",
                "* Set the linewidth of each line to 3 points\n",
                "* Set transparency (alpha) for each line to 0.7\n",
                "* Set axis labels and title\n",
                "* Add a legend to lower right with 3 columns\n",
                "* Add a grid to the plot"
            ]
        },
        {
            "cell_type": "code",
            "execution_count": null,
            "metadata": {},
            "outputs": [],
            "source": [
                "# Create an array of x values from -2 to 2\n",
                "\n",
                "\n",
                "# Create y variables\n",
                "\n",
                "\n",
                "",
                "",
                "# Use the plot function to plot the lines\n",
                "\n",
                "\n",
                "",
                "",
                "# Add a title and axis labels\n",
                "\n",
                "\n",
                "",
                "",
                "# Make legend\n",
                "\n",
                "\n",
                "# Add grid\n"
            ]
        },
        {
            "cell_type": "markdown",
            "metadata": {},
            "source": [
                "## Figures, Axes, and Subplots\n",
                "\n",
                "Often we want to create plots with multiple axes or we want to modify the size and shape of the plot areas. To be able to do these things, we need to explicity create a figure and then create axes within the figure. The best way to see how this works is by example.\n",
                "\n",
                "\n",
                "### Example: A Single Plot with Double Width\n",
                "\n",
                "The default dimensions of a matplotlib figure are 6 inches by 4 inches. As we saw above, this leaves some whitespace on the right side of the figure in the Notebook. Suppose we want to remove that by making the plot area twice as wide.\n",
                "\n",
                "Plot the sine function on -6 to 6 using a figure with dimensions 12 inches by 4 inches"
            ]
        },
        {
            "cell_type": "code",
            "execution_count": null,
            "metadata": {},
            "outputs": [],
            "source": [
                "# Create an array of x values from -6 to 6\n",
                "\n",
                "\n",
                "# Create y variables\n",
                "\n",
                "\n",
                "# Create a new figure that is twice as wide as the default\n",
                "\n",
                "\n",
                "# Create axis within the figure\n",
                "\n",
                "\n",
                "# Plot\n",
                "\n",
                "\n",
                "# Add grid\n"
            ]
        },
        {
            "cell_type": "markdown",
            "metadata": {},
            "source": [
                "In the previous example the `fig = plt.figure()` function creates a new figure called `fig` and `fig.add_subplot()` puts a new axis on the figure. The command `ax1 = fig.add_subplot(1,1,1)` means divide the figure `fig` into a 1 by 1 grid (first two arguments) and assigns the first component of that grid to the variable `ax1` (third argument)."
            ]
        },
        {
            "cell_type": "markdown",
            "metadata": {},
            "source": [
                "### Example: Two Plots Stacked\n",
                "\n",
                "Create a new figure with two axes in a column and plot the sine function on -6 to 6 on the top axis and the cosine function on -6 to 6 on the bottom axis."
            ]
        },
        {
            "cell_type": "code",
            "execution_count": null,
            "metadata": {},
            "outputs": [],
            "source": [
                "# Create an array of x values from -6 to 6\n",
                "\n",
                "\n",
                "# Create y variables\n",
                "\n",
                "\n",
                "",
                "# Create a new figure that is twice as tall as the default\n",
                "\n",
                "\n",
                "# Create axis 1 and plot with title and axis labels\n",
                "\n",
                "\n",
                "",
                "",
                "",
                "",
                "",
                "# Create axis 2 and plot with title and axis labels\n",
                "\n",
                "\n",
                "",
                "",
                "",
                "",
                "",
                "# Improve the spacing between the plots\n"
            ]
        },
        {
            "cell_type": "markdown",
            "metadata": {},
            "source": [
                "### Example: Block of Four Plots\n",
                "\n",
                "The default dimensions of a matplotlib figure are 6 inches by 4 inches. As we saw above, this leaves some whitespace on the right side of the figure. Suppose we want to remove that by making the plot area twice as wide.\n",
                "\n",
                "Create a new figure with four axes in a two-by-two grid. Plot the following functions on the interval -2 to 2:\n",
                "* $y = x$\n",
                "* $y = x^2$\n",
                "* $y = x^3$\n",
                "* $y = x^4$\n",
                "\n",
                "Set the figure size to 12in. by 8in. Run the command `plt.tight_layout()` to adust the figure's margins after creating your figure, axes, and plots."
            ]
        },
        {
            "cell_type": "code",
            "execution_count": null,
            "metadata": {},
            "outputs": [],
            "source": [
                "# Create data for plot\n",
                "\n",
                "\n",
                "",
                "",
                "",
                "",
                "# Create a new figure that is twice as wide and twice as tall as the default\n",
                "\n",
                "\n",
                "# Create axis 1 and plot with title\n",
                "\n",
                "\n",
                "",
                "",
                "",
                "",
                "",
                "# Create axis 2 and plot with title\n",
                "\n",
                "\n",
                "",
                "",
                "",
                "",
                "",
                "# Create axis 3 and plot with title\n",
                "\n",
                "\n",
                "",
                "",
                "",
                "",
                "",
                "# Create axis 4 and plot with title\n",
                "\n",
                "\n",
                "",
                "",
                "",
                "",
                "",
                "# Improve the spacing between the plots\n"
            ]
        },
        {
            "cell_type": "markdown",
            "metadata": {},
            "source": [
                "## Exporting Figures to Image Files\n",
                "\n",
                "Use the `plt.savefig()` function to save figures to images."
            ]
        },
        {
            "cell_type": "code",
            "execution_count": null,
            "metadata": {},
            "outputs": [],
            "source": [
                "# Create data to plot sin(x)/x on [-20,20]\n",
                "\n",
                "\n",
                "",
                "# Plot y against x\n",
                "\n",
                "\n",
                "# Save figure as 'fig_econ126_class04_sine_over_x.png' at 120 DPI resolution\n"
            ]
        },
        {
            "cell_type": "markdown",
            "metadata": {},
            "source": [
                "In the previous example, the image is saved as a PNG file with 120 dots per inch. This resolution is high enough to look good even when projected on a large screen. The image format is inferred by the extension on the filename."
            ]
        }
    ],
    "metadata": {
        "anaconda-cloud": {},
        "kernelspec": {
            "display_name": "Python 3 (ipykernel)",
            "language": "python",
            "name": "python3"
        },
        "language_info": {
            "codemirror_mode": {
                "name": "ipython",
                "version": 3
            },
            "file_extension": ".py",
            "mimetype": "text/x-python",
            "name": "python",
            "nbconvert_exporter": "python",
            "pygments_lexer": "ipython3",
            "version": "3.9.12"
        }
    },
    "nbformat": 4,
    "nbformat_minor": 1
}