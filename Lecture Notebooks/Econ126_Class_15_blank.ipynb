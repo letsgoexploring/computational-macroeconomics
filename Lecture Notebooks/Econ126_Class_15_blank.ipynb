{
    "cells": [
        {
            "cell_type": "code",
            "execution_count": null,
            "metadata": {},
            "outputs": [],
            "source": [
                "import numpy as np\n",
                "import pandas as pd\n",
                "import linearsolve as ls\n",
                "import matplotlib.pyplot as plt\n",
                "plt.style.use('classic')\n",
                "%matplotlib inline"
            ]
        },
        {
            "cell_type": "markdown",
            "metadata": {},
            "source": [
                "# Class 15: Prescott's Real Business Cycle Model II\n",
                "\n",
                "In this notebook, we continue to examine the centralized version of the model from pages 11-17 in Edward Prescott's article \"Theory Ahead of Business Cycle Measurement in the Fall 1986 of the Federal Reserve Bank of Minneapolis' *Quarterly Review* (link to article: [https://www.minneapolisfed.org/research/qr/qr1042.pdf](https://www.minneapolisfed.org/research/qr/qr1042.pdf)). In this notebook, we:\n",
                "\n",
                "1. Look at the effect of changing $\\rho$ (the autoregressive coefficient on log TFP) on the simulated impulse responses of model variables to a TFP shock\n",
                "2. Compute a stochastic simulation of the model and compute summary statistics."
            ]
        },
        {
            "cell_type": "markdown",
            "metadata": {},
            "source": [
                "## Example: Effect of Changing $\\rho$ on Impulse Responses\n",
                "\n",
                "Recall that the equilibrium conditions for Prescott's RBC model are:\n",
                "\n",
                "\\begin{align}\n",
                "\\frac{1}{C_t} & = \\beta E_t \\left[\\frac{\\alpha A_{t+1}K_{t+1}^{\\alpha-1}L_{t+1}^{1-\\alpha} +1-\\delta }{C_{t+1}}\\right]\\\\\n",
                "\\frac{\\varphi}{1-L_t} & = \\frac{(1-\\alpha)A_tK_t^{\\alpha}L_t^{-\\alpha}}{C_t} \\\\\n",
                "Y_t & = A_t K_t^{\\alpha}L_t^{1-\\alpha}\\\\\n",
                "K_{t+1} & = I_t + (1-\\delta) K_t\\\\\n",
                "Y_t & = C_t + I_t\\\\\n",
                "\\log A_{t+1} & = \\rho \\log A_t + \\epsilon_{t+1}\n",
                "\\end{align}\n",
                "\n",
                "where $\\epsilon_{t+1} \\sim \\mathcal{N}(0,\\sigma^2)$. \n",
                "\n",
                "The objective is use `linearsolve` to simulate impulse responses to a TFP shock for $\\rho = 0.5,0.75,0.9,0.99$. Other parameter values are given in the table below:\n",
                "\n",
                "| $$\\sigma$$ | $$\\beta$$ | $$\\varphi$$ | $$\\alpha$$ | $$\\delta $$ |\n",
                "|------------|-----------|-------------|------------|-------------|\n",
                "| 0.006      | 0.99      | 1.7317      | 0.35       |  0.025      |"
            ]
        },
        {
            "cell_type": "markdown",
            "metadata": {},
            "source": [
                "## Model Preparation\n",
                "\n",
                "As usual, we recast the model in the form required for `linearsolve`. Write the model with all variables moved to the left-hand side of the equations and dropping the expecations operator $E_t$ and the exogenous shock $\\epsilon_{t+1}$:\n",
                "\n",
                "\\begin{align}\n",
                "0 & = \\beta\\left[\\frac{\\alpha A_{t+1}K_{t+1}^{\\alpha-1}L_{t+1}^{1-\\alpha} +1-\\delta }{C_{t+1}}\\right] - \\frac{1}{C_t}\\\\\n",
                "0 & = \\frac{(1-\\alpha)A_tK_t^{\\alpha}L_t^{-\\alpha}}{C_t} - \\frac{\\varphi}{1-L_t}\\\\\n",
                "0 & = A_t K_t^{\\alpha}L_t^{1-\\alpha} - Y_t\\\\\n",
                "0 & = I_t + (1-\\delta) K_t - K_{t+1}\\\\\n",
                "0 & = C_t + I_t - Y_t\\\\\n",
                "0 & = \\rho \\log A_t - \\log A_{t+1}\n",
                "\\end{align}\n",
                "\n",
                "Remember, capital and TFP are called *state variables* because they're $t+1$ values are predetermined. Output, consumption, and investment are called a *costate* or *control* variables. Note that the model as 5 equations in 5 endogenous variables."
            ]
        },
        {
            "cell_type": "markdown",
            "metadata": {},
            "source": [
                "## Initialization, Approximation, and Solution\n",
                "\n",
                "The next several cells initialize the model in `linearsolve` and then approximate and solve it."
            ]
        },
        {
            "cell_type": "code",
            "execution_count": null,
            "metadata": {},
            "outputs": [],
            "source": [
                "# Create a variable called 'parameters' that stores the model parameter values in a Pandas Series. CELL PROVIDED\n",
                "# Note that a value for rho is absent\n",
                "parameters = pd.Series(dtype=float)\n",
                "\n",
                "parameters['beta'] = 0.99\n",
                "parameters['phi'] = 1.7317\n",
                "parameters['alpha'] = 0.35\n",
                "parameters['delta'] = 0.025\n",
                "\n",
                "# Print the model's parameters\n",
                "print(parameters)"
            ]
        },
        {
            "cell_type": "code",
            "execution_count": null,
            "metadata": {},
            "outputs": [],
            "source": [
                "# Create a variable called 'sigma' that stores the value of sigma. CELL PROVIDED\n",
                "sigma = 0.006"
            ]
        },
        {
            "cell_type": "code",
            "execution_count": null,
            "metadata": {},
            "outputs": [],
            "source": [
                "# Create variable called 'var_names' that stores the variable names in a list with exogenous state variables ordered first, endogenous state variables ordered second, and control variables ordered last. CELL PROVIDED\n",
                "var_names = ['a','k','y','c','i','l']\n",
                "\n",
                "# Create variable called 'shock_names' that stores an exogenous shock name for each exogenous state variable.\n",
                "shock_names = ['e_a']"
            ]
        },
        {
            "cell_type": "code",
            "execution_count": null,
            "metadata": {},
            "outputs": [],
            "source": [
                "# Define a function that evaluates the equilibrium conditions of the model solved for zero. CELL PROVIDED\n",
                "def equilibrium_equations(variables_forward,variables_current,parameters):\n",
                "    \n",
                "    # Parameters.\n",
                "    p = parameters\n",
                "    \n",
                "    # Current variables.\n",
                "    cur = variables_current\n",
                "    \n",
                "    # Forward variables.\n",
                "    fwd = variables_forward\n",
                "\n",
                "    # Euler equation\n",
                "    mpk = p.alpha*fwd.a*fwd.k**(p.alpha-1)*fwd.l**(1-p.alpha)\n",
                "    euler_equation = p.beta*(mpk+1-p.delta)/fwd.c - 1/cur.c\n",
                "    \n",
                "    # Labor-leisure choice\n",
                "    mpl = (1-p.alpha)*cur.a*cur.k**p.alpha*cur.l**(-p.alpha)\n",
                "    labor_leisure = mpl/cur.c - p.phi/(1-cur.l)\n",
                "    \n",
                "    # Production function\n",
                "    production_function = cur.a*cur.k**p.alpha*cur.l**(1-p.alpha) - cur.y\n",
                "    \n",
                "    # Capital evolution\n",
                "    capital_evolution = cur.i + (1 - p.delta)*cur.k - fwd.k\n",
                "    \n",
                "    # Market clearing\n",
                "    market_clearing = cur.c+cur.i - cur.y\n",
                "    \n",
                "    # Exogenous tfp\n",
                "    tfp_process = p.rho*np.log(cur.a) - np.log(fwd.a)\n",
                "    \n",
                "    # Stack equilibrium conditions into a numpy array\n",
                "    return np.array([\n",
                "        euler_equation,\n",
                "        labor_leisure,\n",
                "        production_function,\n",
                "        capital_evolution,\n",
                "        market_clearing,\n",
                "        tfp_process\n",
                "        ])"
            ]
        },
        {
            "cell_type": "markdown",
            "metadata": {},
            "source": [
                "Next, initialize the model using `ls.model` which takes the following required arguments:\n",
                "\n",
                "* `equations`\n",
                "* `n_states`\n",
                "* `var_names`\n",
                "* `shock_names`\n",
                "* `parameters`"
            ]
        },
        {
            "cell_type": "code",
            "execution_count": null,
            "metadata": {},
            "outputs": [],
            "source": [
                "# Initialize the model into a variable named 'rbc_model'. CELL PROVIDED.\n",
                "rbc_model = ls.model(equations = equilibrium_equations,\n",
                "                     n_states=2,\n",
                "                     n_exo_states=1,\n",
                "                     var_names=var_names,\n",
                "                     shock_names=shock_names,\n",
                "                     parameters=parameters)"
            ]
        },
        {
            "cell_type": "markdown",
            "metadata": {},
            "source": [
                "## SImulation and Plotting\n",
                "\n",
                "The objective is to create a $2\\times 2$ grid of plots containing the impulse responses of TFP, output, labor, and consumption to a one percent shock to TFP for each of the values for $\\rho$: 0.5,0.75,0.9,0.99. Here are the steps that we'll take:\n",
                "\n",
                "1. Initilize figure and axes for plotting.\n",
                "2. Iterate over each desired value for $\\rho$.\n",
                "    1. Set `rbc_model.parameters['rho']` equal to current value of $\\rho$.\n",
                "    2. Use `rbc_model.compute_ss()` to compute the steady state with `guess` equal to `[1,4,1,1,1,0.5]`.\n",
                "    3. Use `rbc_model.approximate_and_solve()` to approximate and solve the model with the current value of $\\rho$.\n",
                "    4. Use `rbc_model.impulse()` to compute the 51 period impulse response to a 0.01 unit shock to TFP in period 5.\n",
                "    5. Add the computed impulse responses to the axes."
            ]
        },
        {
            "cell_type": "code",
            "execution_count": null,
            "metadata": {},
            "outputs": [],
            "source": [
                "# Create a 12x8 figure\n",
                "\n",
                "\n",
                "# Create four axis variables: 'ax1', 'ax2', 'ax3', 'ax4'\n",
                "\n",
                "\n",
                "",
                "",
                "",
                "# Create an axis equal to the size of the figure. PROVIDED\n",
                "ax0 = fig.add_subplot(1,1,1)\n",
                "# Turn off the axis so that the underlying axes are visible. PROVIDED\n",
                "ax0.set_frame_on(False)\n",
                "# Hide the x-axis. PROVIDED\n",
                "ax0.get_xaxis().set_visible(False)\n",
                "# Hide the y-axis. PROVIDED\n",
                "ax0.get_yaxis().set_visible(False)\n",
                "\n",
                "# Create variable called 'rho_values' that stores the desired values of rho\n",
                "\n",
                "\n",
                "# Iterate over the elements of rho_values\n",
                "\n",
                "\n",
                "    # Update the value of rho in rbc_model.parameters\n",
                "\n",
                "\n",
                "    # Compute the steady state with initial guess equal to [1,4,1,1,1,0.5]\n",
                "\n",
                "\n",
                "    # Approximate the model and solve\n",
                "\n",
                "\n",
                "    # Compute the impulse responses to a 0.01 unit shock to TFP\n",
                "\n",
                "\n",
                "    # Add plots of TFP, output, labor, and consumption to ax1, ax2, ax3, and ax4\n",
                "\n",
                "\n",
                "",
                "",
                "",
                "    # Plot the point 0,0 on ax0 with the same line properties used for the other plotted lines and provide a label\n",
                "\n",
                "\n",
                "",
                "# Set axis 1 title. PROVIDED\n",
                "ax1.set_title('TFP')\n",
                "\n",
                "# Set axis 2 title. PROVIDED\n",
                "ax2.set_title('Output')\n",
                "\n",
                "# Set axis 3 title. PROVIDED\n",
                "ax3.set_title('Labor')\n",
                "\n",
                "# Set axis 4 title. PROVIDED\n",
                "ax4.set_title('Consumption')\n",
                "\n",
                "# Add grid to the axis 1. PROVIDED\n",
                "ax1.grid()\n",
                "\n",
                "# Add grid to the axis 2. PROVIDED\n",
                "ax2.grid()\n",
                "\n",
                "# Add grid to the axis 3. PROVIDED\n",
                "ax3.grid()\n",
                "\n",
                "# Add grid to the axis 4. PROVIDED\n",
                "ax4.grid()\n",
                "\n",
                "# Set ax1 y-axis limits to [0,2]. PROVIDED\n",
                "ax1.set_ylim([0,2])\n",
                "# Set ax2 y-axis limits to [0,2]. PROVIDED\n",
                "ax2.set_ylim([0,2])\n",
                "# Set ax3 y-axis limits to [-0.5,1.25]. PROVIDED\n",
                "ax3.set_ylim([-0.5,1.5])\n",
                "# Set ax4 y-axis limits to [-0.5,1.5]. PROVIDED\n",
                "ax4.set_ylim([-0.5,1.5])\n",
                "\n",
                "# Add legend below the figure. PROVIDED\n",
                "legend = ax0.legend(loc='upper center',bbox_to_anchor=(0.5,-0.075), ncol=4,fontsize=15)"
            ]
        },
        {
            "cell_type": "markdown",
            "metadata": {},
            "source": [
                "## Example: Stochastic Simulation\n",
                "\n",
                "Compute a 401 period stochastic simulation of the model. Set $\\rho=0.75$ to match US business cycle data. And set the seed for the simulation to 126."
            ]
        },
        {
            "cell_type": "code",
            "execution_count": null,
            "metadata": {},
            "outputs": [],
            "source": [
                "# Set the value of rho in rbc_model.parameters to 0.75\n",
                "\n",
                "\n",
                "# Compute the steady state with initial guess equal to [1,4,1,1,1,0.5]\n",
                "\n",
                "\n",
                "# Approximate the model and solve\n"
            ]
        },
        {
            "cell_type": "code",
            "execution_count": null,
            "metadata": {},
            "outputs": [],
            "source": [
                "# Compute the stochastic simulation using the .stoch_sim() method of rbc_model\n"
            ]
        },
        {
            "cell_type": "markdown",
            "metadata": {},
            "source": [
                "On a single axis, plot the simulated values for output, consumption, investment, and labor."
            ]
        },
        {
            "cell_type": "code",
            "execution_count": null,
            "metadata": {},
            "outputs": [],
            "source": [
                "# Create 12x4 figure. PROVIDED\n",
                "fig = plt.figure(figsize=(12,4))\n",
                "\n",
                "# Create axis. PROVIDED\n",
                "ax = fig.add_subplot(1,1,1)\n",
                "\n",
                "# Plot output, consumption, investment, labor\n",
                "\n",
                "\n",
                "# Y-axis label. PROVIDED\n",
                "ax.set_ylim('% dev from ss')\n",
                "\n",
                "# Add legend outside plot. PROVIDED\n",
                "ax.legend(loc='center left', bbox_to_anchor=(1, 0.5))\n",
                "\n",
                "# Add a grid. PROVIDED\n",
                "ax.grid()"
            ]
        },
        {
            "cell_type": "code",
            "execution_count": null,
            "metadata": {},
            "outputs": [],
            "source": [
                "# Print the standard deviations (times 100) of output, consumption, investment, and labor in the simulated data\n"
            ]
        },
        {
            "cell_type": "code",
            "execution_count": null,
            "metadata": {},
            "outputs": [],
            "source": [
                "# Print the correlations of output, consumption, investment, and labor in the simulated data\n"
            ]
        }
    ],
    "metadata": {
        "anaconda-cloud": {},
        "kernelspec": {
            "display_name": "Python 3 (ipykernel)",
            "language": "python",
            "name": "python3"
        },
        "language_info": {
            "codemirror_mode": {
                "name": "ipython",
                "version": 3
            },
            "file_extension": ".py",
            "mimetype": "text/x-python",
            "name": "python",
            "nbconvert_exporter": "python",
            "pygments_lexer": "ipython3",
            "version": "3.9.12"
        }
    },
    "nbformat": 4,
    "nbformat_minor": 1
}