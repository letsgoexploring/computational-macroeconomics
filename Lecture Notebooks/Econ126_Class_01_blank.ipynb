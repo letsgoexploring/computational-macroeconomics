{
    "cells": [
        {
            "cell_type": "markdown",
            "metadata": {},
            "source": [
                "## Example 1: `Hello world`"
            ]
        },
        {
            "cell_type": "code",
            "execution_count": null,
            "metadata": {},
            "outputs": [],
            "source": [
                "# Print the character string `Hello world!`\n"
            ]
        },
        {
            "cell_type": "markdown",
            "metadata": {},
            "source": [
                "## Example 2: Make a plot of the US unemployment rate\n",
                "\n",
                "Download unemployment rate data from FRED (https://fred.stlouisfed.org/series/UNRATE/) and make a well-labeled plot."
            ]
        },
        {
            "cell_type": "code",
            "execution_count": null,
            "metadata": {},
            "outputs": [],
            "source": [
                "# Import the pandas library as pd\n",
                "\n",
                "\n",
                "# Import the plotting library matplotlib.pyplot as plt\n",
                "\n",
                "\n",
                "# Magic command telling the Notebook to display figures in the Notebook\n",
                "\n",
                "\n",
                "# Download the unemployment rate data (PROVIDED)\n",
                "unemployment = pd.read_csv('https://fred.stlouisfed.org/data/UNRATE.txt',skiprows=24,sep='\\s+',index_col=0,parse_dates = True)\n",
                "\n",
                "# Print first 5 rows of unemployment variable\n"
            ]
        },
        {
            "cell_type": "code",
            "execution_count": null,
            "metadata": {},
            "outputs": [],
            "source": [
                "# Create a well-labeled plot of the US unemployment rate\n",
                "\n",
                "\n",
                "",
                "",
                "",
                "# Save the figure to the current working directory at 120 dots per inch resolution\n"
            ]
        },
        {
            "cell_type": "markdown",
            "metadata": {},
            "source": [
                "## Example 2: Date and time\n",
                "\n",
                "Use the `datetime` module to print the current date and time"
            ]
        },
        {
            "cell_type": "code",
            "execution_count": null,
            "metadata": {},
            "outputs": [],
            "source": [
                "# Import the datetime module\n",
                "\n",
                "\n",
                "# Create a variable called `today` that stores the current date and time\n",
                "\n",
                "\n",
                "# Print the value of `today`\n"
            ]
        },
        {
            "cell_type": "code",
            "execution_count": null,
            "metadata": {},
            "outputs": [],
            "source": [
                "# Print today's date formatted as: month day, year\n"
            ]
        },
        {
            "cell_type": "code",
            "execution_count": null,
            "metadata": {},
            "outputs": [],
            "source": [
                "# Print the time component of `today` as: HH:MM:SS\n"
            ]
        },
        {
            "cell_type": "markdown",
            "metadata": {},
            "source": [
                "## Example 3: Approximate a geometric series\n",
                "\n",
                "\n",
                "Consider the infinite geometric series:\n",
                "\n",
                "\\begin{align}\n",
                "\\sum_{k=0}^{\\infty} r^k & = 1 + r + r^2 + r^3 + \\cdots\n",
                "\\end{align}\n",
                "\n",
                "If $|r|<1$, then the series converges to:\n",
                "\n",
                "\\begin{align}\n",
                "\\frac{1}{1-r}\n",
                "\\end{align}\n",
                "\n",
                "We can verify this fact numerically by computing the *truncated* series, i.e., compute the series to a finite number of terms. We will do this for $r=0.2$. The idea is to create a variable $s$ that is initially equal to zero. Then we let $k$ increment from 0, 1, up to $N$ and each time add $r^k$ to $s$."
            ]
        },
        {
            "cell_type": "code",
            "execution_count": null,
            "metadata": {},
            "outputs": [],
            "source": [
                "# Set the value of r\n",
                "\n",
                "\n",
                "# Create a variable `N` that stores the desired number of terms to compute\n",
                "\n",
                "\n",
                "# Initialize a variable that will store the value of the summation. Set equal to zero\n",
                "\n",
                "\n",
                "# Iterate over values of k fron 0 to N. Add the new term to the sum and print the current value of the sum\n",
                "\n",
                "\n",
                ""
            ]
        },
        {
            "cell_type": "markdown",
            "metadata": {},
            "source": [
                "## Example 4: Draw random values from a normal probability distribution\n",
                "\n",
                "The `numpy` library has a bunch of powerful tools for working with numbers. Here we'll use `numpy` to draw a random sample from the normal probability distribution. Specifically, 100 values from $\\mathcal{N}(2,0.2^2)$."
            ]
        },
        {
            "cell_type": "code",
            "execution_count": null,
            "metadata": {},
            "outputs": [],
            "source": [
                "# Import the numpy numerical tools library as np \n",
                "\n",
                "\n",
                "# Set the seed or state of the numpy random number generator\n",
                "\n",
                "\n",
                "# Create a variable called 'x' that contains 100 draws from the normal(2,0.2^2) distribution\n",
                "\n",
                "\n",
                ""
            ]
        },
        {
            "cell_type": "code",
            "execution_count": null,
            "metadata": {},
            "outputs": [],
            "source": [
                "# Print the mean of the values in the variable 'x'\n"
            ]
        },
        {
            "cell_type": "code",
            "execution_count": null,
            "metadata": {},
            "outputs": [],
            "source": [
                "# Print the standard deviation of the values in the variable 'x'\n"
            ]
        }
    ],
    "metadata": {
        "anaconda-cloud": {},
        "kernelspec": {
            "display_name": "Python 3 (ipykernel)",
            "language": "python",
            "name": "python3"
        },
        "language_info": {
            "codemirror_mode": {
                "name": "ipython",
                "version": 3
            },
            "file_extension": ".py",
            "mimetype": "text/x-python",
            "name": "python",
            "nbconvert_exporter": "python",
            "pygments_lexer": "ipython3",
            "version": "3.9.12"
        }
    },
    "nbformat": 4,
    "nbformat_minor": 1
}