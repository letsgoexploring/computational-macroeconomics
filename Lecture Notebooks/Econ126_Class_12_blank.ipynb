{
    "cells": [
        {
            "cell_type": "code",
            "execution_count": null,
            "metadata": {},
            "outputs": [],
            "source": [
                "import numpy as np\n",
                "import pandas as pd\n",
                "import matplotlib.pyplot as plt\n",
                "plt.style.use('classic')\n",
                "%matplotlib inline"
            ]
        },
        {
            "cell_type": "markdown",
            "metadata": {},
            "source": [
                "# Class 12: Introduction to the `linearsolve` Module\n",
                "\n",
                "In general, dynamic stochastic general equilibrium (DSGE) models do not admit analytic (i.e., pencil-and-paper) solutions and they are time-consuming to work with. The `linearsolve` module approximates, solves, and simulates DSGE models and therefore makes DSGE models easier to use.\n",
                "\n",
                "## Installing `linearsolve`\n",
                "\n",
                "`linearsolve` is not included in the Anaconda Python installation and so before you can import it, you need to download and install the `linearsolve` package from PyPI, the Python Package Index. To install, run the following command in a Jupyter Notebook cell:\n",
                "\n",
                "    pip install linearsolve\n",
                "    \n",
                "Alternatively, you can install from the command line. In Windows, open the Anaconda Prompt and in Mac, open the Terminal and run the following commmand. You only have to install the package once.\n",
                "\n",
                "## More information about `linearsolve`\n",
                "\n",
                "Documentation, including examples, for `linearsolve` is availabe here:\n",
                "\n",
                "https://www.briancjenkins.com/linearsolve/docs/build/html/index.html\n",
                "\n",
                "You can view the code in this GitHub repository: https://github.com/letsgoexploring/linearsolve"
            ]
        },
        {
            "cell_type": "code",
            "execution_count": null,
            "metadata": {},
            "outputs": [],
            "source": [
                "# Import the linearsolve under the 'ls' namespace\n"
            ]
        },
        {
            "cell_type": "markdown",
            "metadata": {},
            "source": [
                "## Example: A One-Equation Model of TFP\n",
                "\n",
                "Consider the following AR(1) specification for $\\log$ TFP:\n",
                "\n",
                "\\begin{align}\n",
                "\\log A_{t+1} & = \\rho \\log A_t + \\epsilon_{t+1},\n",
                "\\end{align}\n",
                "\n",
                "where $\\epsilon_{t+1} \\sim \\mathcal{N}(0,\\sigma^2)$. The goal is to simulate \n",
                "\n",
                "\\begin{align}\n",
                "\\log (A_{t}/\\bar{A}) & \\approx \\frac{A_t - \\bar{A}}{\\bar{A}},\n",
                "\\end{align}\n",
                "\n",
                "where $\\bar{A}$ is the nonstochastic (i.e., $\\epsilon_t = 0$) steady state value of $A_t$. Let's compute the model simulation with `linearsolve`. To do this we need to do several things:\n",
                "\n",
                "1. Create a Pandas series that stores the names of the parameters of the model.\n",
                "2. Define a function that returns the equilibrium conditions of the model solved for zero.\n",
                "3. Initialize an instance of the `linearsolve.model` class\n",
                "4. Compute and input the steady state of the model.\n",
                "5. Approximate and solve the model.\n",
                "6. Compute simulations of the model.\n",
                "\n",
                "Use the following values for the simulation:\n",
                "\n",
                "| $$\\rho$$ | $$\\sigma$$ |\n",
                "|----------|------------|\n",
                "| 0.95     | 0.01       |"
            ]
        },
        {
            "cell_type": "markdown",
            "metadata": {},
            "source": [
                "**Step 1:** Create a variable called `parameters` that stores parameter values as a Pandas Series."
            ]
        },
        {
            "cell_type": "code",
            "execution_count": null,
            "metadata": {},
            "outputs": [],
            "source": [
                "# Create a variable called 'parameters' that stores the model parameter values in a Pandas Series\n",
                "\n",
                "\n",
                "",
                "# Print stored parameter values\n"
            ]
        },
        {
            "cell_type": "code",
            "execution_count": null,
            "metadata": {},
            "outputs": [],
            "source": [
                "# Create a variable called 'sigma' that stores the value of sigma\n"
            ]
        },
        {
            "cell_type": "code",
            "execution_count": null,
            "metadata": {},
            "outputs": [],
            "source": [
                "# Create variable called 'var_names' that stores the variable names in a list with exogenous state variables\n",
                "# ordered first, endogenous state variables ordered second, and control variables ordered last.\n",
                "\n",
                "\n",
                "# Create variable called 'shock_names' that stores an exogenous shock name for each exogenous state variable.\n"
            ]
        },
        {
            "cell_type": "markdown",
            "metadata": {},
            "source": [
                "**Step 2:** Define a function called `equilibrium_equations` that evaluates the equilibrium \n",
                "equations of model solved for zero. The function should accept three arguments:\n",
                "\n",
                "1. `variables_forward`: Values of $t+1$-dated variables\n",
                "2. `variables_current`: Values of $t$-dated variables\n",
                "3. `parameters`: Pandas Series with the parameters for the model\n",
                "\n",
                "The function should return a NumPy array of the model's equilibrium conditions solved for zero."
            ]
        },
        {
            "cell_type": "code",
            "execution_count": null,
            "metadata": {},
            "outputs": [],
            "source": [
                "# Define a function that evaluates the equilibrium conditions of the model solved for zero. PROVIDED\n",
                "def equilibrium_equations(variables_forward,variables_current,parameters):\n",
                "\n",
                "    # Create a variable called 'p' that storres the model's parameters. PROVIDED.\n",
                "    p = parameters\n",
                "\n",
                "    # Create variable called 'cur' that stores the values of current (date t) variables. PROVIDED.\n",
                "    cur = variables_current\n",
                "\n",
                "    # Create variable called 'fwd' that stores the values of one-period-ahead (date t+1) variables. PROVIDED.\n",
                "    fwd = variables_forward\n",
                "\n",
                "    # Create variable called 'tfp_proc' that returns the law of motion for TFP solved for zero (exogenous shock excluded)\n",
                "\n",
                "\n",
                "    # Return equilibrium conditions stacked in a numpy array. PROVIDED.\n",
                "    return np.array([\n",
                "\n"
            ]
        },
        {
            "cell_type": "markdown",
            "metadata": {},
            "source": [
                "**Step 3:** Initialize a model instance using the `ls.model()` function. The \n",
                "\n",
                "1. `equations`: Name of function that stores the equilibrium conditions\n",
                "2. `n_states`: Number of *state* variables (i.e., variables that are *predetermined*)\n",
                "3. `n_exo_states`: Number of *exogenous* state variables\n",
                "4. `var_names`: List of the names of the endogenous variables\n",
                "5. `shock_names`: List of the names of the exogenous shocks\n",
                "6. `parameters`: Pandas Series of parameter values"
            ]
        },
        {
            "cell_type": "code",
            "execution_count": null,
            "metadata": {},
            "outputs": [],
            "source": [
                "# Initialize the model into a variable named 'ar1_model' using the ls.model() function\n",
                "\n",
                "\n",
                "",
                "",
                "",
                ""
            ]
        },
        {
            "cell_type": "markdown",
            "metadata": {},
            "source": [
                "**Step 4:** Set the steady state of the model. Either use the `.compute_ss()` method which requires an initial guess of what the steady state is. Or set the steady state `.ss` attribute directly."
            ]
        },
        {
            "cell_type": "code",
            "execution_count": null,
            "metadata": {},
            "outputs": [],
            "source": [
                "# Compute the steady state numerically using .compute_ss() method of ar1_model\n",
                "\n"
            ]
        },
        {
            "cell_type": "code",
            "execution_count": null,
            "metadata": {},
            "outputs": [],
            "source": [
                "# Set the .ss attribute of ar1_model directly\n"
            ]
        },
        {
            "cell_type": "markdown",
            "metadata": {},
            "source": [
                "**Step 5:** Compute a transform the model into a log-linear approximation around the nonstochastic steady state. Then rewrite the equilibrium conditions so that all endogenous variables are expressed as linear functions of state variables and exogenous shocks."
            ]
        },
        {
            "cell_type": "code",
            "execution_count": null,
            "metadata": {},
            "outputs": [],
            "source": [
                "# Appproximate and solve using the .approximate_and_solve() method of ar1_model\n"
            ]
        },
        {
            "cell_type": "markdown",
            "metadata": {},
            "source": [
                "**Step 6:** Simulate the model using one of the following methods:\n",
                "\n",
                "1. `.impulse()`: Compute impulse responses to a one-time shock to each exogenous variables. Results stored in `.irs` attribute.\n",
                "2. `.stoch_sim()`: Compute stochastic simulation. Results stored in `.simulated` attribute.\n",
                "\n",
                "First, we'll compute an impulse response simulation. Let's consider the effect of a one time shock to $\\epsilon$ of 0.01 in period 5. Simulate 41 periods."
            ]
        },
        {
            "cell_type": "code",
            "execution_count": null,
            "metadata": {},
            "outputs": [],
            "source": [
                "# Compute impulse response of a to a one-time shock to e_a\n"
            ]
        },
        {
            "cell_type": "markdown",
            "metadata": {},
            "source": [
                "The impulse response simulations are stored in the `.irs` attribute as a dictionary with keys equal to the names of the exogenous shocks. "
            ]
        },
        {
            "cell_type": "code",
            "execution_count": null,
            "metadata": {},
            "outputs": [],
            "source": [
                "# Print ar1_model.irs\n"
            ]
        },
        {
            "cell_type": "markdown",
            "metadata": {},
            "source": [
                "Let's look at the first 10 rows of the `'e_a'` element of `ar1_model.irs`."
            ]
        },
        {
            "cell_type": "code",
            "execution_count": null,
            "metadata": {},
            "outputs": [],
            "source": [
                "# Print first 10 rows of the element in ar1_model.irs that corresponds to the shock to TFP\n"
            ]
        },
        {
            "cell_type": "code",
            "execution_count": null,
            "metadata": {},
            "outputs": [],
            "source": [
                "# Plot simulated impulse response to e_a\n"
            ]
        },
        {
            "cell_type": "markdown",
            "metadata": {},
            "source": [
                "Next, we'll use the `.stoch_sim()` method to compute a stochastic simulation. The method takes arguments:\n",
                "\n",
                "1. `seed`: Seed of NumPy RNG. (Optional)\n",
                "2. `T`: Number of periods to simulate\n",
                "3. `covMat`: Covariance matrix for exogenous shock process\n",
                "\n",
                "The simulation should be for 201 periods."
            ]
        },
        {
            "cell_type": "code",
            "execution_count": null,
            "metadata": {},
            "outputs": [],
            "source": [
                "# Compute stochastic simulation\n",
                "\n",
                "\n",
                "# Print the first 10 rows of `model.simulated`\n"
            ]
        },
        {
            "cell_type": "markdown",
            "metadata": {},
            "source": [
                "The stochastic simulations are stored in the `.stoch_sim` attribute as a Pandas `DataFrame`."
            ]
        },
        {
            "cell_type": "code",
            "execution_count": null,
            "metadata": {},
            "outputs": [],
            "source": [
                "# Plot the stochastic simulation\n"
            ]
        },
        {
            "cell_type": "markdown",
            "metadata": {},
            "source": [
                "## Example 2: The Stochastic Solow Growth Model Revisited\n",
                "\n",
                "Now consider the following system of equations:\n",
                "\n",
                "\\begin{align}\n",
                "Y_t & = A_t K_t^{\\alpha} \\\\\n",
                "K_{t+1} & = sY_t + (1-\\delta) K_t\\\\\n",
                "\\log A_{t+1} & = \\rho \\log A_t + \\epsilon_{t+1}\n",
                "\\end{align}\n",
                "\n",
                "where $\\epsilon_{t+1} \\sim \\mathcal{N}(0,\\sigma^2)$. Let's simulate the model with `linearsolve`. Before proceding, let's also go ahead and rewrite the model with all variables moved to the lefthand side of the equations:\n",
                "\n",
                "\\begin{align}\n",
                "0 & = A_t K_t^{\\alpha} - Y_t \\\\\n",
                "0 & = sY_t + (1-\\delta) K_t - K_{t+1}\\\\\n",
                "0 & = \\rho \\log A_t + \\epsilon_{t+1} - \\log A_{t+1}\n",
                "\\end{align}\n",
                "\n",
                "Capital and TFP are called *state variables* because they're $t+1$ values are predetermined. Output is called a *costate* or *control* variable. Note that the model as 3 endogenous variables with 2 state variables. \n",
                "\n",
                "Use the following values for the simulation:\n",
                "\n",
                "| $$\\rho$$ | $$\\sigma$$ | $$s$$ | $$\\alpha$$ | $$\\delta $$ | $$T$$  |\n",
                "|----------|------------|-------|------------|-------------|--------|\n",
                "| 0.75     | 0.006      | 0.1   | 0.35       |  0.025      | 201    |"
            ]
        },
        {
            "cell_type": "markdown",
            "metadata": {},
            "source": [
                "### Initialization, Approximation, and Solution\n",
                "\n",
                "The next several cells initialize the model in `linearsolve` and then approximate and solve it."
            ]
        },
        {
            "cell_type": "code",
            "execution_count": null,
            "metadata": {},
            "outputs": [],
            "source": [
                "# Create a variable called 'parameters' that stores the model parameter values in a Pandas Series\n",
                "\n",
                "\n",
                "",
                "",
                "",
                "",
                "# Print the model's parameters\n"
            ]
        },
        {
            "cell_type": "code",
            "execution_count": null,
            "metadata": {},
            "outputs": [],
            "source": [
                "# Create a variable called 'sigma' that stores the value of sigma\n"
            ]
        },
        {
            "cell_type": "code",
            "execution_count": null,
            "metadata": {},
            "outputs": [],
            "source": [
                "# Create variable called 'var_names' that stores the variable names in a list with exogenous state variables\n",
                "# ordered first, endogenous state variables ordered second, and control variables ordered last.\n",
                "\n",
                "\n",
                "# Create variable called 'shock_names' that stores an exogenous shock name for each exogenous state variable.\n"
            ]
        },
        {
            "cell_type": "code",
            "execution_count": null,
            "metadata": {},
            "outputs": [],
            "source": [
                "# Define a function that evaluates the equilibrium conditions of the model solved for zero. PROVIDED\n",
                "def equilibrium_equations(variables_forward,variables_current,parameters):\n",
                "\n",
                "    # Parameters. PROVIDED\n",
                "    p = parameters\n",
                "\n",
                "    # Current variables. PROVIDED\n",
                "    cur = variables_current\n",
                "\n",
                "    # Forward variables. PROVIDED\n",
                "    fwd = variables_forward\n",
                "\n",
                "    # Production function\n",
                "\n",
                "\n",
                "    # Capital evolution\n",
                "\n",
                "\n",
                "    # Exogenous tfp\n",
                "\n",
                "\n",
                "    # Stack equilibrium conditions into a numpy array\n",
                "\n",
                "\n",
                "",
                "",
                ""
            ]
        },
        {
            "cell_type": "markdown",
            "metadata": {},
            "source": [
                "Next, initialize the model."
            ]
        },
        {
            "cell_type": "code",
            "execution_count": null,
            "metadata": {},
            "outputs": [],
            "source": [
                "# Initialize the model into a variable named 'solow_model'\n",
                "\n",
                "\n",
                "",
                "",
                "",
                ""
            ]
        },
        {
            "cell_type": "code",
            "execution_count": null,
            "metadata": {},
            "outputs": [],
            "source": [
                "# Compute the steady state numerically using .compute_ss() method of solow_model\n",
                "\n",
                "\n",
                "",
                "# Print the computed steady state\n"
            ]
        },
        {
            "cell_type": "code",
            "execution_count": null,
            "metadata": {},
            "outputs": [],
            "source": [
                "# Find the log-linear approximation around the non-stochastic steady state and solve using .approximate_and_solve() method of solow_model\n"
            ]
        },
        {
            "cell_type": "markdown",
            "metadata": {},
            "source": [
                "### A Few Details About the Approximation (Optional)\n",
                "\n",
                "The previous step constructs a log-linear approximation of the model and then solves for the endogenous variables as functions of the state variables and exogenous shocks only.\n",
                "\n",
                "View the approximated model by calling the `.approximated()` method."
            ]
        },
        {
            "cell_type": "code",
            "execution_count": null,
            "metadata": {},
            "outputs": [],
            "source": [
                "# Print the log-linear approximation to the models's equilibrium conditions\n"
            ]
        },
        {
            "cell_type": "markdown",
            "metadata": {},
            "source": [
                "Each variable represents the log-deviation from the steady state of the respective variable in our model. For example, the variable `y[t]` means $\\log(Y_t) - \\log(Y)$ in terms of the stochastic Solow model. But how do these equations relate to the original model?\n",
                "\n",
                "The first equation appears to be:\n",
                "\n",
                "\\begin{align}\n",
                "0 &= -2.1095\\cdot a_t-0.7383\\cdot k_t + 2.1095\\cdot y_t\n",
                "\\end{align}\n",
                "\n",
                "Note that dividing by 2.1095 and solving for $y_t$ yields:\n",
                "\n",
                "\\begin{align}\n",
                "y_t &= a_t +0.3499\\cdot k_t,\n",
                "\\end{align}\n",
                "\n",
                "so the coefficient on $k_t$ appears to be close to $\\alpha=0.35$. We can derive this linear equation directly. First, start with the production function:\n",
                "\n",
                "\\begin{align}\n",
                "Y_t &= A_t K_t^{\\alpha}.\n",
                "\\end{align}\n",
                "\n",
                "Then divide both sides by steady state output:\n",
                "\n",
                "\\begin{align}\n",
                "\\frac{Y_t}{Y} &= \\frac{A_t K_t^{\\alpha}}{AK^{\\alpha}} \\, = \\, \\frac{A_t}{A}\\frac{K_t^{\\alpha}}{K^{\\alpha}}.\n",
                "\\end{align}\n",
                "\n",
                "Then, take the log of both sides:\n",
                "\\begin{align}\n",
                "\\log\\left(\\frac{Y_t}{Y} \\right)&= \\log\\left(\\frac{A_t}{A}\\right) + \\alpha\\log\\left(\\frac{K_t}{K}\\right).\n",
                "\\end{align}\n",
                "\n",
                "finally, letting $y_t = \\log(Y_t/Y)$, k_t = $\\log(K_t/K)$, and $a_t = \\log(A_t/A)$, we have:\n",
                "\n",
                "\\begin{align}\n",
                "y_t &= a_t + \\alpha k_t.\n",
                "\\end{align}\n",
                "\n",
                "However, understanding this process isn't as important as being able to interpret the graphs and statistics that compute using the output of `linearsolve`.\n",
                "\n",
                "### A Few Details About the Solution (Optional)\n",
                "\n",
                "It's also worth seeing what it means for a model to be *solved*. After `linearsolve` computes the log-linear approximation to the model, it solves for each endogenous variable as a function of state variables only. View the solved model by calling the `.solved()` method."
            ]
        },
        {
            "cell_type": "code",
            "execution_count": null,
            "metadata": {},
            "outputs": [],
            "source": [
                "# Print the solved model\n"
            ]
        },
        {
            "cell_type": "markdown",
            "metadata": {},
            "source": [
                "### Impulse Responses\n",
                "\n",
                "Compute a 41 period impulse responses of the model's variables to a 0.01 unit shock to TFP in period 5."
            ]
        },
        {
            "cell_type": "code",
            "execution_count": null,
            "metadata": {},
            "outputs": [],
            "source": [
                "# Compute impulse responses\n",
                "\n",
                "\n",
                "# Print the first 10 rows of the computed impulse responses.\n"
            ]
        },
        {
            "cell_type": "code",
            "execution_count": null,
            "metadata": {},
            "outputs": [],
            "source": [
                "# Plot the computed impulse responses to a TFP shock\n",
                "\n",
                "\n",
                "",
                "",
                "",
                "",
                "",
                "",
                "",
                "",
                ""
            ]
        },
        {
            "cell_type": "markdown",
            "metadata": {},
            "source": [
                "### Stochastic Simulation\n",
                "\n",
                "Compute a 201 period stochastic simulation of the model's variables. Set the variance of $\\epsilon_t$ to $\\sigma^2$ and the variance of the shock to capital to 0 so that the covariance matrix for the shock process is:\n",
                "\n",
                "\\begin{align}\n",
                "\\text{Covariance matrix} & = \\left[\\begin{array}{cc} \\sigma^2 \\end{array} \\right]\n",
                "\\end{align}"
            ]
        },
        {
            "cell_type": "code",
            "execution_count": null,
            "metadata": {},
            "outputs": [],
            "source": [
                "# Compute stochastic simulation and print the simulated values.\n",
                "\n",
                "\n",
                "# Print first 10 rows of model.simulated\n"
            ]
        },
        {
            "cell_type": "code",
            "execution_count": null,
            "metadata": {},
            "outputs": [],
            "source": [
                "# Plot the computed stochastic simulation\n",
                "\n",
                "\n",
                "",
                "",
                "",
                "",
                "",
                "",
                "",
                "",
                ""
            ]
        },
        {
            "cell_type": "code",
            "execution_count": null,
            "metadata": {},
            "outputs": [],
            "source": [
                "# Compute standard deviations of simulated TFP, output, and capital\n"
            ]
        },
        {
            "cell_type": "code",
            "execution_count": null,
            "metadata": {},
            "outputs": [],
            "source": [
                "# Compute correlation coefficients of simulated TFP, output, and capital\n"
            ]
        }
    ],
    "metadata": {
        "anaconda-cloud": {},
        "kernelspec": {
            "display_name": "Python 3 (ipykernel)",
            "language": "python",
            "name": "python3"
        },
        "language_info": {
            "codemirror_mode": {
                "name": "ipython",
                "version": 3
            },
            "file_extension": ".py",
            "mimetype": "text/x-python",
            "name": "python",
            "nbconvert_exporter": "python",
            "pygments_lexer": "ipython3",
            "version": "3.9.12"
        }
    },
    "nbformat": 4,
    "nbformat_minor": 1
}