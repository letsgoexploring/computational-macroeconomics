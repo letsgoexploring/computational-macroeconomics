{
    "cells": [
        {
            "cell_type": "code",
            "execution_count": null,
            "metadata": {},
            "outputs": [],
            "source": [
                "import numpy as np\n",
                "import pandas as pd\n",
                "import linearsolve as ls\n",
                "import matplotlib.pyplot as plt\n",
                "plt.style.use('classic')\n",
                "%matplotlib inline"
            ]
        },
        {
            "cell_type": "markdown",
            "metadata": {},
            "source": [
                "# Class 13: Introduction to Real Business Cycle Modeling\n",
                "\n",
                "Real business cycle (RBC) models are extensions of the stochastic Solow model. RBC models replace the ad hoc assumption of a constant saving rate in the Solow model with the solution to an intertemporal utility maximization problem that gives rise to a variable saving rate. RBC models also often feature some sort of household labor-leisure tradeoff that produces endogenous labor varation.\n",
                "\n",
                "In this notebook, we'll consider a baseline RBC model that does not have labor. We'll use the model to compute impulse responses to a one percent shock to TFP."
            ]
        },
        {
            "cell_type": "markdown",
            "metadata": {},
            "source": [
                "## The Baseline RBC Model without Labor\n",
                "\n",
                "The equilibrium conditions for the RBC model without labor are:\n",
                "\n",
                "\\begin{align}\n",
                "\\frac{1}{C_t} & = \\beta E_t \\left[\\frac{\\alpha A_{t+1}K_{t+1}^{\\alpha-1} +1-\\delta }{C_{t+1}}\\right]\\\\\n",
                "K_{t+1} & = I_t + (1-\\delta) K_t\\\\\n",
                "Y_t & = A_t K_t^{\\alpha}\\\\\n",
                "Y_t & = C_t + I_t\\\\\n",
                "\\log A_{t+1} & = \\rho \\log A_t + \\epsilon_{t+1}\n",
                "\\end{align}\n",
                "\n",
                "where $\\epsilon_{t+1} \\sim \\mathcal{N}(0,\\sigma^2)$. \n",
                "\n",
                "The objective is use `linearsolve` to simulate impulse responses to a TFP shock using the following parameter values for the simulation:\n",
                "\n",
                "| $$\\rho$$ | $$\\sigma$$ | $$\\beta$$ | $$\\alpha$$ | $$\\delta $$ | $$T$$ |\n",
                "|----------|------------|-----------|------------|-------------|-------|\n",
                "| 0.75     | 0.006      | 0.99      | 0.35       |  0.025      | 26    |"
            ]
        },
        {
            "cell_type": "markdown",
            "metadata": {},
            "source": [
                "## Model Preparation\n",
                "\n",
                "Before proceding, let's recast the model in the form required for `linearsolve`. Write the model with all variables moved to the lefthand side of the equations and dropping the expecations operator $E_t$ and the exogenous shock $\\epsilon_{t+1}$:\n",
                "\n",
                "\\begin{align}\n",
                "0 & = \\beta\\left[\\frac{\\alpha A_{t+1}K_{t+1}^{\\alpha-1} +1-\\delta }{C_{t+1}}\\right] - \\frac{1}{C_t}\\\\\n",
                "0 & = A_t K_t^{\\alpha} - Y_t\\\\\n",
                "0 & = I_t + (1-\\delta) K_t - K_{t+1}\\\\\n",
                "0 & = C_t + I_t - Y_t\\\\\n",
                "0 & = \\rho \\log A_t - \\log A_{t+1}\n",
                "\\end{align}\n",
                "\n",
                "Remember, capital and TFP are called *state variables* because they're $t+1$ values are predetermined. Output, consumption, and investment are called a *costate* or *control* variables. Note that the model as 5 equations in 5 endogenous variables.\n",
                "\n"
            ]
        },
        {
            "cell_type": "markdown",
            "metadata": {},
            "source": [
                "## Initialization, Approximation, and Solution\n",
                "\n",
                "The next several cells initialize the model in `linearsolve` and then approximate and solve it."
            ]
        },
        {
            "cell_type": "code",
            "execution_count": null,
            "metadata": {},
            "outputs": [],
            "source": [
                "# Create a variable called 'parameters' that stores the model parameter values in a Pandas Series\n",
                "\n",
                "\n",
                "",
                "",
                "",
                "",
                "# Print the model's parameters\n"
            ]
        },
        {
            "cell_type": "code",
            "execution_count": null,
            "metadata": {},
            "outputs": [],
            "source": [
                "# Create a variable called 'sigma' that stores the value of sigma\n"
            ]
        },
        {
            "cell_type": "code",
            "execution_count": null,
            "metadata": {},
            "outputs": [],
            "source": [
                "# Create variable called 'var_names' that stores the variable names in a list with exogenous state variables\n",
                "# ordered first, endogenous state variables ordered second, and control variables ordered last.\n",
                "\n",
                "\n",
                "# Create variable called 'shock_names' that stores an exogenous shock name for each exogenous state variable.\n"
            ]
        },
        {
            "cell_type": "code",
            "execution_count": null,
            "metadata": {},
            "outputs": [],
            "source": [
                "# Define a function that evaluates the equilibrium conditions of the model solved for zero. PROVIDED\n",
                "def equilibrium_equations(variables_forward,variables_current,parameters):\n",
                "\n",
                "    # Parameters. PROVIDED\n",
                "    p = parameters\n",
                "\n",
                "    # Current variables. PROVIDED\n",
                "    cur = variables_current\n",
                "\n",
                "    # Forward variables. PROVIDED\n",
                "    fwd = variables_forward\n",
                "\n",
                "    # Euler equation\n",
                "\n",
                "\n",
                "    # Production function\n",
                "\n",
                "\n",
                "    # Capital evolution\n",
                "\n",
                "\n",
                "    # Market clearing\n",
                "\n",
                "\n",
                "    # Exogenous tfp\n",
                "\n",
                "\n",
                "    # Stack equilibrium conditions into a numpy array\n",
                "\n",
                "\n",
                "",
                "",
                "",
                "",
                ""
            ]
        },
        {
            "cell_type": "markdown",
            "metadata": {},
            "source": [
                "Next, initialize the model using `ls.model` which takes the following required arguments:\n",
                "\n",
                "* `equations`\n",
                "* `n_states`\n",
                "* `var_names`\n",
                "* `shock_names`\n",
                "* `parameters`"
            ]
        },
        {
            "cell_type": "code",
            "execution_count": null,
            "metadata": {},
            "outputs": [],
            "source": [
                "# Initialize the model into a variable named 'rbc_model'\n",
                "\n",
                "\n",
                "",
                "",
                "",
                ""
            ]
        },
        {
            "cell_type": "code",
            "execution_count": null,
            "metadata": {},
            "outputs": [],
            "source": [
                "# Compute the steady state numerically using .compute_ss() method of rbc_model\n",
                "\n",
                "\n",
                "",
                "# Print the computed steady state\n"
            ]
        },
        {
            "cell_type": "code",
            "execution_count": null,
            "metadata": {},
            "outputs": [],
            "source": [
                "# Find the log-linear approximation around the non-stochastic steady state and solve using .approximate_and_solve() method of rbc_model\n"
            ]
        },
        {
            "cell_type": "markdown",
            "metadata": {},
            "source": [
                "### Impulse Responses\n",
                "\n",
                "Compute a 26 period impulse responses of the model's variables to a 0.01 unit shock to TFP in period 5."
            ]
        },
        {
            "cell_type": "code",
            "execution_count": null,
            "metadata": {},
            "outputs": [],
            "source": [
                "# Compute impulse responses\n",
                "\n",
                "\n",
                "# Print the first 10 rows of the computed impulse responses to the TFP shock\n"
            ]
        },
        {
            "cell_type": "markdown",
            "metadata": {},
            "source": [
                "Construct a $2\\times2$ grid of plots of simulated TFP, output, consumption, and investment. Be sure to multiply simulated values by 100 so that vertical axis units are in \"percent deviation from steady state.\""
            ]
        },
        {
            "cell_type": "code",
            "execution_count": null,
            "metadata": {},
            "outputs": [],
            "source": [
                "# Create figure. PROVIDED\n",
                "fig = plt.figure(figsize=(12,8))\n",
                "\n",
                "# Create upper-left axis. PROVIDED\n",
                "ax1 = fig.add_subplot(2,2,1)\n",
                "# Create upper-right axis. PROVIDED\n",
                "ax2 = fig.add_subplot(2,2,2)\n",
                "# Create upper-center axis. PROVIDED\n",
                "ax3 = fig.add_subplot(2,2,3)\n",
                "# Create lower-left axis. PROVIDED\n",
                "ax4 = fig.add_subplot(2,2,4)\n",
                "\n",
                "# Set axis 1 ylabel. PROVIDED\n",
                "ax1.set_ylabel('% dev from steady state')\n",
                "# Set axis 2 ylabel. PROVIDED\n",
                "ax2.set_ylabel('% dev from steady state')\n",
                "# Set axis 3 ylabel. PROVIDED\n",
                "ax3.set_ylabel('% dev from steady state')\n",
                "# Set axis 4 ylabel. PROVIDED\n",
                "ax4.set_ylabel('% dev from steady state')\n",
                "\n",
                "# Set axis 1 limits. PROVIDED\n",
                "ax1.set_ylim([-0.2,1.2])\n",
                "# Set axis 2 limits. PROVIDED\n",
                "ax2.set_ylim([-0.2,1.2])\n",
                "# Set axis 3 limits. PROVIDED\n",
                "ax3.set_ylim([-0.05,0.30])\n",
                "# Set axis 4 limits. PROVIDED\n",
                "ax4.set_ylim([-1,6])\n",
                "\n",
                "# Plot TFP on axis 1\n",
                "\n",
                "\n",
                "# Plot output on axis 2\n",
                "\n",
                "\n",
                "# Plot TFP on axis 3\n",
                "\n",
                "\n",
                "# Plot TFP on axis 4\n",
                "\n",
                "\n",
                "# Manage whitespace\n"
            ]
        }
    ],
    "metadata": {
        "anaconda-cloud": {},
        "kernelspec": {
            "display_name": "Python 3 (ipykernel)",
            "language": "python",
            "name": "python3"
        },
        "language_info": {
            "codemirror_mode": {
                "name": "ipython",
                "version": 3
            },
            "file_extension": ".py",
            "mimetype": "text/x-python",
            "name": "python",
            "nbconvert_exporter": "python",
            "pygments_lexer": "ipython3",
            "version": "3.9.12"
        }
    },
    "nbformat": 4,
    "nbformat_minor": 1
}