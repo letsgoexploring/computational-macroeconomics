{
    "cells": [
        {
            "cell_type": "code",
            "execution_count": null,
            "metadata": {},
            "outputs": [],
            "source": [
                "import numpy as np\n",
                "import pandas as pd\n",
                "import linearsolve as ls\n",
                "import matplotlib.pyplot as plt\n",
                "plt.style.use('classic')\n",
                "%matplotlib inline"
            ]
        },
        {
            "cell_type": "markdown",
            "metadata": {},
            "source": [
                "# Class 18: Exogenous Shocks in the New-Keynesian Model\n",
                "\n",
                "In this notebook, we will compute impulse responses to exogenous shocks in the new-Keynesian model and interpret the results. Then we compute a stochastic simulation of the model.\n",
                "\n",
                "## The New-Keynesian Model\n",
                "\n",
                "The most basic version of the New-Keynesian Model can be expressed as:\n",
                "\n",
                "\\begin{align}\n",
                "y_t & = E_t y_{t+1}  - \\left( r_{t} - \\bar{r}\\right) + g_t\\\\\n",
                "i_{t} & = r_{t} + E_t \\pi_{t+1}\\\\\n",
                "i_{t} & = \\bar{r} + \\pi^T + \\phi_{\\pi}\\big(\\pi_t - \\pi^T\\big) + \\phi_{y}\\big(y_t - \\bar{y}\\big) + v_t\\\\\n",
                "\\pi_t -\\pi^T & = \\beta \\left( E_t\\pi_{t+1} - \\pi^T\\right)  + \\kappa (y_t -\\bar{y})+ u_t,\n",
                "\\end{align}\n",
                "\n",
                "where: $y_t$ is (log) output, $r_t$ is the real interest rate, $i_t$ is the nominal interest rate, $\\pi_t$ is the rate of inflation between periods $t-1$ and $t$, $\\bar{r}$ is the long-run average real interest rate or the *natural rate of interest*, $\\beta$ is the household's subjective discount factor, and $\\pi^T$ is the central bank's inflation target. The coeffieints $\\phi_{\\pi}$ and $\\phi_{y}$ reflect the degree of intensity to which the central bank *endogenously* adjusts the nominal interest rate in response to movements in inflation and output.\n",
                "\n",
                "The variables $g_t$, $u_t$, and $v_t$ represent exogenous shocks to aggregate demand, inflation, and monetary policy. They follow AR(1) processes:\n",
                "\n",
                "\\begin{align}\n",
                "g_{t+1} & = \\rho_g g_{t} + \\epsilon^g_{t+1}\\\\\n",
                "u_{t+1} & = \\rho_u u_{t} + \\epsilon^u_{t+1}\\\\\n",
                "v_{t+1} & = \\rho_v v_{t} + \\epsilon^v_{t+1}.\n",
                "\\end{align}\n",
                "\n",
                "The goal is to compute impulse responses in the model to all three exogenous shocks. We will use the following parameterization:\n",
                "\n",
                "| $$\\bar{y}$$ | $$\\beta$$ | $$\\bar{r}$$    | $$\\kappa$$ | $$\\pi^T$$ | $$\\phi_{\\pi}$$ | $$\\phi_y$$ | $$\\rho_g$$ | $$\\rho_u$$ | $$\\rho_v$$ | \n",
                "|-------------|-----------|----------------|------------|-----------|----------------|------------|------------|------------|------------|\n",
                "| 0           | 0.995     | $$-\\log\\beta$$ | 0.25       | 0.02/4    | 1.5            | 0.5/4      | 0.5        | 0.5        | 0.5        |"
            ]
        },
        {
            "cell_type": "markdown",
            "metadata": {},
            "source": [
                "## Solution"
            ]
        },
        {
            "cell_type": "code",
            "execution_count": null,
            "metadata": {},
            "outputs": [],
            "source": [
                "# Create a variable called 'parameters' that stores the model parameter values in a Pandas Series. CELL PROVIDED\n",
                "parameters = pd.Series(dtype=float)\n",
                "parameters['y_bar'] = 0\n",
                "parameters['beta'] = 0.995\n",
                "parameters['r_bar'] = -np.log(parameters.beta)\n",
                "parameters['kappa'] = 0.25\n",
                "parameters['pi_T'] = 0.02/4\n",
                "parameters['phi_pi'] = 1.5\n",
                "parameters['phi_y'] = 0.5/4\n",
                "parameters['rho_g'] = 0.5\n",
                "parameters['rho_u'] = 0.5\n",
                "parameters['rho_v'] = 0.5\n",
                "\n",
                "# Create variable called 'var_names' that stores the variable names in a list with exogenous state variables\n",
                "# ordered first, endogenous state variables ordered second, and control variables ordered last.\n",
                "var_names = ['g','u','v','y','pi','i','r']\n",
                "\n",
                "# Create variable called 'shock_names' that stores an exogenous shock name for each exogenous state variable.\n",
                "shock_names = ['e_g','e_u','e_v']\n",
                "\n",
                "# Define a function that evaluates the equilibrium conditions of the model solved for zero.\n",
                "def equilibrium_equations(variables_forward,variables_current,parameters):\n",
                "    \n",
                "    # Parameters\n",
                "    p = parameters\n",
                "    \n",
                "    # Current variables\n",
                "    cur = variables_current\n",
                "    \n",
                "    # Forward variables\n",
                "    fwd = variables_forward\n",
                "\n",
                "    # IS equation\n",
                "    is_equation = fwd.y - (cur.r -p.r_bar) + cur.g - cur.y\n",
                "    \n",
                "    # Fisher_equation\n",
                "    fisher_equation = cur.r + fwd.pi - cur.i\n",
                "    \n",
                "    # Monetary policy\n",
                "    monetary_policy = p.r_bar + p.pi_T + p.phi_pi*(cur.pi - p.pi_T) + p.phi_y*cur.y + cur.v - cur.i\n",
                "    \n",
                "    # Phillips curve\n",
                "    phillips_curve = p.beta*(fwd.pi- p.pi_T) + p.kappa*cur.y + cur.u - (cur.pi-p.pi_T)\n",
                "    \n",
                "    # Demand process\n",
                "    demand_process = p.rho_g*cur.g - fwd.g\n",
                "    \n",
                "    # Monetary policy process\n",
                "    monetary_policy_process = p.rho_v*cur.v - fwd.v\n",
                "    \n",
                "    # Inflation process\n",
                "    inflation_process = p.rho_u*cur.u - fwd.u\n",
                "    \n",
                "    # Stack equilibrium conditions into a numpy array\n",
                "    return np.array([\n",
                "            is_equation,\n",
                "            fisher_equation,\n",
                "            monetary_policy,\n",
                "            phillips_curve,\n",
                "            demand_process,\n",
                "            monetary_policy_process,\n",
                "            inflation_process\n",
                "        ])\n",
                "\n",
                "# Initialize the model into a variable named 'nk_model'\n",
                "nk_model = ls.model(equations = equilibrium_equations,\n",
                "                    n_states=3,\n",
                "                    n_exo_states = 3,\n",
                "                    var_names=var_names,\n",
                "                    shock_names=shock_names,\n",
                "                    parameters = parameters)\n",
                "\n",
                "\n",
                "# Compute the steady state numerically using .compute_ss() method of nk_model\n",
                "guess = [0,0,0,0,0.01,0.01,0.01]\n",
                "nk_model.compute_ss(guess)"
            ]
        },
        {
            "cell_type": "code",
            "execution_count": null,
            "metadata": {},
            "outputs": [],
            "source": [
                "# Find the log-linear approximation around the non-stochastic steady state and solve using .approximate_and_solve() method of nk_model\n",
                "# set argumement 'log_linear' to False\n",
                "\n",
                "\n",
                "# Print the solution to the model\n"
            ]
        },
        {
            "cell_type": "markdown",
            "metadata": {},
            "source": [
                "**Questions** \n",
                "\n",
                "1. Will a positive shock to $g_t$ increase or decrease $y_t$?\n",
                "2. Will a positive shock to $g_t$ increase or decrease $\\pi_t$?\n",
                "3. Will a positive shock to $u_t$ increase or decrease $y_t$?\n",
                "4. Will a positive shock to $u_t$ increase or decrease $\\pi_t$?"
            ]
        },
        {
            "cell_type": "markdown",
            "metadata": {},
            "source": [
                "**Answers**\n",
                "\n",
                "1.  \n\n",
                "2.  \n\n",
                "1.  \n\n",
                "4.  "
            ]
        },
        {
            "cell_type": "markdown",
            "metadata": {},
            "source": [
                "## Impulse Responses\n",
                "\n",
                "Compute a 21 period impulse response of the model's variables to a:\n",
                "\n",
                "* 0.01 unit shock to $g_t$\n",
                "* 0.01/4 unit shock to $u_t$\n",
                "* 0.01/4 unit shock to $v_t$"
            ]
        },
        {
            "cell_type": "code",
            "execution_count": null,
            "metadata": {},
            "outputs": [],
            "source": [
                "# Compute impulse responses\n"
            ]
        },
        {
            "cell_type": "markdown",
            "metadata": {},
            "source": [
                "### Demand Shock\n",
                "\n",
                "Plot the computed impulses responses of the nominal interest rate, the real interest rate, output, and inflation to the 0.01 unit demand shock. Express inflation and interest rates in *annualized* (e.g., multiplied by 4) terms."
            ]
        },
        {
            "cell_type": "code",
            "execution_count": null,
            "metadata": {},
            "outputs": [],
            "source": [
                "# Create figure. CELL PROVIDED\n",
                "fig = plt.figure(figsize=(12,8))\n",
                "\n",
                "# Create upper-left axis\n",
                "ax1 = fig.add_subplot(2,2,1)\n",
                "# Create upper-right axis\n",
                "ax2 = fig.add_subplot(2,2,2)\n",
                "# Create lower-left axis\n",
                "ax3 = fig.add_subplot(2,2,3)\n",
                "# Create lower-right axis\n",
                "ax4 = fig.add_subplot(2,2,4)\n",
                "\n",
                "# Set axis 1 ylabel\n",
                "ax1.set_ylabel('% dev from steady state')\n",
                "# Set axis 2 ylabel\n",
                "ax2.set_ylabel('% dev from steady state')\n",
                "# Set axis 3 ylabel\n",
                "ax3.set_ylabel('% dev from steady state')\n",
                "# Set axis 4 ylabel\n",
                "ax4.set_ylabel('% dev from steady state')\n",
                "\n",
                "# Set axis 1 limits\n",
                "ax1.set_ylim([-0.5,3.5])\n",
                "# Set axis 2 limits\n",
                "ax2.set_ylim([-0.5,3.5])\n",
                "# Set axis 3 limits\n",
                "ax3.set_ylim([-0.5,2])\n",
                "# Set axis 4 limits\n",
                "ax4.set_ylim([-0.5,2])\n",
                "\n",
                "# Plot the nominal interest rate, real interest rate, output, and inflation\n",
                "(nk_model.irs['e_g']['i']*400).plot(ax=ax1,lw=4,alpha=0.75,title='Nominal Interest (annualized)',grid=True)\n",
                "(nk_model.irs['e_g']['r']*400).plot(ax=ax2,lw=4,alpha=0.75,title='Real Interest (annualized)',grid=True)\n",
                "(nk_model.irs['e_g']['y']*100).plot(ax=ax3,lw=4,alpha=0.75,title='Output',grid=True)\n",
                "(nk_model.irs['e_g']['pi']*400).plot(ax=ax4,lw=4,alpha=0.75,title='Inflation (annualized)',grid=True)\n",
                "\n",
                "# Manage whitespace\n",
                "fig.tight_layout()"
            ]
        },
        {
            "cell_type": "markdown",
            "metadata": {},
            "source": [
                "### Inflation Shock\n",
                "\n",
                "Plot the computed impulses responses of the nominal interest rate, the real interest rate, output, and inflation to the 0.01/4 unit inflation shock. Express inflation and interest rates in *annualized* (e.g., multiplied by 4) terms."
            ]
        },
        {
            "cell_type": "code",
            "execution_count": null,
            "metadata": {},
            "outputs": [],
            "source": [
                "# Create figure. CELL PROVIDED\n",
                "fig = plt.figure(figsize=(12,8))\n",
                "\n",
                "# Create upper-left axis\n",
                "ax1 = fig.add_subplot(2,2,1)\n",
                "# Create upper-right axis\n",
                "ax2 = fig.add_subplot(2,2,2)\n",
                "# Create lower-left axis\n",
                "ax3 = fig.add_subplot(2,2,3)\n",
                "# Create lower-right axis\n",
                "ax4 = fig.add_subplot(2,2,4)\n",
                "\n",
                "# Set axis 1 ylabel\n",
                "ax1.set_ylabel('% dev from steady state')\n",
                "# Set axis 2 ylabel\n",
                "ax2.set_ylabel('% dev from steady state')\n",
                "# Set axis 3 ylabel\n",
                "ax3.set_ylabel('% dev from steady state')\n",
                "# Set axis 4 ylabel\n",
                "ax4.set_ylabel('% dev from steady state')\n",
                "\n",
                "# Set axis 1 limits \n",
                "ax1.set_ylim([-.5,2])\n",
                "# Set axis 2 limits\n",
                "ax2.set_ylim([-0.5,2])\n",
                "# Set axis 3 limits\n",
                "ax3.set_ylim([-0.5,0.5])\n",
                "# Set axis 4 limits\n",
                "ax4.set_ylim([-0.5,1.5])\n",
                "\n",
                "# Plot the nominal interest rate, real interest rate, output, and inflation\n",
                "(nk_model.irs['e_u']['i']*400).plot(ax=ax1,lw=4,alpha=0.75,title='Nominal Interest (annualized)',grid=True)\n",
                "(nk_model.irs['e_u']['r']*400).plot(ax=ax2,lw=4,alpha=0.75,title='Real Interest (annualized)',grid=True)\n",
                "(nk_model.irs['e_u']['y']*100).plot(ax=ax3,lw=4,alpha=0.75,title='Output',grid=True)\n",
                "(nk_model.irs['e_u']['pi']*400).plot(ax=ax4,lw=4,alpha=0.75,title='Inflation (annualized)',grid=True)\n",
                "\n",
                "# Manage whitespace\n",
                "fig.tight_layout()"
            ]
        },
        {
            "cell_type": "markdown",
            "metadata": {},
            "source": [
                "### Monetary Policy Shock\n",
                "\n",
                "Plot the computed impulses responses of the nominal interest rate, the real interest rate, output, and inflation to the 0.01/4 unit monetary policy shock. Express inflation and interest rates in *annualized* (e.g., multiplied by 4) terms."
            ]
        },
        {
            "cell_type": "code",
            "execution_count": null,
            "metadata": {},
            "outputs": [],
            "source": [
                "# Create figure. CELL PROVIDED\n",
                "fig = plt.figure(figsize=(12,8))\n",
                "\n",
                "# Create upper-left axis\n",
                "ax1 = fig.add_subplot(2,2,1)\n",
                "# Create upper-right axis\n",
                "ax2 = fig.add_subplot(2,2,2)\n",
                "# Create lower-left axis\n",
                "ax3 = fig.add_subplot(2,2,3)\n",
                "# Create lower-right axis\n",
                "ax4 = fig.add_subplot(2,2,4)\n",
                "\n",
                "# Set axis 1 ylabel\n",
                "ax1.set_ylabel('% dev from steady state')\n",
                "# Set axis 2 ylabel\n",
                "ax2.set_ylabel('% dev from steady state')\n",
                "# Set axis 3 ylabel\n",
                "ax3.set_ylabel('% dev from steady state')\n",
                "# Set axis 4 ylabel\n",
                "ax4.set_ylabel('% dev from steady state')\n",
                "\n",
                "# Set axis 1 limits\n",
                "ax1.set_ylim([-0.2,0.6])\n",
                "# Set axis 2 limits\n",
                "ax2.set_ylim([-0.2,0.6])\n",
                "# Set axis 3 limits\n",
                "ax3.set_ylim([-0.5,0.1])\n",
                "# Set axis 4 limits\n",
                "ax4.set_ylim([-0.5,0.1])\n",
                "\n",
                "# Plot the nominal interest rate, real interest rate, output, and inflation\n",
                "(nk_model.irs['e_v']['i']*400).plot(ax=ax1,lw=4,alpha=0.75,title='Nominal Interest (annualized)',grid=True)\n",
                "(nk_model.irs['e_v']['r']*400).plot(ax=ax2,lw=4,alpha=0.75,title='Real Interest (annualized)',grid=True)\n",
                "(nk_model.irs['e_v']['y']*100).plot(ax=ax3,lw=4,alpha=0.75,title='Output',grid=True)\n",
                "(nk_model.irs['e_v']['pi']*400).plot(ax=ax4,lw=4,alpha=0.75,title='Inflation (annualized)',grid=True)\n",
                "\n",
                "# Manage whitespace\n",
                "fig.tight_layout()"
            ]
        },
        {
            "cell_type": "markdown",
            "metadata": {},
            "source": [
                "## Example: Stochastic Simulation\n",
                "\n",
                "Compute a 401 period stochastic simulation of the model.  \n",
                "\n",
                "| $$\\rho_g$$ | $$\\sigma_g$$ | $$\\rho_u$$ | $$\\sigma_u$$ | $$\\rho_v$$ | $$\\sigma_v$$ |\n",
                "|------------|--------------|------------|--------------|------------|--------------|\n",
                "| 0.5        | 0.015        | 0.5        | 0.003        | 0.5        | 0.001        |\n",
                "\n",
                "The parameter values are chosen so that the following simulated values are on par with the historical data for the US:\n",
                "\n",
                "* standard deviation of output\n",
                "* standard deviation of inflation\n",
                "* standard deviation of the nominal interest rate\n",
                "* correlation between output and inflation\n",
                "* correlation between output and the nominal interest rate"
            ]
        },
        {
            "cell_type": "code",
            "execution_count": null,
            "metadata": {},
            "outputs": [],
            "source": [
                "# Form the covariance matrix for the exogenous white noise processes \n"
            ]
        },
        {
            "cell_type": "code",
            "execution_count": null,
            "metadata": {},
            "outputs": [],
            "source": [
                "# Compute the stochastic simulation using the .stoch_sim() method of nk_model. Set seed to 126.\n"
            ]
        },
        {
            "cell_type": "code",
            "execution_count": null,
            "metadata": {},
            "outputs": [],
            "source": [
                "# Create 12x4 figure. PROVIDED\n",
                "fig = plt.figure(figsize=(12,12))\n",
                "\n",
                "# Create axis 1. PROVIDED\n",
                "ax1 = fig.add_subplot(3,1,1)\n",
                "# Create axis 2. PROVIDED\n",
                "ax2 = fig.add_subplot(3,1,2)\n",
                "# Create axis 3. PROVIDED\n",
                "ax3 = fig.add_subplot(3,1,3)\n",
                "\n",
                "# Set axis 1 ylabel. PROVIDED\n",
                "ax1.set_ylabel('Percent')\n",
                "# Set axis 2 ylabel. PROVIDED\n",
                "ax2.set_ylabel('Percent')\n",
                "# Set axis 3 ylabel. PROVIDED\n",
                "ax3.set_ylabel('Percent')\n",
                "\n",
                "# Plot the output gap on axis 1\n",
                "\n",
                "\n",
                "# Plot inflation (annualized) on axis 2\n",
                "\n",
                "\n",
                "# Plot the nominal interest rate (annualized) on axis 3\n",
                "\n",
                "\n",
                "# Manage whitespace\n"
            ]
        },
        {
            "cell_type": "code",
            "execution_count": null,
            "metadata": {},
            "outputs": [],
            "source": [
                "# Compute standard deviations of output (times 100), inflation (times 400), and the nominal interest rate (times 400)\n"
            ]
        },
        {
            "cell_type": "code",
            "execution_count": null,
            "metadata": {},
            "outputs": [],
            "source": [
                "# Compute correlation coefficients of output, inflation, and the nominal interest rate\n"
            ]
        }
    ],
    "metadata": {
        "anaconda-cloud": {},
        "kernelspec": {
            "display_name": "Python 3 (ipykernel)",
            "language": "python",
            "name": "python3"
        },
        "language_info": {
            "codemirror_mode": {
                "name": "ipython",
                "version": 3
            },
            "file_extension": ".py",
            "mimetype": "text/x-python",
            "name": "python",
            "nbconvert_exporter": "python",
            "pygments_lexer": "ipython3",
            "version": "3.9.12"
        }
    },
    "nbformat": 4,
    "nbformat_minor": 1
}