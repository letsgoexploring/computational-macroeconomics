{
    "cells": [
        {
            "cell_type": "code",
            "execution_count": null,
            "metadata": {},
            "outputs": [],
            "source": [
                "import numpy as np\n",
                "import pandas as pd\n",
                "import linearsolve as ls\n",
                "import matplotlib.pyplot as plt\n",
                "plt.style.use('classic')\n",
                "%matplotlib inline"
            ]
        },
        {
            "cell_type": "markdown",
            "metadata": {},
            "source": [
                "# Class 16: Real and Nominal Business Cycle Data\n",
                "\n",
                "In this notebook, we will briefly explore US macroeconomic data suggesting that, contrary to the assumptions of most RBC models, there is in fact a relationship between real and nominal quantities over the business cycle. We will estimate an aggregate supply equation for the US and a monetary policy rule for the FOMC.\n",
                "\n",
                "## Data\n",
                "\n",
                "The file `business_cycle_data_actual_trend_cycle.csv`, available at https://raw.githubusercontent.com/letsgoexploring/economic-data/master/business-cycle-data/csv/business_cycle_data_actual_trend_cycle.csv, contains actual and trend data for real GDP per capita, real consumption per capita, real investment per capita, real physical capital per capita, TFP, hours per capita, the rea money supply (M2), (nominal) interest rate on 3-month T-bills, the PCE inflation rate, and the unemployment rate; each at quarterly frequency. The GDP, consumption, investment, capital, and money supply data are in terms of 2012 dollars. Hours is measured as an index with the value in October 2012 set to 100."
            ]
        },
        {
            "cell_type": "code",
            "execution_count": null,
            "metadata": {},
            "outputs": [],
            "source": [
                "# Read business_cycle_data_actual_trend.csv into a Pandas DataFrame with the first column set as the index and parse_dates=True\n",
                "\n",
                "\n",
                "# Print the last five rows of the data\n"
            ]
        },
        {
            "cell_type": "markdown",
            "metadata": {},
            "source": [
                "### Exercise: GDP and Inflation\n",
                "\n",
                "Construct a plot of the cyclical components of GDP and inflation. "
            ]
        },
        {
            "cell_type": "code",
            "execution_count": null,
            "metadata": {},
            "outputs": [],
            "source": [
                "# Construct plot\n",
                "\n",
                "\n",
                "",
                "# Y-axis label. PROVIDED\n",
                "plt.ylabel('Percent')\n",
                "# Grid. PROVIDED\n",
                "plt.grid()\n",
                "\n",
                "# Place legend to right of figure. PROVIDED\n",
                "plt.legend(loc='center left', bbox_to_anchor=(1, 0.5));"
            ]
        },
        {
            "cell_type": "markdown",
            "metadata": {},
            "source": [
                "### Exercise: GDP and the 3-Month T-Bill Rate\n",
                "\n",
                "Construct a plot of the cyclical components of GDP and the 3-month T-bill rate. "
            ]
        },
        {
            "cell_type": "code",
            "execution_count": null,
            "metadata": {},
            "outputs": [],
            "source": [
                "# Construct plot\n",
                "\n",
                "\n",
                "",
                "# Y-axis label. PROVIDED\n",
                "plt.ylabel('Percent')\n",
                "# Grid. PROVIDED\n",
                "plt.grid()\n",
                "\n",
                "# Place legend to right of figure. PROVIDED\n",
                "plt.legend(loc='center left', bbox_to_anchor=(1, 0.5));"
            ]
        },
        {
            "cell_type": "markdown",
            "metadata": {},
            "source": [
                "### Standard Deviations and Correlations Between GDP, Inflation, and 3-Month T-Bill Rate\n",
                "\n",
                "Compute the standard deviations of GDP, inflation, and the 3-month T-bill rate."
            ]
        },
        {
            "cell_type": "code",
            "execution_count": null,
            "metadata": {},
            "outputs": [],
            "source": [
                "# Compute standard deviations (times 100)\n"
            ]
        },
        {
            "cell_type": "markdown",
            "metadata": {},
            "source": [
                "Quarterly fluctuations of each series are of the order of 1 to 1.5 percent away from trend.\n",
                "\n",
                "Next, compute the coefficients of corrrelation between GDP, inflation, and the 3-month T-bill rate."
            ]
        },
        {
            "cell_type": "code",
            "execution_count": null,
            "metadata": {},
            "outputs": [],
            "source": [
                "# Compute correlation coefficients\n"
            ]
        },
        {
            "cell_type": "markdown",
            "metadata": {},
            "source": [
                "Strong (but not perfect!) correlations between GDP and inflation and GDP and the T-bill rate suggest link between nominal and real quantities over the business cycle that should be exaplined by business cycle theory."
            ]
        },
        {
            "cell_type": "markdown",
            "metadata": {},
            "source": [
                "## Aggregate Supply\n",
                "\n",
                "Contemporary business cycle models for monetary policy emphasize the importance of an upward-sloping aggreagate supply (AS) curve: a positive relationship between the cyclical components of output and inflation. We will uncover evidence of an upward-sloping AS curve for the US by estimating the following equation:\n",
                "\n",
                "\\begin{align}\n",
                "\\hat{\\pi}_t & = \\beta \\hat{y}_t + \\epsilon_t,\n",
                "\\end{align}\n",
                "\n",
                "where $\\hat{\\pi}_t$ is the cyclical component of inflation, $\\hat{y}_t$ is the cyclical component of real GDP for the US, and $\\epsilon_t$ is the resudual of the regression. We do not estimate a constant because the data are mean 0.\n",
                "\n",
                "Note that estimation exercise is subject to an endogeneity bias because output and inflation are in fact determined simultaneously in equilbrium. However, while the results we obtain my not be robust, they will be suggestive and that's enough for now.\n",
                "\n",
                "First, make a scatter plot of inflation against GDP to verify that there appears to be a relationship worth estimating"
            ]
        },
        {
            "cell_type": "code",
            "execution_count": null,
            "metadata": {},
            "outputs": [],
            "source": [
                "# Create figure and axis\n",
                "\n",
                "\n",
                "",
                "# Scatter plot with point size of 50, opacity 0.25, and label of 'actual'\n",
                "\n",
                "\n",
                "# Set x-axis limits to [-10,6]\n",
                "\n",
                "\n",
                "# Title. PROVIDED\n",
                "ax.set_title('Output and inflation for US')\n",
                "# X-axis label. PROVIDED\n",
                "ax.set_xlabel('GDP - % from trend')\n",
                "# Y-axis label. PROVIDED\n",
                "ax.set_ylabel('inflation - % from trend')\n",
                "\n",
                "# Grid. PROVIDED\n",
                "plt.grid()"
            ]
        },
        {
            "cell_type": "markdown",
            "metadata": {},
            "source": [
                "### OLS Regression"
            ]
        },
        {
            "cell_type": "code",
            "execution_count": null,
            "metadata": {},
            "outputs": [],
            "source": [
                "# Import statsmodels.api\n"
            ]
        },
        {
            "cell_type": "code",
            "execution_count": null,
            "metadata": {},
            "outputs": [],
            "source": [
                "# Define variable 'X' to be equal to the cyclical component of real GDP\n",
                "\n",
                "\n",
                "# Define variable 'Y' to be equal to the cyclical component of inflation\n",
                "\n",
                "\n",
                "# Initialze the OLS model\n",
                "\n",
                "\n",
                "# Fit the OLS model\n",
                "\n",
                "\n",
                "# Display estimation results\n"
            ]
        },
        {
            "cell_type": "markdown",
            "metadata": {},
            "source": [
                "Apparently, a one percent increase in GDP relative to trend corresponds with a 0.12 percent increase in the inflation rate.\n",
                "\n",
                "### Plot results\n",
                "\n",
                "Construct a scatter plot of the underelying data with the predicted values from the OLS regression."
            ]
        },
        {
            "cell_type": "code",
            "execution_count": null,
            "metadata": {},
            "outputs": [],
            "source": [
                "# Create variable 'x_values' as an array from -10 to 6\n",
                "\n",
                "\n",
                "# Create variable 'y_values' using estimated value for beta\n",
                "\n",
                "\n",
                "# Create figure and axis\n",
                "\n",
                "\n",
                "",
                "# Scatter plot with point size of 50, opacity 0.25, and label of 'actual'\n",
                "\n",
                "\n",
                "# Plot estimated relationship as a red line with label of 'fitted'\n",
                "\n",
                "\n",
                "# Set x-axis limits to [-10,6]\n",
                "\n",
                "\n",
                "# Axis labels and title\n",
                "\n",
                "\n",
                "",
                "",
                "# Legend in the lower right corner with scatterpoints=1\n",
                "\n",
                "\n",
                "# Grid. PROVIDED\n",
                "plt.grid()"
            ]
        },
        {
            "cell_type": "markdown",
            "metadata": {},
            "source": [
                "## Taylor's Monetary Policy Rule\n",
                "\n",
                "Central banks in many countries set monetary policy with at least some autonomy. In the US, the Federal Reserve has broad discretion to decide how to manage its federal funds rate target in response to changes in the economy. The Federal Open Market Committee (FOMC), the monetary policymaking body within the Fed, comprises members of the Board of Governors and a rotating group of presidents from five of the regional Federal Reserve Banks.\n",
                "\n",
                "The members of the FOMC can vote to set policy how they like and the composition of the FOMC changes regularly. So it might seem that modeling the decisionmaking of the FOMC would not be fruitful. But in fact, evidence shows that the FOMC does behave in a remarkably systematic way.\n",
                "\n",
                "In his article \"Discretion versus policy rules in practice\" in the December 1993 issue of the *Carnegie-Rochester Conference Series on Public Policy*, John Taylor shows that monetary policy in the US could be approximated by a simple linear equation. (link to article: https://www.sciencedirect.com/science/article/pii/016722319390009L). His equation is:\n",
                "\n",
                "\\begin{align}\n",
                "\\text{Federal funds rate} & = \\text{Inflation} + 0.5\\cdot \\text{Output gap} + 0.5\\cdot(\\text{Inflation - 2}) + 2,\n",
                "\\end{align}\n",
                "\n",
                "where *inflation* is the percent change in the GDP deflator over the previous year and *output gap* is the percent deviation of GDP from a \"target rate\". Taylor assumed a target rate consistent with a constant growth GDP path of 2.2%. Note that the coefficients on inflation sum to 1.5.\n",
                "\n",
                "You can see how well Taylor's rule fit the data as of 1993 in this figure from his paper:\n",
                "\n",
                "<br>\n",
                "\n",
                "<div align=\"center\">\n",
                " <figure style=\"display: table\">\n",
                "   <img src=\"https://raw.githubusercontent.com/letsgoexploring/econ126/master/Img/external_fig_16_Rules_v_Discretion_Taylor_Fig1.png\" width=\"50%\" height=\"50%\"> \n",
                "  <figcaption style=\"display: table-caption; caption-side: top; text-align: center;\" >Figure 1. <strong>Taylor's rule and the actual federal funds rate.</strong> Source: Taylor (1993)</figcaption>\n",
                "</figure> \n",
                "</div>\n",
                "\n",
                "<br>\n",
                "\n",
                "Taylor doesn't estimate his equation precisely and it's remarkable that such a simple linear equation would even come close to matching policy. In this example, we will gather data to replicate Taylor's rule and estimate his rule using OLS."
            ]
        },
        {
            "cell_type": "markdown",
            "metadata": {},
            "source": [
                "### Federal Funds Rate\n",
                "\n",
                "The federal funds are is the interest rate on overnight interbank loans. The FOMC sets a taget for the fed funds rate and implements monetary policy so that the actual (or *effective*) federal unds rate equals the FOMS's target. The effective federal funds rate has FRED series ID `FEDFUNDS` and is available here: https://fred.stlouisfed.org/series/FEDFUNDS. Notice that there are 62 lines of text *before* the line starting with \"DATE\"."
            ]
        },
        {
            "cell_type": "code",
            "execution_count": null,
            "metadata": {},
            "outputs": [],
            "source": [
                "# Import federal funds rate data from FRED. Use arguments: sep='\\s+',skiprows=62,index_col=0,parse_dates=True\n",
                "\n",
                "\n",
                "# Set fed_funds equal to 'VALUE' column of fed_funds\n",
                "\n",
                "\n",
                "# Use .resample('QS').mean() method of 'fed_funds' to convert the fed funds data from monthdy to quarterly\n",
                "\n",
                "\n",
                "# Plot the federal funds rate. PROVIDED\n",
                "plt.plot(fed_funds)\n",
                "\n",
                "# Grid. PROVIDED\n",
                "plt.grid()"
            ]
        },
        {
            "cell_type": "markdown",
            "metadata": {},
            "source": [
                "# Inflation\n",
                "\n",
                "Taylor computes the inflation rate as the percent change in the GDP deflator from one year prior:\n",
                "\n",
                "\\begin{align}\n",
                "\\text{Inflation}_t = \\frac{\\text{GDP deflator}_t - \\text{GDP deflator}_{t-4}}{\\text{GDP deflator}_{t-4}}\\cdot 100\n",
                "\\end{align}\n",
                "\n",
                "The GDP deflator has FRED series ID `GDPDEF` and is available here: https://fred.stlouisfed.org/series/GDPDEF. Notice that there are 15 lines of text *before* the line starting with \"DATE\"."
            ]
        },
        {
            "cell_type": "code",
            "execution_count": null,
            "metadata": {},
            "outputs": [],
            "source": [
                "# Import GDP deflator data from FRED. PROVIDED\n",
                "deflator = pd.read_csv('https://fred.stlouisfed.org/data/GDPDEF.txt',sep='\\s+',skiprows=15,index_col=0,parse_dates=True)\n",
                "\n",
                "# Set deflator equal to 'VALUE' column of deflator. PROVIDED\n",
                "deflator = deflator['VALUE']\n",
                "\n",
                "# Compute the inflation rate\n",
                "\n",
                "\n",
                "# Plot the inflation rate data. PROVIDED\n",
                "plt.plot(inflation)\n",
                "\n",
                "# Grid. PROVIDED\n",
                "plt.grid()"
            ]
        },
        {
            "cell_type": "markdown",
            "metadata": {},
            "source": [
                "### Output gap\n",
                "\n",
                "The output gap is measured as the percent difference of real GDP from the CBO's estimate of the potential real GDP:\n",
                "\n",
                "\\begin{align}\n",
                "\\text{Output gap} & = \\left(\\frac{\\text{Real GDP}-\\text{Real potential GDP}}{\\text{Real potential GDP}}\\right)\\cdot 100\n",
                "\\end{align}\n",
                "\n",
                "Real GDP has FRED series ID `GDPC1` and is available here: https://fred.stlouisfed.org/series/GDPC1. Notice that there are 17 lines of text *before* the line starting with \"DATE\"."
            ]
        },
        {
            "cell_type": "code",
            "execution_count": null,
            "metadata": {},
            "outputs": [],
            "source": [
                "# Import real GDP data from FRED. PROVIDED\n",
                "gdp_actual = pd.read_csv('https://fred.stlouisfed.org/data/GDPC1.txt',sep='\\s+',skiprows=17,index_col=0,parse_dates=True)\n",
                "\n",
                "# Set gdp_actual equal to 'VALUE' column of gdp_actual. PROVIDED\n",
                "gdp_actual = gdp_actual['VALUE']"
            ]
        },
        {
            "cell_type": "markdown",
            "metadata": {},
            "source": [
                "Potential real GDP has FRED series ID `GDPPOT` and is available here: https://fred.stlouisfed.org/series/GDPPOT. Notice that there are 12 lines of text *before* the line starting with \"DATE\"."
            ]
        },
        {
            "cell_type": "code",
            "execution_count": null,
            "metadata": {},
            "outputs": [],
            "source": [
                "# Import potential real GDP data from FRED. PROVIDED\n",
                "gdp_potential = pd.read_csv('https://fred.stlouisfed.org/data/GDPPOT.txt',sep='\\s+',skiprows=12,index_col=0,parse_dates=True)\n",
                "\n",
                "# Set gdp_potential equal to 'VALUE' column of gdp_potential. PROVIDED\n",
                "gdp_potential = gdp_potential['VALUE']"
            ]
        },
        {
            "cell_type": "code",
            "execution_count": null,
            "metadata": {},
            "outputs": [],
            "source": [
                "# Plot the actual and potential real GDP data with a legend. CELL PROVIDED\n",
                "plt.plot(gdp_actual,label='actual')\n",
                "plt.plot(gdp_potential,label='potential')\n",
                "plt.legend(loc='lower right')\n",
                "plt.title('Real GDP')\n",
                "plt.grid()"
            ]
        },
        {
            "cell_type": "markdown",
            "metadata": {},
            "source": [
                "### Combine Data into a DataFrame"
            ]
        },
        {
            "cell_type": "code",
            "execution_count": null,
            "metadata": {},
            "outputs": [],
            "source": [
                "# Create variable 'df' that is a DataFrame storing fed funds, inflation, actual and potential real GDP\n",
                "\n",
                "\n",
                "",
                "",
                "",
                "",
                "",
                "# Drop missing values from 'df'\n",
                "\n",
                "\n",
                ""
            ]
        },
        {
            "cell_type": "code",
            "execution_count": null,
            "metadata": {},
            "outputs": [],
            "source": [
                "# Construct an output gap column\n",
                "\n",
                "\n",
                "",
                "",
                ""
            ]
        },
        {
            "cell_type": "markdown",
            "metadata": {},
            "source": [
                "Recall Taylor's rule:\n",
                "\n",
                "\\begin{align}\n",
                "\\text{Federal funds rate} & = \\text{Inflation} + 0.5\\cdot \\text{Output gap} + 0.5\\cdot(\\text{Inflation - 2}) + 2\n",
                "\\end{align}"
            ]
        },
        {
            "cell_type": "code",
            "execution_count": null,
            "metadata": {},
            "outputs": [],
            "source": [
                "# Construct a column called 'taylor' that implements Taylor's rule\n"
            ]
        },
        {
            "cell_type": "code",
            "execution_count": null,
            "metadata": {},
            "outputs": [],
            "source": [
                "# Plot actual federal funds rate and the federal funds rate implied by Taylor's rule. CELL PROVIDED\n",
                "plt.plot(df['fed_funds'],label='actual')\n",
                "plt.plot(df['taylor'],label='Taylor')\n",
                "plt.title('Federal Funds Rate')\n",
                "plt.legend()\n",
                "plt.grid()"
            ]
        },
        {
            "cell_type": "markdown",
            "metadata": {},
            "source": [
                "### OLS Model of the FOMC's Monetary Policy Rule\n",
                "\n",
                "Following the format suggested by Taylor's rule, we'll estimate the following monetary policy rule for the US:\n",
                "\n",
                "\\begin{align}\n",
                "\\hat{i}_t & = \\bar{\\imath} + \\phi_{\\pi}\\pi_t + \\phi_{y} y_t + \\epsilon_t\n",
                "\\end{align}\n",
                "\n",
                "where $\\pi_t$ is the percent change in the GDP deflator over the previous year and $y_t$ is the output gap measured as the percent difference of real GDP from the CBO's estimate of the potential real GDP. $\\phi_{\\pi}$ is the weight that the FOMC places on inflation in the rule and $\\phi_{y}$ is the weight that the central bank places on the output gap. $\\epsilon_t$ is the residual of the regression. "
            ]
        },
        {
            "cell_type": "code",
            "execution_count": null,
            "metadata": {},
            "outputs": [],
            "source": [
                "# Create variable 'X' with columns inflation, output and a constant\n",
                "\n",
                "\n",
                "# Create variable 'Y' equal to the federal funds rate\n",
                "\n",
                "\n",
                "# Initialize OLS model\n",
                "\n",
                "\n",
                "# Fit OLS model\n",
                "\n",
                "\n",
                "# Print regression results\n"
            ]
        },
        {
            "cell_type": "markdown",
            "metadata": {},
            "source": [
                "The estimated constant in the regression is about 0.94 compared with 1 in Taylor's rule. The estimated coefficnets on inflation and the output gap are 1.22 and 0.12 compared with 1.5 and 0.5 in Taylor's rule. All three parameter estimates are remarkably close to Taylor's proposal. It's amazing that his rule still preforms will after almost 30 years.\n",
                "\n",
                "Note, Taylor doens't argue that his rule is *optimal* in the sense that it is the best way for the FOMC to meet it's objectives. But there is evidence that it is actually very close to an optimal rule and therefore evidence that the FOMC does in fact tend to make good policy decisions."
            ]
        },
        {
            "cell_type": "code",
            "execution_count": null,
            "metadata": {},
            "outputs": [],
            "source": [
                "# Add column 'fed_funds_predicted' to df equal to predicted fed funds rate values from regression\n"
            ]
        },
        {
            "cell_type": "code",
            "execution_count": null,
            "metadata": {},
            "outputs": [],
            "source": [
                "# Plot actual federal funds rate and the predicted federal funds. CELL PROVIDED\n",
                "plt.plot(df['fed_funds'],label='actual')\n",
                "plt.plot(df['fed_funds_predicted'],label='predicted')\n",
                "plt.title('Federal Funds Rate')\n",
                "plt.legend()\n",
                "plt.grid()"
            ]
        }
    ],
    "metadata": {
        "anaconda-cloud": {},
        "kernelspec": {
            "display_name": "Python 3 (ipykernel)",
            "language": "python",
            "name": "python3"
        },
        "language_info": {
            "codemirror_mode": {
                "name": "ipython",
                "version": 3
            },
            "file_extension": ".py",
            "mimetype": "text/x-python",
            "name": "python",
            "nbconvert_exporter": "python",
            "pygments_lexer": "ipython3",
            "version": "3.9.12"
        }
    },
    "nbformat": 4,
    "nbformat_minor": 1
}