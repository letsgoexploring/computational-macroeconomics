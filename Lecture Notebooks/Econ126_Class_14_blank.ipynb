{
    "cells": [
        {
            "cell_type": "code",
            "execution_count": null,
            "metadata": {},
            "outputs": [],
            "source": [
                "import numpy as np\n",
                "import pandas as pd\n",
                "import linearsolve as ls\n",
                "import matplotlib.pyplot as plt\n",
                "plt.style.use('classic')\n",
                "%matplotlib inline"
            ]
        },
        {
            "cell_type": "markdown",
            "metadata": {},
            "source": [
                "# Class 14: Prescott's Real Business Cycle Model I\n",
                "\n",
                "In this notebook, we'll consider a centralized version of the model from pages 11-17 in Edward Prescott's article \"Theory Ahead of Business Cycle Measurement in the Fall 1986 of the Federal Reserve Bank of Minneapolis' *Quarterly Review* (link to article: https://www.minneapolisfed.org/research/qr/qr1042.pdf). The model is just like the RBC model that we studying in the previous lecture, except that now we include an endogenous labor supply."
            ]
        },
        {
            "cell_type": "markdown",
            "metadata": {},
            "source": [
                "## Prescott's RBC Model with Labor\n",
                "\n",
                "The equilibrium conditions for Prescott's RBC model with labor are:\n",
                "\n",
                "\\begin{align}\n",
                "\\frac{1}{C_t} & = \\beta E_t \\left[\\frac{\\alpha A_{t+1}K_{t+1}^{\\alpha-1}L_{t+1}^{1-\\alpha} +1-\\delta }{C_{t+1}}\\right]\\\\\n",
                "\\frac{\\varphi}{1-L_t} & = \\frac{(1-\\alpha)A_tK_t^{\\alpha}L_t^{-\\alpha}}{C_t} \\\\\n",
                "Y_t & = A_t K_t^{\\alpha}L_t^{1-\\alpha}\\\\\n",
                "K_{t+1} & = I_t + (1-\\delta) K_t\\\\\n",
                "Y_t & = C_t + I_t\\\\\n",
                "\\log A_{t+1} & = \\rho \\log A_t + \\epsilon_{t+1}\n",
                "\\end{align}\n",
                "\n",
                "where $\\epsilon_{t+1} \\sim \\mathcal{N}(0,\\sigma^2)$. \n",
                "\n",
                "The objective is use `linearsolve` to simulate impulse responses to a TFP shock using the following parameter values for the simulation:\n",
                "\n",
                "| $$\\rho$$ | $$\\sigma$$ | $$\\beta$$ | $$\\varphi$$ | $$\\alpha$$ | $$\\delta $$ |\n",
                "|----------|------------|-------------|-----------|------------|-------------|\n",
                "| 0.75     | 0.006      | 0.99      | 1.7317      | 0.35       |  0.025      |\n",
                "\n",
                "\n",
                "The value for $\\beta$ implies a steady state (annualized) real interest rate of about 4 percent: \n",
                "    \n",
                "\\begin{align}\n",
                "4 \\cdot \\left(\\beta^{-1} - 1\\right)  & \\approx 0.04040\n",
                "\\end{align}\n",
                "\n",
                "$\\rho = 0.75$ and $\\sigma = 0.006$ are consistent with the statistical properties of the cyclical component of TFP in the US. $\\alpha$ is set so that, consistent with the long-run average of the US, the labor share of income is about 65 percent of GDP. The deprecation rate of capital is calibrated to be about 10 percent annually. Finally, $\\varphi$ was chosen last to ensure that in the steady state households allocate about 33 percent of their available time to labor."
            ]
        },
        {
            "cell_type": "markdown",
            "metadata": {},
            "source": [
                "## Model Preparation\n",
                "\n",
                "Before proceding, let's recast the model in the form required for `linearsolve`. Write the model with all variables moved to the left-hand side of the equations and dropping the expecations operator $E_t$ and the exogenous shock $\\epsilon_{t+1}$:\n",
                "\n",
                "\\begin{align}\n",
                "0 & = \\beta\\left[\\frac{\\alpha A_{t+1}K_{t+1}^{\\alpha-1}L_{t+1}^{1-\\alpha} +1-\\delta }{C_{t+1}}\\right] - \\frac{1}{C_t}\\\\\n",
                "0 & = \\frac{(1-\\alpha)A_tK_t^{\\alpha}L_t^{-\\alpha}}{C_t} - \\frac{\\varphi}{1-L_t}\\\\\n",
                "0 & = A_t K_t^{\\alpha}L_t^{1-\\alpha} - Y_t\\\\\n",
                "0 & = I_t + (1-\\delta) K_t - K_{t+1}\\\\\n",
                "0 & = C_t + I_t - Y_t\\\\\n",
                "0 & = \\rho \\log A_t - \\log A_{t+1}\n",
                "\\end{align}\n",
                "\n",
                "Remember, capital and TFP are called *state variables* because they're $t+1$ values are predetermined. Output, consumption, and investment are called a *costate* or *control* variables. Note that the model as 5 equations in 5 endogenous variables.\n",
                "\n"
            ]
        },
        {
            "cell_type": "markdown",
            "metadata": {},
            "source": [
                "## Initialization, Approximation, and Solution\n",
                "\n",
                "The next several cells initialize the model in `linearsolve` and then approximate and solve it."
            ]
        },
        {
            "cell_type": "code",
            "execution_count": null,
            "metadata": {},
            "outputs": [],
            "source": [
                "# Create a variable called 'parameters' that stores the model parameter values in a Pandas Series\n",
                "\n",
                "\n",
                "",
                "",
                "",
                "",
                "",
                "# Print the model's parameters\n"
            ]
        },
        {
            "cell_type": "code",
            "execution_count": null,
            "metadata": {},
            "outputs": [],
            "source": [
                "# Create a variable called 'sigma' that stores the value of sigma\n"
            ]
        },
        {
            "cell_type": "code",
            "execution_count": null,
            "metadata": {},
            "outputs": [],
            "source": [
                "# Create variable called 'var_names' that stores the variable names in a list with exogenous state variables\n",
                "# ordered first, endogenous state variables ordered second, and control variables ordered last.\n",
                "\n",
                "\n",
                "# Create variable called 'shock_names' that stores an exogenous shock name for each exogenous state variable.\n"
            ]
        },
        {
            "cell_type": "code",
            "execution_count": null,
            "metadata": {},
            "outputs": [],
            "source": [
                "# Define a function that evaluates the equilibrium conditions of the model solved for zero. PROVIDED\n",
                "def equilibrium_equations(variables_forward,variables_current,parameters):\n",
                "\n",
                "    # Parameters. PROVIDED\n",
                "    p = parameters\n",
                "\n",
                "    # Current variables. PROVIDED\n",
                "    cur = variables_current\n",
                "\n",
                "    # Forward variables. PROVIDED\n",
                "    fwd = variables_forward\n",
                "\n",
                "    # Define variable to store MPK(t+1). Will make things easier later.\n",
                "\n",
                "\n",
                "    # Define variable to store MPL(t). Will make things easier later.\n",
                "\n",
                "\n",
                "    # Euler equation\n",
                "\n",
                "\n",
                "    # Labor-leisure choice\n",
                "\n",
                "\n",
                "    # Production function\n",
                "\n",
                "\n",
                "    # Capital evolution. PROVIDED\n",
                "    capital_evolution = cur.i + (1 - p.delta)*cur.k - fwd.k\n",
                "\n",
                "    # Market clearing. PROVIDED\n",
                "    market_clearing = cur.c+cur.i - cur.y\n",
                "\n",
                "    # Exogenous tfp. PROVIDED\n",
                "    tfp_process = p.rho*np.log(cur.a) - np.log(fwd.a)\n",
                "\n",
                "    # Stack equilibrium conditions into a numpy array\n",
                "\n",
                "\n",
                "",
                "",
                "",
                "",
                "",
                ""
            ]
        },
        {
            "cell_type": "markdown",
            "metadata": {},
            "source": [
                "Next, initialize the model using `ls.model` which takes the following required arguments:\n",
                "\n",
                "* `equations`\n",
                "* `n_states`\n",
                "* `var_names`\n",
                "* `shock_names`\n",
                "* `parameters`"
            ]
        },
        {
            "cell_type": "code",
            "execution_count": null,
            "metadata": {},
            "outputs": [],
            "source": [
                "# Initialize the model into a variable named 'rbc_model'\n",
                "\n",
                "\n",
                "",
                "",
                "",
                ""
            ]
        },
        {
            "cell_type": "code",
            "execution_count": null,
            "metadata": {},
            "outputs": [],
            "source": [
                "# Compute the steady state numerically using .compute_ss() method of rbc_model\n",
                "\n",
                "\n",
                "",
                "# Print the computed steady state\n"
            ]
        },
        {
            "cell_type": "code",
            "execution_count": null,
            "metadata": {},
            "outputs": [],
            "source": [
                "# Find the log-linear approximation around the non-stochastic steady state and solve using .approximate_and_solve() method of rbc_model\n"
            ]
        },
        {
            "cell_type": "markdown",
            "metadata": {},
            "source": [
                "## Impulse Responses\n",
                "\n",
                "Compute a 26 period impulse responses of the model's variables to a 0.01 unit shock to TFP in period 5."
            ]
        },
        {
            "cell_type": "code",
            "execution_count": null,
            "metadata": {},
            "outputs": [],
            "source": [
                "# Compute impulse responses\n",
                "\n",
                "\n",
                "# Print the first 10 rows of the computed impulse responses to the TFP shock\n"
            ]
        },
        {
            "cell_type": "markdown",
            "metadata": {},
            "source": [
                "Construct a $2\\times3$ grid of plots of simulated TFP, output, labor, consumption, investment, and capital. Be sure to multiply simulated values by 100 so that vertical axis units are in \"percent deviation from steady state.\""
            ]
        },
        {
            "cell_type": "code",
            "execution_count": null,
            "metadata": {},
            "outputs": [],
            "source": [
                "# Create figure. PROVIDED\n",
                "fig = plt.figure(figsize=(18,8))\n",
                "\n",
                "# Create upper-left axis. PROVIDED\n",
                "ax1 = fig.add_subplot(2,3,1)\n",
                "# Create upper-center axis. PROVIDED\n",
                "ax2 = fig.add_subplot(2,3,2)\n",
                "# Create upper-right axis. PROVIDED\n",
                "ax3 = fig.add_subplot(2,3,3)\n",
                "# Create lower-left axis. PROVIDED\n",
                "ax4 = fig.add_subplot(2,3,4)\n",
                "# Create lower-center axis. PROVIDED\n",
                "ax5 = fig.add_subplot(2,3,5)\n",
                "# Create lower-right axis. PROVIDED\n",
                "ax6 = fig.add_subplot(2,3,6)\n",
                "\n",
                "# Set axis 1 ylabel. PROVIDED\n",
                "ax1.set_ylabel('% dev from steady state')\n",
                "# Set axis 2 ylabel. PROVIDED\n",
                "ax2.set_ylabel('% dev from steady state')\n",
                "# Set axis 3 ylabel. PROVIDED\n",
                "ax3.set_ylabel('% dev from steady state')\n",
                "# Set axis 4 ylabel. PROVIDED\n",
                "ax4.set_ylabel('% dev from steady state')\n",
                "# Set axis 5 ylabel. PROVIDED\n",
                "ax5.set_ylabel('% dev from steady state')\n",
                "# Set axis 6 ylabel. PROVIDED\n",
                "ax6.set_ylabel('% dev from steady state')\n",
                "\n",
                "# Set axis 1 limits. PROVIDED\n",
                "ax1.set_ylim([-0.5,2])\n",
                "# Set axis 2 limits. PROVIDED\n",
                "ax2.set_ylim([-0.5,2])\n",
                "# Set axis 3 limits. PROVIDED\n",
                "ax3.set_ylim([-0.5,2])\n",
                "# Set axis 4 limits. PROVIDED\n",
                "ax4.set_ylim([-0.1,0.4])\n",
                "# Set axis 5 limits. PROVIDED\n",
                "ax5.set_ylim([-2,8])\n",
                "# Set axis 6 limits. PROVIDED\n",
                "ax6.set_ylim([-0.2,0.8])\n",
                "\n",
                "# Plot TFP on axis 1\n",
                "\n",
                "\n",
                "# Plot output on axis 2\n",
                "\n",
                "\n",
                "# Plot labor on axis 3\n",
                "\n",
                "\n",
                "# Plot consumption on axis 4\n",
                "\n",
                "\n",
                "# Plot investment on axis 5\n",
                "\n",
                "\n",
                "# Plot capital on axis 6\n",
                "\n",
                "\n",
                "# Manage whitespace\n"
            ]
        }
    ],
    "metadata": {
        "anaconda-cloud": {},
        "kernelspec": {
            "display_name": "Python 3 (ipykernel)",
            "language": "python",
            "name": "python3"
        },
        "language_info": {
            "codemirror_mode": {
                "name": "ipython",
                "version": 3
            },
            "file_extension": ".py",
            "mimetype": "text/x-python",
            "name": "python",
            "nbconvert_exporter": "python",
            "pygments_lexer": "ipython3",
            "version": "3.9.12"
        }
    },
    "nbformat": 4,
    "nbformat_minor": 1
}