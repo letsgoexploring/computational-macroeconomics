{
 "cells": [
  {
   "cell_type": "code",
   "execution_count": 1,
   "id": "57cebce9",
   "metadata": {
    "scrolled": true
   },
   "outputs": [],
   "source": [
    "import pandas as pd\n",
    "\n",
    "\n",
    "# 0. Preliminaries\n",
    "\n",
    "# Set the current value of the PWT data file\n",
    "\n",
    "# current_pwt_file = 'https://www.rug.nl/ggdc/docs/'+current_pwt_file\n",
    "current_pwt_file = '../Xlsx/pwt1001.xlsx'\n",
    "\n",
    "# Export path: Set to empty string '' if you want to export data to current directory\n",
    "export_path = '../Csv/'\n",
    "\n",
    "\n",
    "# 1. Import data\n",
    "data = pd.read_excel(current_pwt_file,sheet_name='Data')\n",
    "\n",
    "\n",
    "# 2. Metadata\n",
    "\n",
    "# Find PWT version\n",
    "info = pd.read_excel(current_pwt_file,sheet_name='Info',header=None)\n",
    "legend = pd.read_excel(current_pwt_file,sheet_name='Legend',index_col=0)\n",
    "version = info.iloc[0][0].split(' ')[-1]\n",
    "\n",
    "# Find base year for real variables\n",
    "base_year = legend.loc['rgdpe']['Variable definition'].split(' ')[-1].split('US')[0]\n",
    "\n",
    "# Most recent year\n",
    "final_year = data[data['countrycode']=='USA'].sort_values('year')['year'].iloc[0]\n",
    "\n",
    "# Store metadata as Series\n",
    "metadata = pd.Series(dtype=str,name='Values')\n",
    "metadata['version'] = version\n",
    "metadata['base_year'] = base_year\n",
    "metadata['final_year'] = final_year\n",
    "metadata['gdp_per_capita_units'] = base_year+' dollars per person'\n",
    "\n",
    "# Export metadata\n",
    "metadata.to_csv(export_path+'pwt_metadata.csv')\n",
    "\n",
    "\n",
    "# 3. Create dataset\n",
    "\n",
    "# Variable equals last year in data\n",
    "year = data.year.iloc[-1]\n",
    "\n",
    "# Restrict data to final year\n",
    "data = data[data['year']==year].reset_index()\n",
    "\n",
    "# Select columns: 'countrycode','country','cgdpo','emp','hc','ck'\n",
    "data = data[['countrycode','country','cgdpo','emp','hc','ck']]\n",
    "\n",
    "# Rename columns\n",
    "data.columns = ['country_code','country','gdp','labor','human_capital','physical_capital']\n",
    "\n",
    "# Drop countries with missing observations\n",
    "data = data.dropna()\n",
    "\n",
    "\n",
    "# 4. Export data\n",
    "data[['country_code','country','gdp','labor','human_capital','physical_capital']].to_csv(export_path+'cross_country_production.csv',index=False)"
   ]
  }
 ],
 "metadata": {
  "kernelspec": {
   "display_name": "Python 3 (ipykernel)",
   "language": "python",
   "name": "python3"
  },
  "language_info": {
   "codemirror_mode": {
    "name": "ipython",
    "version": 3
   },
   "file_extension": ".py",
   "mimetype": "text/x-python",
   "name": "python",
   "nbconvert_exporter": "python",
   "pygments_lexer": "ipython3",
   "version": "3.11.5"
  }
 },
 "nbformat": 4,
 "nbformat_minor": 5
}
